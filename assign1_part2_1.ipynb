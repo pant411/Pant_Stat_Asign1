{
 "cells": [
  {
   "cell_type": "code",
   "execution_count": 769,
   "id": "47bb5728",
   "metadata": {},
   "outputs": [
    {
     "data": {
      "text/plain": [
       "'/Users/pantchanit/Documents/Pant_Stat_Asign1'"
      ]
     },
     "execution_count": 769,
     "metadata": {},
     "output_type": "execute_result"
    }
   ],
   "source": [
    "import os\n",
    "os.chdir(os.getcwd())\n",
    "os.getcwd()"
   ]
  },
  {
   "cell_type": "code",
   "execution_count": 770,
   "id": "4e530cf8",
   "metadata": {},
   "outputs": [],
   "source": [
    "import pandas as pd\n",
    "import numpy as np\n",
    "import matplotlib as mpe\n",
    "import seaborn as sns\n",
    "%matplotlib inline"
   ]
  },
  {
   "cell_type": "code",
   "execution_count": 771,
   "id": "9da6e33e",
   "metadata": {},
   "outputs": [
    {
     "data": {
      "text/html": [
       "<div>\n",
       "<style scoped>\n",
       "    .dataframe tbody tr th:only-of-type {\n",
       "        vertical-align: middle;\n",
       "    }\n",
       "\n",
       "    .dataframe tbody tr th {\n",
       "        vertical-align: top;\n",
       "    }\n",
       "\n",
       "    .dataframe thead th {\n",
       "        text-align: right;\n",
       "    }\n",
       "</style>\n",
       "<table border=\"1\" class=\"dataframe\">\n",
       "  <thead>\n",
       "    <tr style=\"text-align: right;\">\n",
       "      <th></th>\n",
       "      <th>Country Name</th>\n",
       "      <th>Region</th>\n",
       "      <th>ThirdWorld</th>\n",
       "    </tr>\n",
       "  </thead>\n",
       "  <tbody>\n",
       "    <tr>\n",
       "      <th>0</th>\n",
       "      <td>Afghanistan</td>\n",
       "      <td>South Asia</td>\n",
       "      <td>1</td>\n",
       "    </tr>\n",
       "    <tr>\n",
       "      <th>1</th>\n",
       "      <td>Albania</td>\n",
       "      <td>Eastern Europe</td>\n",
       "      <td>0</td>\n",
       "    </tr>\n",
       "    <tr>\n",
       "      <th>2</th>\n",
       "      <td>Algeria</td>\n",
       "      <td>Africa</td>\n",
       "      <td>0</td>\n",
       "    </tr>\n",
       "    <tr>\n",
       "      <th>3</th>\n",
       "      <td>American Samoa</td>\n",
       "      <td>Australia and Oceanea</td>\n",
       "      <td>0</td>\n",
       "    </tr>\n",
       "    <tr>\n",
       "      <th>4</th>\n",
       "      <td>Andorra</td>\n",
       "      <td>Western Europe</td>\n",
       "      <td>0</td>\n",
       "    </tr>\n",
       "  </tbody>\n",
       "</table>\n",
       "</div>"
      ],
      "text/plain": [
       "     Country Name                 Region  ThirdWorld\n",
       "0     Afghanistan             South Asia           1\n",
       "1         Albania         Eastern Europe           0\n",
       "2         Algeria                 Africa           0\n",
       "3  American Samoa  Australia and Oceanea           0\n",
       "4         Andorra         Western Europe           0"
      ]
     },
     "execution_count": 771,
     "metadata": {},
     "output_type": "execute_result"
    }
   ],
   "source": [
    "country = pd.read_excel('countries_regions.xlsx')\n",
    "country.head()"
   ]
  },
  {
   "cell_type": "markdown",
   "id": "3d485f7f",
   "metadata": {},
   "source": [
    "# GET DATA Broadband"
   ]
  },
  {
   "cell_type": "code",
   "execution_count": 772,
   "id": "1be97087",
   "metadata": {},
   "outputs": [
    {
     "data": {
      "text/html": [
       "<div>\n",
       "<style scoped>\n",
       "    .dataframe tbody tr th:only-of-type {\n",
       "        vertical-align: middle;\n",
       "    }\n",
       "\n",
       "    .dataframe tbody tr th {\n",
       "        vertical-align: top;\n",
       "    }\n",
       "\n",
       "    .dataframe thead th {\n",
       "        text-align: right;\n",
       "    }\n",
       "</style>\n",
       "<table border=\"1\" class=\"dataframe\">\n",
       "  <thead>\n",
       "    <tr style=\"text-align: right;\">\n",
       "      <th></th>\n",
       "      <th>Country Name</th>\n",
       "      <th>Country Code</th>\n",
       "      <th>Series Name</th>\n",
       "      <th>Series Code</th>\n",
       "      <th>1990 [YR1990]</th>\n",
       "      <th>1991 [YR1991]</th>\n",
       "      <th>1992 [YR1992]</th>\n",
       "      <th>1993 [YR1993]</th>\n",
       "      <th>1994 [YR1994]</th>\n",
       "      <th>1995 [YR1995]</th>\n",
       "      <th>...</th>\n",
       "      <th>2011 [YR2011]</th>\n",
       "      <th>2012 [YR2012]</th>\n",
       "      <th>2013 [YR2013]</th>\n",
       "      <th>2014 [YR2014]</th>\n",
       "      <th>2015 [YR2015]</th>\n",
       "      <th>2016 [YR2016]</th>\n",
       "      <th>2017 [YR2017]</th>\n",
       "      <th>2018 [YR2018]</th>\n",
       "      <th>2019 [YR2019]</th>\n",
       "      <th>2020 [YR2020]</th>\n",
       "    </tr>\n",
       "  </thead>\n",
       "  <tbody>\n",
       "    <tr>\n",
       "      <th>0</th>\n",
       "      <td>Afghanistan</td>\n",
       "      <td>AFG</td>\n",
       "      <td>Fixed broadband subscriptions (per 100 people)</td>\n",
       "      <td>IT.NET.BBND.P2</td>\n",
       "      <td>NaN</td>\n",
       "      <td>NaN</td>\n",
       "      <td>NaN</td>\n",
       "      <td>NaN</td>\n",
       "      <td>NaN</td>\n",
       "      <td>NaN</td>\n",
       "      <td>...</td>\n",
       "      <td>NaN</td>\n",
       "      <td>0.004814</td>\n",
       "      <td>0.004648</td>\n",
       "      <td>0.004495</td>\n",
       "      <td>0.020535</td>\n",
       "      <td>0.024874</td>\n",
       "      <td>0.025297</td>\n",
       "      <td>0.043041</td>\n",
       "      <td>0.051741</td>\n",
       "      <td>0.068254</td>\n",
       "    </tr>\n",
       "    <tr>\n",
       "      <th>1</th>\n",
       "      <td>Albania</td>\n",
       "      <td>ALB</td>\n",
       "      <td>Fixed broadband subscriptions (per 100 people)</td>\n",
       "      <td>IT.NET.BBND.P2</td>\n",
       "      <td>NaN</td>\n",
       "      <td>NaN</td>\n",
       "      <td>NaN</td>\n",
       "      <td>NaN</td>\n",
       "      <td>NaN</td>\n",
       "      <td>NaN</td>\n",
       "      <td>...</td>\n",
       "      <td>4.377872</td>\n",
       "      <td>5.493573</td>\n",
       "      <td>6.286818</td>\n",
       "      <td>7.180321</td>\n",
       "      <td>8.402315</td>\n",
       "      <td>9.228641</td>\n",
       "      <td>10.526845</td>\n",
       "      <td>12.555659</td>\n",
       "      <td>15.140735</td>\n",
       "      <td>17.684951</td>\n",
       "    </tr>\n",
       "    <tr>\n",
       "      <th>2</th>\n",
       "      <td>Algeria</td>\n",
       "      <td>DZA</td>\n",
       "      <td>Fixed broadband subscriptions (per 100 people)</td>\n",
       "      <td>IT.NET.BBND.P2</td>\n",
       "      <td>NaN</td>\n",
       "      <td>NaN</td>\n",
       "      <td>NaN</td>\n",
       "      <td>NaN</td>\n",
       "      <td>NaN</td>\n",
       "      <td>NaN</td>\n",
       "      <td>...</td>\n",
       "      <td>2.675159</td>\n",
       "      <td>3.088892</td>\n",
       "      <td>3.356045</td>\n",
       "      <td>4.109816</td>\n",
       "      <td>5.712209</td>\n",
       "      <td>7.051711</td>\n",
       "      <td>7.756294</td>\n",
       "      <td>7.262935</td>\n",
       "      <td>8.321684</td>\n",
       "      <td>8.643942</td>\n",
       "    </tr>\n",
       "    <tr>\n",
       "      <th>3</th>\n",
       "      <td>American Samoa</td>\n",
       "      <td>ASM</td>\n",
       "      <td>Fixed broadband subscriptions (per 100 people)</td>\n",
       "      <td>IT.NET.BBND.P2</td>\n",
       "      <td>NaN</td>\n",
       "      <td>NaN</td>\n",
       "      <td>NaN</td>\n",
       "      <td>NaN</td>\n",
       "      <td>NaN</td>\n",
       "      <td>NaN</td>\n",
       "      <td>...</td>\n",
       "      <td>NaN</td>\n",
       "      <td>NaN</td>\n",
       "      <td>NaN</td>\n",
       "      <td>NaN</td>\n",
       "      <td>NaN</td>\n",
       "      <td>NaN</td>\n",
       "      <td>NaN</td>\n",
       "      <td>NaN</td>\n",
       "      <td>NaN</td>\n",
       "      <td>NaN</td>\n",
       "    </tr>\n",
       "    <tr>\n",
       "      <th>4</th>\n",
       "      <td>Andorra</td>\n",
       "      <td>AND</td>\n",
       "      <td>Fixed broadband subscriptions (per 100 people)</td>\n",
       "      <td>IT.NET.BBND.P2</td>\n",
       "      <td>NaN</td>\n",
       "      <td>NaN</td>\n",
       "      <td>NaN</td>\n",
       "      <td>NaN</td>\n",
       "      <td>NaN</td>\n",
       "      <td>NaN</td>\n",
       "      <td>...</td>\n",
       "      <td>30.762893</td>\n",
       "      <td>32.641004</td>\n",
       "      <td>34.335306</td>\n",
       "      <td>36.319796</td>\n",
       "      <td>39.345733</td>\n",
       "      <td>42.032679</td>\n",
       "      <td>44.524097</td>\n",
       "      <td>46.311976</td>\n",
       "      <td>47.131264</td>\n",
       "      <td>NaN</td>\n",
       "    </tr>\n",
       "  </tbody>\n",
       "</table>\n",
       "<p>5 rows × 35 columns</p>\n",
       "</div>"
      ],
      "text/plain": [
       "     Country Name Country Code  \\\n",
       "0     Afghanistan          AFG   \n",
       "1         Albania          ALB   \n",
       "2         Algeria          DZA   \n",
       "3  American Samoa          ASM   \n",
       "4         Andorra          AND   \n",
       "\n",
       "                                      Series Name     Series Code  \\\n",
       "0  Fixed broadband subscriptions (per 100 people)  IT.NET.BBND.P2   \n",
       "1  Fixed broadband subscriptions (per 100 people)  IT.NET.BBND.P2   \n",
       "2  Fixed broadband subscriptions (per 100 people)  IT.NET.BBND.P2   \n",
       "3  Fixed broadband subscriptions (per 100 people)  IT.NET.BBND.P2   \n",
       "4  Fixed broadband subscriptions (per 100 people)  IT.NET.BBND.P2   \n",
       "\n",
       "   1990 [YR1990]  1991 [YR1991]  1992 [YR1992]  1993 [YR1993]  1994 [YR1994]  \\\n",
       "0            NaN            NaN            NaN            NaN            NaN   \n",
       "1            NaN            NaN            NaN            NaN            NaN   \n",
       "2            NaN            NaN            NaN            NaN            NaN   \n",
       "3            NaN            NaN            NaN            NaN            NaN   \n",
       "4            NaN            NaN            NaN            NaN            NaN   \n",
       "\n",
       "   1995 [YR1995]  ...  2011 [YR2011]  2012 [YR2012]  2013 [YR2013]  \\\n",
       "0            NaN  ...            NaN       0.004814       0.004648   \n",
       "1            NaN  ...       4.377872       5.493573       6.286818   \n",
       "2            NaN  ...       2.675159       3.088892       3.356045   \n",
       "3            NaN  ...            NaN            NaN            NaN   \n",
       "4            NaN  ...      30.762893      32.641004      34.335306   \n",
       "\n",
       "   2014 [YR2014]  2015 [YR2015]  2016 [YR2016]  2017 [YR2017]  2018 [YR2018]  \\\n",
       "0       0.004495       0.020535       0.024874       0.025297       0.043041   \n",
       "1       7.180321       8.402315       9.228641      10.526845      12.555659   \n",
       "2       4.109816       5.712209       7.051711       7.756294       7.262935   \n",
       "3            NaN            NaN            NaN            NaN            NaN   \n",
       "4      36.319796      39.345733      42.032679      44.524097      46.311976   \n",
       "\n",
       "   2019 [YR2019]  2020 [YR2020]  \n",
       "0       0.051741       0.068254  \n",
       "1      15.140735      17.684951  \n",
       "2       8.321684       8.643942  \n",
       "3            NaN            NaN  \n",
       "4      47.131264            NaN  \n",
       "\n",
       "[5 rows x 35 columns]"
      ]
     },
     "execution_count": 772,
     "metadata": {},
     "output_type": "execute_result"
    }
   ],
   "source": [
    "broadband1 = pd.read_excel('infrastructure/broadband.xlsx')\n",
    "broadband1.replace({'..':np.nan},inplace=True)\n",
    "broadband1.head()\n"
   ]
  },
  {
   "cell_type": "code",
   "execution_count": 773,
   "id": "2621ece0",
   "metadata": {},
   "outputs": [
    {
     "data": {
      "text/html": [
       "<div>\n",
       "<style scoped>\n",
       "    .dataframe tbody tr th:only-of-type {\n",
       "        vertical-align: middle;\n",
       "    }\n",
       "\n",
       "    .dataframe tbody tr th {\n",
       "        vertical-align: top;\n",
       "    }\n",
       "\n",
       "    .dataframe thead th {\n",
       "        text-align: right;\n",
       "    }\n",
       "</style>\n",
       "<table border=\"1\" class=\"dataframe\">\n",
       "  <thead>\n",
       "    <tr style=\"text-align: right;\">\n",
       "      <th></th>\n",
       "      <th>Country Name</th>\n",
       "      <th>Region</th>\n",
       "      <th>ThirdWorld</th>\n",
       "      <th>2000 [YR2000]</th>\n",
       "      <th>2014 [YR2014]</th>\n",
       "    </tr>\n",
       "  </thead>\n",
       "  <tbody>\n",
       "    <tr>\n",
       "      <th>0</th>\n",
       "      <td>Afghanistan</td>\n",
       "      <td>South Asia</td>\n",
       "      <td>1</td>\n",
       "      <td>NaN</td>\n",
       "      <td>0.004495</td>\n",
       "    </tr>\n",
       "    <tr>\n",
       "      <th>1</th>\n",
       "      <td>Albania</td>\n",
       "      <td>Eastern Europe</td>\n",
       "      <td>0</td>\n",
       "      <td>NaN</td>\n",
       "      <td>7.180321</td>\n",
       "    </tr>\n",
       "    <tr>\n",
       "      <th>2</th>\n",
       "      <td>Algeria</td>\n",
       "      <td>Africa</td>\n",
       "      <td>0</td>\n",
       "      <td>NaN</td>\n",
       "      <td>4.109816</td>\n",
       "    </tr>\n",
       "    <tr>\n",
       "      <th>3</th>\n",
       "      <td>American Samoa</td>\n",
       "      <td>Australia and Oceanea</td>\n",
       "      <td>0</td>\n",
       "      <td>NaN</td>\n",
       "      <td>NaN</td>\n",
       "    </tr>\n",
       "    <tr>\n",
       "      <th>4</th>\n",
       "      <td>Andorra</td>\n",
       "      <td>Western Europe</td>\n",
       "      <td>0</td>\n",
       "      <td>NaN</td>\n",
       "      <td>36.319796</td>\n",
       "    </tr>\n",
       "  </tbody>\n",
       "</table>\n",
       "</div>"
      ],
      "text/plain": [
       "     Country Name                 Region  ThirdWorld  2000 [YR2000]  \\\n",
       "0     Afghanistan             South Asia           1            NaN   \n",
       "1         Albania         Eastern Europe           0            NaN   \n",
       "2         Algeria                 Africa           0            NaN   \n",
       "3  American Samoa  Australia and Oceanea           0            NaN   \n",
       "4         Andorra         Western Europe           0            NaN   \n",
       "\n",
       "   2014 [YR2014]  \n",
       "0       0.004495  \n",
       "1       7.180321  \n",
       "2       4.109816  \n",
       "3            NaN  \n",
       "4      36.319796  "
      ]
     },
     "execution_count": 773,
     "metadata": {},
     "output_type": "execute_result"
    }
   ],
   "source": [
    "broadband1 = country.join(broadband1[['2000 [YR2000]', '2014 [YR2014]']])\n",
    "broadband1.head()\n"
   ]
  },
  {
   "cell_type": "code",
   "execution_count": 774,
   "id": "11844927",
   "metadata": {},
   "outputs": [
    {
     "data": {
      "text/plain": [
       "<AxesSubplot:>"
      ]
     },
     "execution_count": 774,
     "metadata": {},
     "output_type": "execute_result"
    },
    {
     "data": {
      "image/png": "[encoded data removed]",
      "text/plain": [
       "<Figure size 432x288 with 1 Axes>"
      ]
     },
     "metadata": {
      "needs_background": "light"
     },
     "output_type": "display_data"
    }
   ],
   "source": [
    "sns.heatmap(broadband1.isnull(),yticklabels=False,cbar=False,cmap='viridis')"
   ]
  },
  {
   "cell_type": "code",
   "execution_count": 775,
   "id": "e3a79752",
   "metadata": {},
   "outputs": [
    {
     "data": {
      "text/html": [
       "<div>\n",
       "<style scoped>\n",
       "    .dataframe tbody tr th:only-of-type {\n",
       "        vertical-align: middle;\n",
       "    }\n",
       "\n",
       "    .dataframe tbody tr th {\n",
       "        vertical-align: top;\n",
       "    }\n",
       "\n",
       "    .dataframe thead th {\n",
       "        text-align: right;\n",
       "    }\n",
       "</style>\n",
       "<table border=\"1\" class=\"dataframe\">\n",
       "  <thead>\n",
       "    <tr style=\"text-align: right;\">\n",
       "      <th></th>\n",
       "      <th>Country Name</th>\n",
       "      <th>Region</th>\n",
       "      <th>ThirdWorld</th>\n",
       "      <th>2000 [YR2000]</th>\n",
       "      <th>2014 [YR2014]</th>\n",
       "    </tr>\n",
       "  </thead>\n",
       "  <tbody>\n",
       "    <tr>\n",
       "      <th>11</th>\n",
       "      <td>Austria</td>\n",
       "      <td>Western Europe</td>\n",
       "      <td>0</td>\n",
       "      <td>2.360807</td>\n",
       "      <td>27.381792</td>\n",
       "    </tr>\n",
       "    <tr>\n",
       "      <th>18</th>\n",
       "      <td>Belgium</td>\n",
       "      <td>Western Europe</td>\n",
       "      <td>0</td>\n",
       "      <td>1.402592</td>\n",
       "      <td>35.746533</td>\n",
       "    </tr>\n",
       "    <tr>\n",
       "      <th>24</th>\n",
       "      <td>Bosnia and Herzegovina</td>\n",
       "      <td>Eastern Europe</td>\n",
       "      <td>0</td>\n",
       "      <td>0.000720</td>\n",
       "      <td>15.576928</td>\n",
       "    </tr>\n",
       "    <tr>\n",
       "      <th>26</th>\n",
       "      <td>Brazil</td>\n",
       "      <td>South America</td>\n",
       "      <td>0</td>\n",
       "      <td>0.057211</td>\n",
       "      <td>11.820828</td>\n",
       "    </tr>\n",
       "    <tr>\n",
       "      <th>35</th>\n",
       "      <td>Canada</td>\n",
       "      <td>North America</td>\n",
       "      <td>0</td>\n",
       "      <td>4.612640</td>\n",
       "      <td>35.239685</td>\n",
       "    </tr>\n",
       "  </tbody>\n",
       "</table>\n",
       "</div>"
      ],
      "text/plain": [
       "              Country Name          Region  ThirdWorld  2000 [YR2000]  \\\n",
       "11                 Austria  Western Europe           0       2.360807   \n",
       "18                 Belgium  Western Europe           0       1.402592   \n",
       "24  Bosnia and Herzegovina  Eastern Europe           0       0.000720   \n",
       "26                  Brazil   South America           0       0.057211   \n",
       "35                  Canada   North America           0       4.612640   \n",
       "\n",
       "    2014 [YR2014]  \n",
       "11      27.381792  \n",
       "18      35.746533  \n",
       "24      15.576928  \n",
       "26      11.820828  \n",
       "35      35.239685  "
      ]
     },
     "execution_count": 775,
     "metadata": {},
     "output_type": "execute_result"
    }
   ],
   "source": [
    "broadband1 = broadband1.dropna()\n",
    "broadband1.head()"
   ]
  },
  {
   "cell_type": "code",
   "execution_count": 776,
   "id": "3dfb8339",
   "metadata": {},
   "outputs": [
    {
     "data": {
      "text/plain": [
       "<AxesSubplot:>"
      ]
     },
     "execution_count": 776,
     "metadata": {},
     "output_type": "execute_result"
    },
    {
     "data": {
      "image/png": "[encoded data removed]",
      "text/plain": [
       "<Figure size 432x288 with 1 Axes>"
      ]
     },
     "metadata": {
      "needs_background": "light"
     },
     "output_type": "display_data"
    }
   ],
   "source": [
    "sns.heatmap(broadband1.isnull(),yticklabels=False,cbar=False,cmap='viridis')"
   ]
  },
  {
   "cell_type": "code",
   "execution_count": 777,
   "id": "93a6021a",
   "metadata": {},
   "outputs": [],
   "source": [
    "# Removing the outliers\n",
    "def outliers(df, feature):\n",
    "    Q1= df[feature].quantile(0.25)\n",
    "    Q3 = df[feature].quantile(0.75)\n",
    "    IQR = Q3 - Q1\n",
    "    upper_limit = Q3 + 1.5 * IQR\n",
    "    lower_limit = Q1 - 1.5 * IQR\n",
    "    return upper_limit, lower_limit"
   ]
  },
  {
   "cell_type": "code",
   "execution_count": 778,
   "id": "4d7daf4a",
   "metadata": {},
   "outputs": [],
   "source": [
    "#North America 2000 with outliers"
   ]
  },
  {
   "cell_type": "code",
   "execution_count": 779,
   "id": "61178201",
   "metadata": {},
   "outputs": [
    {
     "data": {
      "text/plain": [
       "count    5.000000\n",
       "mean     1.453219\n",
       "std      2.063312\n",
       "min      0.013809\n",
       "25%      0.015167\n",
       "50%      0.114860\n",
       "75%      2.509620\n",
       "max      4.612640\n",
       "Name: 2000 [YR2000], dtype: float64"
      ]
     },
     "execution_count": 779,
     "metadata": {},
     "output_type": "execute_result"
    }
   ],
   "source": [
    "broadband1[broadband1.Region==\"North America\"][\"2000 [YR2000]\"].describe()"
   ]
  },
  {
   "cell_type": "code",
   "execution_count": 780,
   "id": "c39955b4",
   "metadata": {},
   "outputs": [
    {
     "data": {
      "text/plain": [
       "array([[<AxesSubplot:title={'center':'2000 [YR2000]'}>]], dtype=object)"
      ]
     },
     "execution_count": 780,
     "metadata": {},
     "output_type": "execute_result"
    },
    {
     "data": {
      "image/png": "[encoded data removed]",
      "text/plain": [
       "<Figure size 432x288 with 1 Axes>"
      ]
     },
     "metadata": {
      "needs_background": "light"
     },
     "output_type": "display_data"
    }
   ],
   "source": [
    "broadband1[broadband1.Region==\"North America\"].hist(column='2000 [YR2000]')"
   ]
  },
  {
   "cell_type": "code",
   "execution_count": 781,
   "id": "0d518b08",
   "metadata": {},
   "outputs": [],
   "source": [
    "#North America 2000 without outliers"
   ]
  },
  {
   "cell_type": "code",
   "execution_count": 782,
   "id": "cd8a4656",
   "metadata": {},
   "outputs": [
    {
     "data": {
      "text/html": [
       "<div>\n",
       "<style scoped>\n",
       "    .dataframe tbody tr th:only-of-type {\n",
       "        vertical-align: middle;\n",
       "    }\n",
       "\n",
       "    .dataframe tbody tr th {\n",
       "        vertical-align: top;\n",
       "    }\n",
       "\n",
       "    .dataframe thead th {\n",
       "        text-align: right;\n",
       "    }\n",
       "</style>\n",
       "<table border=\"1\" class=\"dataframe\">\n",
       "  <thead>\n",
       "    <tr style=\"text-align: right;\">\n",
       "      <th></th>\n",
       "      <th>Country Name</th>\n",
       "      <th>Region</th>\n",
       "      <th>2000 [YR2000]</th>\n",
       "    </tr>\n",
       "  </thead>\n",
       "  <tbody>\n",
       "    <tr>\n",
       "      <th>35</th>\n",
       "      <td>Canada</td>\n",
       "      <td>North America</td>\n",
       "      <td>4.612640</td>\n",
       "    </tr>\n",
       "    <tr>\n",
       "      <th>55</th>\n",
       "      <td>Dominica</td>\n",
       "      <td>North America</td>\n",
       "      <td>0.114860</td>\n",
       "    </tr>\n",
       "    <tr>\n",
       "      <th>127</th>\n",
       "      <td>Mexico</td>\n",
       "      <td>North America</td>\n",
       "      <td>0.015167</td>\n",
       "    </tr>\n",
       "    <tr>\n",
       "      <th>142</th>\n",
       "      <td>Nicaragua</td>\n",
       "      <td>North America</td>\n",
       "      <td>0.013809</td>\n",
       "    </tr>\n",
       "    <tr>\n",
       "      <th>206</th>\n",
       "      <td>United States</td>\n",
       "      <td>North America</td>\n",
       "      <td>2.509620</td>\n",
       "    </tr>\n",
       "  </tbody>\n",
       "</table>\n",
       "</div>"
      ],
      "text/plain": [
       "      Country Name         Region  2000 [YR2000]\n",
       "35          Canada  North America       4.612640\n",
       "55        Dominica  North America       0.114860\n",
       "127         Mexico  North America       0.015167\n",
       "142      Nicaragua  North America       0.013809\n",
       "206  United States  North America       2.509620"
      ]
     },
     "execution_count": 782,
     "metadata": {},
     "output_type": "execute_result"
    }
   ],
   "source": [
    "NA_broadband_without_2000 = broadband1[broadband1.Region==\"North America\"]\n",
    "NA_broadband_without_2000 = NA_broadband_without_2000[[\"Country Name\",\"Region\",\"2000 [YR2000]\"]]\n",
    "NA_broadband_without_2000"
   ]
  },
  {
   "cell_type": "code",
   "execution_count": 783,
   "id": "9dc7f0e3",
   "metadata": {},
   "outputs": [
    {
     "name": "stdout",
     "output_type": "stream",
     "text": [
      "Upper whisker:  6.251300319\n",
      "Lower Whisker:  -3.726513217000001\n"
     ]
    },
    {
     "data": {
      "text/html": [
       "<div>\n",
       "<style scoped>\n",
       "    .dataframe tbody tr th:only-of-type {\n",
       "        vertical-align: middle;\n",
       "    }\n",
       "\n",
       "    .dataframe tbody tr th {\n",
       "        vertical-align: top;\n",
       "    }\n",
       "\n",
       "    .dataframe thead th {\n",
       "        text-align: right;\n",
       "    }\n",
       "</style>\n",
       "<table border=\"1\" class=\"dataframe\">\n",
       "  <thead>\n",
       "    <tr style=\"text-align: right;\">\n",
       "      <th></th>\n",
       "      <th>Country Name</th>\n",
       "      <th>Region</th>\n",
       "      <th>2000 [YR2000]</th>\n",
       "    </tr>\n",
       "  </thead>\n",
       "  <tbody>\n",
       "    <tr>\n",
       "      <th>35</th>\n",
       "      <td>Canada</td>\n",
       "      <td>North America</td>\n",
       "      <td>4.612640</td>\n",
       "    </tr>\n",
       "    <tr>\n",
       "      <th>55</th>\n",
       "      <td>Dominica</td>\n",
       "      <td>North America</td>\n",
       "      <td>0.114860</td>\n",
       "    </tr>\n",
       "    <tr>\n",
       "      <th>127</th>\n",
       "      <td>Mexico</td>\n",
       "      <td>North America</td>\n",
       "      <td>0.015167</td>\n",
       "    </tr>\n",
       "    <tr>\n",
       "      <th>142</th>\n",
       "      <td>Nicaragua</td>\n",
       "      <td>North America</td>\n",
       "      <td>0.013809</td>\n",
       "    </tr>\n",
       "    <tr>\n",
       "      <th>206</th>\n",
       "      <td>United States</td>\n",
       "      <td>North America</td>\n",
       "      <td>2.509620</td>\n",
       "    </tr>\n",
       "  </tbody>\n",
       "</table>\n",
       "</div>"
      ],
      "text/plain": [
       "      Country Name         Region  2000 [YR2000]\n",
       "35          Canada  North America       4.612640\n",
       "55        Dominica  North America       0.114860\n",
       "127         Mexico  North America       0.015167\n",
       "142      Nicaragua  North America       0.013809\n",
       "206  United States  North America       2.509620"
      ]
     },
     "execution_count": 783,
     "metadata": {},
     "output_type": "execute_result"
    }
   ],
   "source": [
    "upper, lower = outliers(NA_broadband_without_2000, \"2000 [YR2000]\")\n",
    "print(\"Upper whisker: \", upper)\n",
    "print(\"Lower Whisker: \", lower)\n",
    "NA_broadband_without_2000 = NA_broadband_without_2000[(NA_broadband_without_2000[\"2000 [YR2000]\"] > lower) & (NA_broadband_without_2000[\"2000 [YR2000]\"] < upper)]\n",
    "NA_broadband_without_2000"
   ]
  },
  {
   "cell_type": "code",
   "execution_count": 784,
   "id": "1fb48d86",
   "metadata": {},
   "outputs": [
    {
     "data": {
      "text/plain": [
       "array([[<AxesSubplot:title={'center':'2000 [YR2000]'}>]], dtype=object)"
      ]
     },
     "execution_count": 784,
     "metadata": {},
     "output_type": "execute_result"
    },
    {
     "data": {
      "image/png": "[encoded data removed]",
      "text/plain": [
       "<Figure size 432x288 with 1 Axes>"
      ]
     },
     "metadata": {
      "needs_background": "light"
     },
     "output_type": "display_data"
    }
   ],
   "source": [
    "NA_broadband_without_2000.hist()"
   ]
  },
  {
   "cell_type": "code",
   "execution_count": 785,
   "id": "5350ee85",
   "metadata": {},
   "outputs": [
    {
     "data": {
      "text/html": [
       "<div>\n",
       "<style scoped>\n",
       "    .dataframe tbody tr th:only-of-type {\n",
       "        vertical-align: middle;\n",
       "    }\n",
       "\n",
       "    .dataframe tbody tr th {\n",
       "        vertical-align: top;\n",
       "    }\n",
       "\n",
       "    .dataframe thead th {\n",
       "        text-align: right;\n",
       "    }\n",
       "</style>\n",
       "<table border=\"1\" class=\"dataframe\">\n",
       "  <thead>\n",
       "    <tr style=\"text-align: right;\">\n",
       "      <th></th>\n",
       "      <th>2000 [YR2000]</th>\n",
       "    </tr>\n",
       "  </thead>\n",
       "  <tbody>\n",
       "    <tr>\n",
       "      <th>count</th>\n",
       "      <td>5.000000</td>\n",
       "    </tr>\n",
       "    <tr>\n",
       "      <th>mean</th>\n",
       "      <td>1.453219</td>\n",
       "    </tr>\n",
       "    <tr>\n",
       "      <th>std</th>\n",
       "      <td>2.063312</td>\n",
       "    </tr>\n",
       "    <tr>\n",
       "      <th>min</th>\n",
       "      <td>0.013809</td>\n",
       "    </tr>\n",
       "    <tr>\n",
       "      <th>25%</th>\n",
       "      <td>0.015167</td>\n",
       "    </tr>\n",
       "    <tr>\n",
       "      <th>50%</th>\n",
       "      <td>0.114860</td>\n",
       "    </tr>\n",
       "    <tr>\n",
       "      <th>75%</th>\n",
       "      <td>2.509620</td>\n",
       "    </tr>\n",
       "    <tr>\n",
       "      <th>max</th>\n",
       "      <td>4.612640</td>\n",
       "    </tr>\n",
       "  </tbody>\n",
       "</table>\n",
       "</div>"
      ],
      "text/plain": [
       "       2000 [YR2000]\n",
       "count       5.000000\n",
       "mean        1.453219\n",
       "std         2.063312\n",
       "min         0.013809\n",
       "25%         0.015167\n",
       "50%         0.114860\n",
       "75%         2.509620\n",
       "max         4.612640"
      ]
     },
     "execution_count": 785,
     "metadata": {},
     "output_type": "execute_result"
    }
   ],
   "source": [
    "NA_broadband_without_2000.describe()"
   ]
  },
  {
   "cell_type": "code",
   "execution_count": 786,
   "id": "562fff3d",
   "metadata": {},
   "outputs": [],
   "source": [
    "#North America 2014 with outliers"
   ]
  },
  {
   "cell_type": "code",
   "execution_count": 787,
   "id": "1ec20b81",
   "metadata": {},
   "outputs": [
    {
     "data": {
      "text/plain": [
       "array([[<AxesSubplot:title={'center':'2014 [YR2014]'}>]], dtype=object)"
      ]
     },
     "execution_count": 787,
     "metadata": {},
     "output_type": "execute_result"
    },
    {
     "data": {
      "image/png": "[encoded data removed]",
      "text/plain": [
       "<Figure size 432x288 with 1 Axes>"
      ]
     },
     "metadata": {
      "needs_background": "light"
     },
     "output_type": "display_data"
    }
   ],
   "source": [
    "broadband1[broadband1.Region==\"North America\"].hist(column='2014 [YR2014]')"
   ]
  },
  {
   "cell_type": "code",
   "execution_count": 788,
   "id": "5dfc646a",
   "metadata": {},
   "outputs": [
    {
     "data": {
      "text/plain": [
       "count     5.000000\n",
       "mean     18.749317\n",
       "std      13.936778\n",
       "min       1.813672\n",
       "25%      10.828387\n",
       "50%      15.171977\n",
       "75%      30.692865\n",
       "max      35.239685\n",
       "Name: 2014 [YR2014], dtype: float64"
      ]
     },
     "execution_count": 788,
     "metadata": {},
     "output_type": "execute_result"
    }
   ],
   "source": [
    "broadband1[broadband1.Region==\"North America\"]['2014 [YR2014]'].describe()"
   ]
  },
  {
   "cell_type": "code",
   "execution_count": 789,
   "id": "f550feec",
   "metadata": {},
   "outputs": [],
   "source": [
    "#North America 2014 with outliers"
   ]
  },
  {
   "cell_type": "code",
   "execution_count": 790,
   "id": "0dc0e65f",
   "metadata": {},
   "outputs": [
    {
     "data": {
      "text/html": [
       "<div>\n",
       "<style scoped>\n",
       "    .dataframe tbody tr th:only-of-type {\n",
       "        vertical-align: middle;\n",
       "    }\n",
       "\n",
       "    .dataframe tbody tr th {\n",
       "        vertical-align: top;\n",
       "    }\n",
       "\n",
       "    .dataframe thead th {\n",
       "        text-align: right;\n",
       "    }\n",
       "</style>\n",
       "<table border=\"1\" class=\"dataframe\">\n",
       "  <thead>\n",
       "    <tr style=\"text-align: right;\">\n",
       "      <th></th>\n",
       "      <th>Country Name</th>\n",
       "      <th>Region</th>\n",
       "      <th>2014 [YR2014]</th>\n",
       "    </tr>\n",
       "  </thead>\n",
       "  <tbody>\n",
       "    <tr>\n",
       "      <th>35</th>\n",
       "      <td>Canada</td>\n",
       "      <td>North America</td>\n",
       "      <td>35.239685</td>\n",
       "    </tr>\n",
       "    <tr>\n",
       "      <th>55</th>\n",
       "      <td>Dominica</td>\n",
       "      <td>North America</td>\n",
       "      <td>15.171977</td>\n",
       "    </tr>\n",
       "    <tr>\n",
       "      <th>127</th>\n",
       "      <td>Mexico</td>\n",
       "      <td>North America</td>\n",
       "      <td>10.828387</td>\n",
       "    </tr>\n",
       "    <tr>\n",
       "      <th>142</th>\n",
       "      <td>Nicaragua</td>\n",
       "      <td>North America</td>\n",
       "      <td>1.813672</td>\n",
       "    </tr>\n",
       "    <tr>\n",
       "      <th>206</th>\n",
       "      <td>United States</td>\n",
       "      <td>North America</td>\n",
       "      <td>30.692865</td>\n",
       "    </tr>\n",
       "  </tbody>\n",
       "</table>\n",
       "</div>"
      ],
      "text/plain": [
       "      Country Name         Region  2014 [YR2014]\n",
       "35          Canada  North America      35.239685\n",
       "55        Dominica  North America      15.171977\n",
       "127         Mexico  North America      10.828387\n",
       "142      Nicaragua  North America       1.813672\n",
       "206  United States  North America      30.692865"
      ]
     },
     "execution_count": 790,
     "metadata": {},
     "output_type": "execute_result"
    }
   ],
   "source": [
    "NA_broadband_without_2014 = broadband1[broadband1.Region==\"North America\"]\n",
    "NA_broadband_without_2014 = NA_broadband_without_2014[[\"Country Name\",\"Region\",\"2014 [YR2014]\"]]\n",
    "NA_broadband_without_2014"
   ]
  },
  {
   "cell_type": "code",
   "execution_count": 791,
   "id": "bc3c1f0c",
   "metadata": {},
   "outputs": [
    {
     "name": "stdout",
     "output_type": "stream",
     "text": [
      "Upper whisker:  60.489582170000006\n",
      "Lower Whisker:  -18.968330150000003\n"
     ]
    },
    {
     "data": {
      "text/html": [
       "<div>\n",
       "<style scoped>\n",
       "    .dataframe tbody tr th:only-of-type {\n",
       "        vertical-align: middle;\n",
       "    }\n",
       "\n",
       "    .dataframe tbody tr th {\n",
       "        vertical-align: top;\n",
       "    }\n",
       "\n",
       "    .dataframe thead th {\n",
       "        text-align: right;\n",
       "    }\n",
       "</style>\n",
       "<table border=\"1\" class=\"dataframe\">\n",
       "  <thead>\n",
       "    <tr style=\"text-align: right;\">\n",
       "      <th></th>\n",
       "      <th>Country Name</th>\n",
       "      <th>Region</th>\n",
       "      <th>2014 [YR2014]</th>\n",
       "    </tr>\n",
       "  </thead>\n",
       "  <tbody>\n",
       "    <tr>\n",
       "      <th>35</th>\n",
       "      <td>Canada</td>\n",
       "      <td>North America</td>\n",
       "      <td>35.239685</td>\n",
       "    </tr>\n",
       "    <tr>\n",
       "      <th>55</th>\n",
       "      <td>Dominica</td>\n",
       "      <td>North America</td>\n",
       "      <td>15.171977</td>\n",
       "    </tr>\n",
       "    <tr>\n",
       "      <th>127</th>\n",
       "      <td>Mexico</td>\n",
       "      <td>North America</td>\n",
       "      <td>10.828387</td>\n",
       "    </tr>\n",
       "    <tr>\n",
       "      <th>142</th>\n",
       "      <td>Nicaragua</td>\n",
       "      <td>North America</td>\n",
       "      <td>1.813672</td>\n",
       "    </tr>\n",
       "    <tr>\n",
       "      <th>206</th>\n",
       "      <td>United States</td>\n",
       "      <td>North America</td>\n",
       "      <td>30.692865</td>\n",
       "    </tr>\n",
       "  </tbody>\n",
       "</table>\n",
       "</div>"
      ],
      "text/plain": [
       "      Country Name         Region  2014 [YR2014]\n",
       "35          Canada  North America      35.239685\n",
       "55        Dominica  North America      15.171977\n",
       "127         Mexico  North America      10.828387\n",
       "142      Nicaragua  North America       1.813672\n",
       "206  United States  North America      30.692865"
      ]
     },
     "execution_count": 791,
     "metadata": {},
     "output_type": "execute_result"
    }
   ],
   "source": [
    "upper, lower = outliers(NA_broadband_without_2014, \"2014 [YR2014]\")\n",
    "print(\"Upper whisker: \", upper)\n",
    "print(\"Lower Whisker: \", lower)\n",
    "NA_broadband_without_2014 = NA_broadband_without_2014[(NA_broadband_without_2014[\"2014 [YR2014]\"] > lower) & (NA_broadband_without_2014[\"2014 [YR2014]\"] < upper)]\n",
    "NA_broadband_without_2014"
   ]
  },
  {
   "cell_type": "code",
   "execution_count": 792,
   "id": "a9bff93b",
   "metadata": {},
   "outputs": [
    {
     "data": {
      "text/plain": [
       "array([[<AxesSubplot:title={'center':'2014 [YR2014]'}>]], dtype=object)"
      ]
     },
     "execution_count": 792,
     "metadata": {},
     "output_type": "execute_result"
    },
    {
     "data": {
      "image/png": "[encoded data removed]",
      "text/plain": [
       "<Figure size 432x288 with 1 Axes>"
      ]
     },
     "metadata": {
      "needs_background": "light"
     },
     "output_type": "display_data"
    }
   ],
   "source": [
    "NA_broadband_without_2014.hist()"
   ]
  },
  {
   "cell_type": "code",
   "execution_count": 793,
   "id": "4b8acfa6",
   "metadata": {},
   "outputs": [
    {
     "data": {
      "text/html": [
       "<div>\n",
       "<style scoped>\n",
       "    .dataframe tbody tr th:only-of-type {\n",
       "        vertical-align: middle;\n",
       "    }\n",
       "\n",
       "    .dataframe tbody tr th {\n",
       "        vertical-align: top;\n",
       "    }\n",
       "\n",
       "    .dataframe thead th {\n",
       "        text-align: right;\n",
       "    }\n",
       "</style>\n",
       "<table border=\"1\" class=\"dataframe\">\n",
       "  <thead>\n",
       "    <tr style=\"text-align: right;\">\n",
       "      <th></th>\n",
       "      <th>2014 [YR2014]</th>\n",
       "    </tr>\n",
       "  </thead>\n",
       "  <tbody>\n",
       "    <tr>\n",
       "      <th>count</th>\n",
       "      <td>5.000000</td>\n",
       "    </tr>\n",
       "    <tr>\n",
       "      <th>mean</th>\n",
       "      <td>18.749317</td>\n",
       "    </tr>\n",
       "    <tr>\n",
       "      <th>std</th>\n",
       "      <td>13.936778</td>\n",
       "    </tr>\n",
       "    <tr>\n",
       "      <th>min</th>\n",
       "      <td>1.813672</td>\n",
       "    </tr>\n",
       "    <tr>\n",
       "      <th>25%</th>\n",
       "      <td>10.828387</td>\n",
       "    </tr>\n",
       "    <tr>\n",
       "      <th>50%</th>\n",
       "      <td>15.171977</td>\n",
       "    </tr>\n",
       "    <tr>\n",
       "      <th>75%</th>\n",
       "      <td>30.692865</td>\n",
       "    </tr>\n",
       "    <tr>\n",
       "      <th>max</th>\n",
       "      <td>35.239685</td>\n",
       "    </tr>\n",
       "  </tbody>\n",
       "</table>\n",
       "</div>"
      ],
      "text/plain": [
       "       2014 [YR2014]\n",
       "count       5.000000\n",
       "mean       18.749317\n",
       "std        13.936778\n",
       "min         1.813672\n",
       "25%        10.828387\n",
       "50%        15.171977\n",
       "75%        30.692865\n",
       "max        35.239685"
      ]
     },
     "execution_count": 793,
     "metadata": {},
     "output_type": "execute_result"
    }
   ],
   "source": [
    "NA_broadband_without_2014.describe()"
   ]
  },
  {
   "cell_type": "code",
   "execution_count": 794,
   "id": "2bd5d752",
   "metadata": {},
   "outputs": [],
   "source": [
    "#South America 2000 with outliers"
   ]
  },
  {
   "cell_type": "code",
   "execution_count": 795,
   "id": "a7c76a44",
   "metadata": {},
   "outputs": [
    {
     "data": {
      "text/plain": [
       "array([[<AxesSubplot:title={'center':'2000 [YR2000]'}>]], dtype=object)"
      ]
     },
     "execution_count": 795,
     "metadata": {},
     "output_type": "execute_result"
    },
    {
     "data": {
      "image/png": "[encoded data removed]",
      "text/plain": [
       "<Figure size 432x288 with 1 Axes>"
      ]
     },
     "metadata": {
      "needs_background": "light"
     },
     "output_type": "display_data"
    }
   ],
   "source": [
    "broadband1[broadband1.Region==\"South America\"].hist(column='2000 [YR2000]')"
   ]
  },
  {
   "cell_type": "code",
   "execution_count": 796,
   "id": "05cff0b0",
   "metadata": {},
   "outputs": [],
   "source": [
    "#South America 2000 without outliers"
   ]
  },
  {
   "cell_type": "code",
   "execution_count": 797,
   "id": "85c348d7",
   "metadata": {},
   "outputs": [
    {
     "data": {
      "text/html": [
       "<div>\n",
       "<style scoped>\n",
       "    .dataframe tbody tr th:only-of-type {\n",
       "        vertical-align: middle;\n",
       "    }\n",
       "\n",
       "    .dataframe tbody tr th {\n",
       "        vertical-align: top;\n",
       "    }\n",
       "\n",
       "    .dataframe thead th {\n",
       "        text-align: right;\n",
       "    }\n",
       "</style>\n",
       "<table border=\"1\" class=\"dataframe\">\n",
       "  <thead>\n",
       "    <tr style=\"text-align: right;\">\n",
       "      <th></th>\n",
       "      <th>Country Name</th>\n",
       "      <th>Region</th>\n",
       "      <th>2000 [YR2000]</th>\n",
       "    </tr>\n",
       "  </thead>\n",
       "  <tbody>\n",
       "    <tr>\n",
       "      <th>26</th>\n",
       "      <td>Brazil</td>\n",
       "      <td>South America</td>\n",
       "      <td>0.057211</td>\n",
       "    </tr>\n",
       "    <tr>\n",
       "      <th>40</th>\n",
       "      <td>Chile</td>\n",
       "      <td>South America</td>\n",
       "      <td>0.050058</td>\n",
       "    </tr>\n",
       "    <tr>\n",
       "      <th>42</th>\n",
       "      <td>Colombia</td>\n",
       "      <td>South America</td>\n",
       "      <td>0.022387</td>\n",
       "    </tr>\n",
       "    <tr>\n",
       "      <th>153</th>\n",
       "      <td>Paraguay</td>\n",
       "      <td>South America</td>\n",
       "      <td>0.002818</td>\n",
       "    </tr>\n",
       "    <tr>\n",
       "      <th>154</th>\n",
       "      <td>Peru</td>\n",
       "      <td>South America</td>\n",
       "      <td>0.004074</td>\n",
       "    </tr>\n",
       "    <tr>\n",
       "      <th>210</th>\n",
       "      <td>Venezuela, RB</td>\n",
       "      <td>South America</td>\n",
       "      <td>0.018489</td>\n",
       "    </tr>\n",
       "  </tbody>\n",
       "</table>\n",
       "</div>"
      ],
      "text/plain": [
       "      Country Name         Region  2000 [YR2000]\n",
       "26          Brazil  South America       0.057211\n",
       "40           Chile  South America       0.050058\n",
       "42        Colombia  South America       0.022387\n",
       "153       Paraguay  South America       0.002818\n",
       "154           Peru  South America       0.004074\n",
       "210  Venezuela, RB  South America       0.018489"
      ]
     },
     "execution_count": 797,
     "metadata": {},
     "output_type": "execute_result"
    }
   ],
   "source": [
    "SA_broadband_without_2000 = broadband1[broadband1.Region==\"South America\"]\n",
    "SA_broadband_without_2000 = SA_broadband_without_2000[[\"Country Name\",\"Region\",\"2000 [YR2000]\"]]\n",
    "SA_broadband_without_2000"
   ]
  },
  {
   "cell_type": "code",
   "execution_count": 798,
   "id": "ba12554d",
   "metadata": {},
   "outputs": [
    {
     "name": "stdout",
     "output_type": "stream",
     "text": [
      "Upper whisker:  0.09633296087499998\n",
      "Lower Whisker:  -0.04551518012499999\n"
     ]
    },
    {
     "data": {
      "text/html": [
       "<div>\n",
       "<style scoped>\n",
       "    .dataframe tbody tr th:only-of-type {\n",
       "        vertical-align: middle;\n",
       "    }\n",
       "\n",
       "    .dataframe tbody tr th {\n",
       "        vertical-align: top;\n",
       "    }\n",
       "\n",
       "    .dataframe thead th {\n",
       "        text-align: right;\n",
       "    }\n",
       "</style>\n",
       "<table border=\"1\" class=\"dataframe\">\n",
       "  <thead>\n",
       "    <tr style=\"text-align: right;\">\n",
       "      <th></th>\n",
       "      <th>Country Name</th>\n",
       "      <th>Region</th>\n",
       "      <th>2000 [YR2000]</th>\n",
       "    </tr>\n",
       "  </thead>\n",
       "  <tbody>\n",
       "    <tr>\n",
       "      <th>26</th>\n",
       "      <td>Brazil</td>\n",
       "      <td>South America</td>\n",
       "      <td>0.057211</td>\n",
       "    </tr>\n",
       "    <tr>\n",
       "      <th>40</th>\n",
       "      <td>Chile</td>\n",
       "      <td>South America</td>\n",
       "      <td>0.050058</td>\n",
       "    </tr>\n",
       "    <tr>\n",
       "      <th>42</th>\n",
       "      <td>Colombia</td>\n",
       "      <td>South America</td>\n",
       "      <td>0.022387</td>\n",
       "    </tr>\n",
       "    <tr>\n",
       "      <th>153</th>\n",
       "      <td>Paraguay</td>\n",
       "      <td>South America</td>\n",
       "      <td>0.002818</td>\n",
       "    </tr>\n",
       "    <tr>\n",
       "      <th>154</th>\n",
       "      <td>Peru</td>\n",
       "      <td>South America</td>\n",
       "      <td>0.004074</td>\n",
       "    </tr>\n",
       "    <tr>\n",
       "      <th>210</th>\n",
       "      <td>Venezuela, RB</td>\n",
       "      <td>South America</td>\n",
       "      <td>0.018489</td>\n",
       "    </tr>\n",
       "  </tbody>\n",
       "</table>\n",
       "</div>"
      ],
      "text/plain": [
       "      Country Name         Region  2000 [YR2000]\n",
       "26          Brazil  South America       0.057211\n",
       "40           Chile  South America       0.050058\n",
       "42        Colombia  South America       0.022387\n",
       "153       Paraguay  South America       0.002818\n",
       "154           Peru  South America       0.004074\n",
       "210  Venezuela, RB  South America       0.018489"
      ]
     },
     "execution_count": 798,
     "metadata": {},
     "output_type": "execute_result"
    }
   ],
   "source": [
    "upper, lower = outliers(SA_broadband_without_2000, \"2000 [YR2000]\")\n",
    "print(\"Upper whisker: \", upper)\n",
    "print(\"Lower Whisker: \", lower)\n",
    "SA_broadband_without_2000 = SA_broadband_without_2000[(SA_broadband_without_2000[\"2000 [YR2000]\"] > lower) & (SA_broadband_without_2000[\"2000 [YR2000]\"] < upper)]\n",
    "SA_broadband_without_2000"
   ]
  },
  {
   "cell_type": "code",
   "execution_count": 799,
   "id": "9bebaff1",
   "metadata": {},
   "outputs": [
    {
     "data": {
      "text/plain": [
       "array([[<AxesSubplot:title={'center':'2000 [YR2000]'}>]], dtype=object)"
      ]
     },
     "execution_count": 799,
     "metadata": {},
     "output_type": "execute_result"
    },
    {
     "data": {
      "image/png": "[encoded data removed]",
      "text/plain": [
       "<Figure size 432x288 with 1 Axes>"
      ]
     },
     "metadata": {
      "needs_background": "light"
     },
     "output_type": "display_data"
    }
   ],
   "source": [
    "SA_broadband_without_2000.hist()"
   ]
  },
  {
   "cell_type": "code",
   "execution_count": 800,
   "id": "15a5215c",
   "metadata": {},
   "outputs": [],
   "source": [
    "#South America 2014 with outliers"
   ]
  },
  {
   "cell_type": "code",
   "execution_count": 801,
   "id": "61aa47f6",
   "metadata": {},
   "outputs": [
    {
     "data": {
      "text/plain": [
       "array([[<AxesSubplot:title={'center':'2014 [YR2014]'}>]], dtype=object)"
      ]
     },
     "execution_count": 801,
     "metadata": {},
     "output_type": "execute_result"
    },
    {
     "data": {
      "image/png": "[encoded data removed]",
      "text/plain": [
       "<Figure size 432x288 with 1 Axes>"
      ]
     },
     "metadata": {
      "needs_background": "light"
     },
     "output_type": "display_data"
    }
   ],
   "source": [
    "broadband1[broadband1.Region==\"South America\"].hist(column='2014 [YR2014]')"
   ]
  },
  {
   "cell_type": "code",
   "execution_count": 802,
   "id": "abcbfb62",
   "metadata": {},
   "outputs": [],
   "source": [
    "#South America 2014 without outliers"
   ]
  },
  {
   "cell_type": "code",
   "execution_count": 803,
   "id": "229ca2b2",
   "metadata": {},
   "outputs": [
    {
     "data": {
      "text/html": [
       "<div>\n",
       "<style scoped>\n",
       "    .dataframe tbody tr th:only-of-type {\n",
       "        vertical-align: middle;\n",
       "    }\n",
       "\n",
       "    .dataframe tbody tr th {\n",
       "        vertical-align: top;\n",
       "    }\n",
       "\n",
       "    .dataframe thead th {\n",
       "        text-align: right;\n",
       "    }\n",
       "</style>\n",
       "<table border=\"1\" class=\"dataframe\">\n",
       "  <thead>\n",
       "    <tr style=\"text-align: right;\">\n",
       "      <th></th>\n",
       "      <th>Country Name</th>\n",
       "      <th>Region</th>\n",
       "      <th>2014 [YR2014]</th>\n",
       "    </tr>\n",
       "  </thead>\n",
       "  <tbody>\n",
       "    <tr>\n",
       "      <th>26</th>\n",
       "      <td>Brazil</td>\n",
       "      <td>South America</td>\n",
       "      <td>11.820828</td>\n",
       "    </tr>\n",
       "    <tr>\n",
       "      <th>40</th>\n",
       "      <td>Chile</td>\n",
       "      <td>South America</td>\n",
       "      <td>14.019499</td>\n",
       "    </tr>\n",
       "    <tr>\n",
       "      <th>42</th>\n",
       "      <td>Colombia</td>\n",
       "      <td>South America</td>\n",
       "      <td>10.706497</td>\n",
       "    </tr>\n",
       "    <tr>\n",
       "      <th>153</th>\n",
       "      <td>Paraguay</td>\n",
       "      <td>South America</td>\n",
       "      <td>2.805126</td>\n",
       "    </tr>\n",
       "    <tr>\n",
       "      <th>154</th>\n",
       "      <td>Peru</td>\n",
       "      <td>South America</td>\n",
       "      <td>5.872502</td>\n",
       "    </tr>\n",
       "    <tr>\n",
       "      <th>210</th>\n",
       "      <td>Venezuela, RB</td>\n",
       "      <td>South America</td>\n",
       "      <td>7.988835</td>\n",
       "    </tr>\n",
       "  </tbody>\n",
       "</table>\n",
       "</div>"
      ],
      "text/plain": [
       "      Country Name         Region  2014 [YR2014]\n",
       "26          Brazil  South America      11.820828\n",
       "40           Chile  South America      14.019499\n",
       "42        Colombia  South America      10.706497\n",
       "153       Paraguay  South America       2.805126\n",
       "154           Peru  South America       5.872502\n",
       "210  Venezuela, RB  South America       7.988835"
      ]
     },
     "execution_count": 803,
     "metadata": {},
     "output_type": "execute_result"
    }
   ],
   "source": [
    "SA_broadband_without_2014 = broadband1[broadband1.Region==\"South America\"]\n",
    "SA_broadband_without_2014 = SA_broadband_without_2014[[\"Country Name\",\"Region\",\"2014 [YR2014]\"]]\n",
    "SA_broadband_without_2014"
   ]
  },
  {
   "cell_type": "code",
   "execution_count": 804,
   "id": "6fc88739",
   "metadata": {},
   "outputs": [
    {
     "name": "stdout",
     "output_type": "stream",
     "text": [
      "Upper whisker:  19.253234463\n",
      "Lower Whisker:  -1.309404204999999\n"
     ]
    },
    {
     "data": {
      "text/html": [
       "<div>\n",
       "<style scoped>\n",
       "    .dataframe tbody tr th:only-of-type {\n",
       "        vertical-align: middle;\n",
       "    }\n",
       "\n",
       "    .dataframe tbody tr th {\n",
       "        vertical-align: top;\n",
       "    }\n",
       "\n",
       "    .dataframe thead th {\n",
       "        text-align: right;\n",
       "    }\n",
       "</style>\n",
       "<table border=\"1\" class=\"dataframe\">\n",
       "  <thead>\n",
       "    <tr style=\"text-align: right;\">\n",
       "      <th></th>\n",
       "      <th>Country Name</th>\n",
       "      <th>Region</th>\n",
       "      <th>2014 [YR2014]</th>\n",
       "    </tr>\n",
       "  </thead>\n",
       "  <tbody>\n",
       "    <tr>\n",
       "      <th>26</th>\n",
       "      <td>Brazil</td>\n",
       "      <td>South America</td>\n",
       "      <td>11.820828</td>\n",
       "    </tr>\n",
       "    <tr>\n",
       "      <th>40</th>\n",
       "      <td>Chile</td>\n",
       "      <td>South America</td>\n",
       "      <td>14.019499</td>\n",
       "    </tr>\n",
       "    <tr>\n",
       "      <th>42</th>\n",
       "      <td>Colombia</td>\n",
       "      <td>South America</td>\n",
       "      <td>10.706497</td>\n",
       "    </tr>\n",
       "    <tr>\n",
       "      <th>153</th>\n",
       "      <td>Paraguay</td>\n",
       "      <td>South America</td>\n",
       "      <td>2.805126</td>\n",
       "    </tr>\n",
       "    <tr>\n",
       "      <th>154</th>\n",
       "      <td>Peru</td>\n",
       "      <td>South America</td>\n",
       "      <td>5.872502</td>\n",
       "    </tr>\n",
       "    <tr>\n",
       "      <th>210</th>\n",
       "      <td>Venezuela, RB</td>\n",
       "      <td>South America</td>\n",
       "      <td>7.988835</td>\n",
       "    </tr>\n",
       "  </tbody>\n",
       "</table>\n",
       "</div>"
      ],
      "text/plain": [
       "      Country Name         Region  2014 [YR2014]\n",
       "26          Brazil  South America      11.820828\n",
       "40           Chile  South America      14.019499\n",
       "42        Colombia  South America      10.706497\n",
       "153       Paraguay  South America       2.805126\n",
       "154           Peru  South America       5.872502\n",
       "210  Venezuela, RB  South America       7.988835"
      ]
     },
     "execution_count": 804,
     "metadata": {},
     "output_type": "execute_result"
    }
   ],
   "source": [
    "upper, lower = outliers(SA_broadband_without_2014, \"2014 [YR2014]\")\n",
    "print(\"Upper whisker: \", upper)\n",
    "print(\"Lower Whisker: \", lower)\n",
    "SA_broadband_without_2014 = SA_broadband_without_2014[(SA_broadband_without_2014[\"2014 [YR2014]\"] > lower) & (SA_broadband_without_2014[\"2014 [YR2014]\"] < upper)]\n",
    "SA_broadband_without_2014"
   ]
  },
  {
   "cell_type": "code",
   "execution_count": 805,
   "id": "961a9669",
   "metadata": {},
   "outputs": [
    {
     "data": {
      "text/plain": [
       "array([[<AxesSubplot:title={'center':'2014 [YR2014]'}>]], dtype=object)"
      ]
     },
     "execution_count": 805,
     "metadata": {},
     "output_type": "execute_result"
    },
    {
     "data": {
      "image/png": "[encoded data removed]",
      "text/plain": [
       "<Figure size 432x288 with 1 Axes>"
      ]
     },
     "metadata": {
      "needs_background": "light"
     },
     "output_type": "display_data"
    }
   ],
   "source": [
    "SA_broadband_without_2014.hist()"
   ]
  },
  {
   "cell_type": "code",
   "execution_count": 806,
   "id": "2c67910c",
   "metadata": {},
   "outputs": [],
   "source": [
    "#Western Asia 2000 with outliers"
   ]
  },
  {
   "cell_type": "code",
   "execution_count": 807,
   "id": "c4cdf9cf",
   "metadata": {},
   "outputs": [
    {
     "data": {
      "text/plain": [
       "array([[<AxesSubplot:title={'center':'2000 [YR2000]'}>]], dtype=object)"
      ]
     },
     "execution_count": 807,
     "metadata": {},
     "output_type": "execute_result"
    },
    {
     "data": {
      "image/png": "[encoded data removed]",
      "text/plain": [
       "<Figure size 432x288 with 1 Axes>"
      ]
     },
     "metadata": {
      "needs_background": "light"
     },
     "output_type": "display_data"
    }
   ],
   "source": [
    "broadband1[broadband1.Region==\"Western Asia\"].hist(column='2000 [YR2000]')"
   ]
  },
  {
   "cell_type": "code",
   "execution_count": 808,
   "id": "a08adc33",
   "metadata": {},
   "outputs": [],
   "source": [
    "#Western Asia 2000 without outliers"
   ]
  },
  {
   "cell_type": "code",
   "execution_count": 809,
   "id": "8b798356",
   "metadata": {},
   "outputs": [
    {
     "data": {
      "text/html": [
       "<div>\n",
       "<style scoped>\n",
       "    .dataframe tbody tr th:only-of-type {\n",
       "        vertical-align: middle;\n",
       "    }\n",
       "\n",
       "    .dataframe tbody tr th {\n",
       "        vertical-align: top;\n",
       "    }\n",
       "\n",
       "    .dataframe thead th {\n",
       "        text-align: right;\n",
       "    }\n",
       "</style>\n",
       "<table border=\"1\" class=\"dataframe\">\n",
       "  <thead>\n",
       "    <tr style=\"text-align: right;\">\n",
       "      <th></th>\n",
       "      <th>Country Name</th>\n",
       "      <th>Region</th>\n",
       "      <th>2000 [YR2000]</th>\n",
       "    </tr>\n",
       "  </thead>\n",
       "  <tbody>\n",
       "  </tbody>\n",
       "</table>\n",
       "</div>"
      ],
      "text/plain": [
       "Empty DataFrame\n",
       "Columns: [Country Name, Region, 2000 [YR2000]]\n",
       "Index: []"
      ]
     },
     "execution_count": 809,
     "metadata": {},
     "output_type": "execute_result"
    }
   ],
   "source": [
    "WA_broadband_without_2000 = broadband1[broadband1.Region==\"Western Asia\"]\n",
    "WA_broadband_without_2000 = WA_broadband_without_2000[[\"Country Name\",\"Region\",\"2000 [YR2000]\"]]\n",
    "WA_broadband_without_2000"
   ]
  },
  {
   "cell_type": "code",
   "execution_count": 810,
   "id": "240ba547",
   "metadata": {},
   "outputs": [
    {
     "name": "stdout",
     "output_type": "stream",
     "text": [
      "Upper whisker:  nan\n",
      "Lower Whisker:  nan\n"
     ]
    },
    {
     "data": {
      "text/html": [
       "<div>\n",
       "<style scoped>\n",
       "    .dataframe tbody tr th:only-of-type {\n",
       "        vertical-align: middle;\n",
       "    }\n",
       "\n",
       "    .dataframe tbody tr th {\n",
       "        vertical-align: top;\n",
       "    }\n",
       "\n",
       "    .dataframe thead th {\n",
       "        text-align: right;\n",
       "    }\n",
       "</style>\n",
       "<table border=\"1\" class=\"dataframe\">\n",
       "  <thead>\n",
       "    <tr style=\"text-align: right;\">\n",
       "      <th></th>\n",
       "      <th>Country Name</th>\n",
       "      <th>Region</th>\n",
       "      <th>2000 [YR2000]</th>\n",
       "    </tr>\n",
       "  </thead>\n",
       "  <tbody>\n",
       "  </tbody>\n",
       "</table>\n",
       "</div>"
      ],
      "text/plain": [
       "Empty DataFrame\n",
       "Columns: [Country Name, Region, 2000 [YR2000]]\n",
       "Index: []"
      ]
     },
     "execution_count": 810,
     "metadata": {},
     "output_type": "execute_result"
    }
   ],
   "source": [
    "upper, lower = outliers(WA_broadband_without_2000, \"2000 [YR2000]\")\n",
    "print(\"Upper whisker: \", upper)\n",
    "print(\"Lower Whisker: \", lower)\n",
    "WA_broadband_without_2000 = WA_broadband_without_2000[(WA_broadband_without_2000[\"2000 [YR2000]\"] > lower) & (WA_broadband_without_2000[\"2000 [YR2000]\"] < upper)]\n",
    "WA_broadband_without_2000"
   ]
  },
  {
   "cell_type": "code",
   "execution_count": 811,
   "id": "6a7c1e3d",
   "metadata": {},
   "outputs": [
    {
     "data": {
      "text/plain": [
       "array([[<AxesSubplot:title={'center':'2000 [YR2000]'}>]], dtype=object)"
      ]
     },
     "execution_count": 811,
     "metadata": {},
     "output_type": "execute_result"
    },
    {
     "data": {
      "image/png": "[encoded data removed]",
      "text/plain": [
       "<Figure size 432x288 with 1 Axes>"
      ]
     },
     "metadata": {
      "needs_background": "light"
     },
     "output_type": "display_data"
    }
   ],
   "source": [
    "WA_broadband_without_2000.hist()"
   ]
  },
  {
   "cell_type": "code",
   "execution_count": 812,
   "id": "29870b2a",
   "metadata": {},
   "outputs": [],
   "source": [
    "#Western Asia 2014 with outliers"
   ]
  },
  {
   "cell_type": "code",
   "execution_count": 813,
   "id": "6118e638",
   "metadata": {},
   "outputs": [
    {
     "data": {
      "text/plain": [
       "array([[<AxesSubplot:title={'center':'2014 [YR2014]'}>]], dtype=object)"
      ]
     },
     "execution_count": 813,
     "metadata": {},
     "output_type": "execute_result"
    },
    {
     "data": {
      "image/png": "[encoded data removed]",
      "text/plain": [
       "<Figure size 432x288 with 1 Axes>"
      ]
     },
     "metadata": {
      "needs_background": "light"
     },
     "output_type": "display_data"
    }
   ],
   "source": [
    "broadband1[broadband1.Region==\"Western Asia\"].hist(column='2014 [YR2014]')"
   ]
  },
  {
   "cell_type": "code",
   "execution_count": 814,
   "id": "bf9820ab",
   "metadata": {},
   "outputs": [],
   "source": [
    "#Western Asia 2014 without outliers"
   ]
  },
  {
   "cell_type": "code",
   "execution_count": 815,
   "id": "b284544a",
   "metadata": {},
   "outputs": [
    {
     "data": {
      "text/html": [
       "<div>\n",
       "<style scoped>\n",
       "    .dataframe tbody tr th:only-of-type {\n",
       "        vertical-align: middle;\n",
       "    }\n",
       "\n",
       "    .dataframe tbody tr th {\n",
       "        vertical-align: top;\n",
       "    }\n",
       "\n",
       "    .dataframe thead th {\n",
       "        text-align: right;\n",
       "    }\n",
       "</style>\n",
       "<table border=\"1\" class=\"dataframe\">\n",
       "  <thead>\n",
       "    <tr style=\"text-align: right;\">\n",
       "      <th></th>\n",
       "      <th>Country Name</th>\n",
       "      <th>Region</th>\n",
       "      <th>2014 [YR2014]</th>\n",
       "    </tr>\n",
       "  </thead>\n",
       "  <tbody>\n",
       "  </tbody>\n",
       "</table>\n",
       "</div>"
      ],
      "text/plain": [
       "Empty DataFrame\n",
       "Columns: [Country Name, Region, 2014 [YR2014]]\n",
       "Index: []"
      ]
     },
     "execution_count": 815,
     "metadata": {},
     "output_type": "execute_result"
    }
   ],
   "source": [
    "WA_broadband_without_2014 = broadband1[broadband1.Region==\"Western Asia\"]\n",
    "WA_broadband_without_2014 = WA_broadband_without_2014[[\"Country Name\",\"Region\",\"2014 [YR2014]\"]]\n",
    "WA_broadband_without_2014"
   ]
  },
  {
   "cell_type": "code",
   "execution_count": 816,
   "id": "a05cc99f",
   "metadata": {},
   "outputs": [
    {
     "name": "stdout",
     "output_type": "stream",
     "text": [
      "Upper whisker:  nan\n",
      "Lower Whisker:  nan\n"
     ]
    },
    {
     "data": {
      "text/html": [
       "<div>\n",
       "<style scoped>\n",
       "    .dataframe tbody tr th:only-of-type {\n",
       "        vertical-align: middle;\n",
       "    }\n",
       "\n",
       "    .dataframe tbody tr th {\n",
       "        vertical-align: top;\n",
       "    }\n",
       "\n",
       "    .dataframe thead th {\n",
       "        text-align: right;\n",
       "    }\n",
       "</style>\n",
       "<table border=\"1\" class=\"dataframe\">\n",
       "  <thead>\n",
       "    <tr style=\"text-align: right;\">\n",
       "      <th></th>\n",
       "      <th>Country Name</th>\n",
       "      <th>Region</th>\n",
       "      <th>2014 [YR2014]</th>\n",
       "    </tr>\n",
       "  </thead>\n",
       "  <tbody>\n",
       "  </tbody>\n",
       "</table>\n",
       "</div>"
      ],
      "text/plain": [
       "Empty DataFrame\n",
       "Columns: [Country Name, Region, 2014 [YR2014]]\n",
       "Index: []"
      ]
     },
     "execution_count": 816,
     "metadata": {},
     "output_type": "execute_result"
    }
   ],
   "source": [
    "upper, lower = outliers(WA_broadband_without_2014, \"2014 [YR2014]\")\n",
    "print(\"Upper whisker: \", upper)\n",
    "print(\"Lower Whisker: \", lower)\n",
    "WA_broadband_without_2014 = WA_broadband_without_2014[(WA_broadband_without_2014[\"2014 [YR2014]\"] > lower) & (WA_broadband_without_2014[\"2014 [YR2014]\"] < upper)]\n",
    "WA_broadband_without_2014"
   ]
  },
  {
   "cell_type": "code",
   "execution_count": 817,
   "id": "55e1a95b",
   "metadata": {},
   "outputs": [
    {
     "data": {
      "text/plain": [
       "array([[<AxesSubplot:title={'center':'2014 [YR2014]'}>]], dtype=object)"
      ]
     },
     "execution_count": 817,
     "metadata": {},
     "output_type": "execute_result"
    },
    {
     "data": {
      "image/png": "[encoded data removed]",
      "text/plain": [
       "<Figure size 432x288 with 1 Axes>"
      ]
     },
     "metadata": {
      "needs_background": "light"
     },
     "output_type": "display_data"
    }
   ],
   "source": [
    "WA_broadband_without_2014.hist()"
   ]
  },
  {
   "cell_type": "markdown",
   "id": "b6c17a73",
   "metadata": {},
   "source": [
    "# GET DATA Electricity"
   ]
  },
  {
   "cell_type": "code",
   "execution_count": 818,
   "id": "9c3097b8",
   "metadata": {},
   "outputs": [
    {
     "data": {
      "text/html": [
       "<div>\n",
       "<style scoped>\n",
       "    .dataframe tbody tr th:only-of-type {\n",
       "        vertical-align: middle;\n",
       "    }\n",
       "\n",
       "    .dataframe tbody tr th {\n",
       "        vertical-align: top;\n",
       "    }\n",
       "\n",
       "    .dataframe thead th {\n",
       "        text-align: right;\n",
       "    }\n",
       "</style>\n",
       "<table border=\"1\" class=\"dataframe\">\n",
       "  <thead>\n",
       "    <tr style=\"text-align: right;\">\n",
       "      <th></th>\n",
       "      <th>Country Name</th>\n",
       "      <th>Country Code</th>\n",
       "      <th>Series Name</th>\n",
       "      <th>Series Code</th>\n",
       "      <th>1990 [YR1990]</th>\n",
       "      <th>1991 [YR1991]</th>\n",
       "      <th>1992 [YR1992]</th>\n",
       "      <th>1993 [YR1993]</th>\n",
       "      <th>1994 [YR1994]</th>\n",
       "      <th>1995 [YR1995]</th>\n",
       "      <th>...</th>\n",
       "      <th>2011 [YR2011]</th>\n",
       "      <th>2012 [YR2012]</th>\n",
       "      <th>2013 [YR2013]</th>\n",
       "      <th>2014 [YR2014]</th>\n",
       "      <th>2015 [YR2015]</th>\n",
       "      <th>2016 [YR2016]</th>\n",
       "      <th>2017 [YR2017]</th>\n",
       "      <th>2018 [YR2018]</th>\n",
       "      <th>2019 [YR2019]</th>\n",
       "      <th>2020 [YR2020]</th>\n",
       "    </tr>\n",
       "  </thead>\n",
       "  <tbody>\n",
       "    <tr>\n",
       "      <th>0</th>\n",
       "      <td>Afghanistan</td>\n",
       "      <td>AFG</td>\n",
       "      <td>Electric power consumption (kWh per capita)</td>\n",
       "      <td>EG.USE.ELEC.KH.PC</td>\n",
       "      <td>NaN</td>\n",
       "      <td>NaN</td>\n",
       "      <td>NaN</td>\n",
       "      <td>NaN</td>\n",
       "      <td>NaN</td>\n",
       "      <td>NaN</td>\n",
       "      <td>...</td>\n",
       "      <td>NaN</td>\n",
       "      <td>NaN</td>\n",
       "      <td>NaN</td>\n",
       "      <td>NaN</td>\n",
       "      <td>NaN</td>\n",
       "      <td>NaN</td>\n",
       "      <td>NaN</td>\n",
       "      <td>NaN</td>\n",
       "      <td>NaN</td>\n",
       "      <td>NaN</td>\n",
       "    </tr>\n",
       "    <tr>\n",
       "      <th>1</th>\n",
       "      <td>Albania</td>\n",
       "      <td>ALB</td>\n",
       "      <td>Electric power consumption (kWh per capita)</td>\n",
       "      <td>EG.USE.ELEC.KH.PC</td>\n",
       "      <td>552.252185</td>\n",
       "      <td>418.453589</td>\n",
       "      <td>453.644074</td>\n",
       "      <td>536.363825</td>\n",
       "      <td>596.407959</td>\n",
       "      <td>663.783995</td>\n",
       "      <td>...</td>\n",
       "      <td>2205.703920</td>\n",
       "      <td>2118.327776</td>\n",
       "      <td>2533.252829</td>\n",
       "      <td>2309.366503</td>\n",
       "      <td>NaN</td>\n",
       "      <td>NaN</td>\n",
       "      <td>NaN</td>\n",
       "      <td>NaN</td>\n",
       "      <td>NaN</td>\n",
       "      <td>NaN</td>\n",
       "    </tr>\n",
       "    <tr>\n",
       "      <th>2</th>\n",
       "      <td>Algeria</td>\n",
       "      <td>DZA</td>\n",
       "      <td>Electric power consumption (kWh per capita)</td>\n",
       "      <td>EG.USE.ELEC.KH.PC</td>\n",
       "      <td>531.583836</td>\n",
       "      <td>532.490560</td>\n",
       "      <td>559.783013</td>\n",
       "      <td>547.990472</td>\n",
       "      <td>550.971960</td>\n",
       "      <td>559.917891</td>\n",
       "      <td>...</td>\n",
       "      <td>1123.332915</td>\n",
       "      <td>1237.966109</td>\n",
       "      <td>1278.915242</td>\n",
       "      <td>1362.871884</td>\n",
       "      <td>NaN</td>\n",
       "      <td>NaN</td>\n",
       "      <td>NaN</td>\n",
       "      <td>NaN</td>\n",
       "      <td>NaN</td>\n",
       "      <td>NaN</td>\n",
       "    </tr>\n",
       "    <tr>\n",
       "      <th>3</th>\n",
       "      <td>American Samoa</td>\n",
       "      <td>ASM</td>\n",
       "      <td>Electric power consumption (kWh per capita)</td>\n",
       "      <td>EG.USE.ELEC.KH.PC</td>\n",
       "      <td>NaN</td>\n",
       "      <td>NaN</td>\n",
       "      <td>NaN</td>\n",
       "      <td>NaN</td>\n",
       "      <td>NaN</td>\n",
       "      <td>NaN</td>\n",
       "      <td>...</td>\n",
       "      <td>NaN</td>\n",
       "      <td>NaN</td>\n",
       "      <td>NaN</td>\n",
       "      <td>NaN</td>\n",
       "      <td>NaN</td>\n",
       "      <td>NaN</td>\n",
       "      <td>NaN</td>\n",
       "      <td>NaN</td>\n",
       "      <td>NaN</td>\n",
       "      <td>NaN</td>\n",
       "    </tr>\n",
       "    <tr>\n",
       "      <th>4</th>\n",
       "      <td>Andorra</td>\n",
       "      <td>AND</td>\n",
       "      <td>Electric power consumption (kWh per capita)</td>\n",
       "      <td>EG.USE.ELEC.KH.PC</td>\n",
       "      <td>NaN</td>\n",
       "      <td>NaN</td>\n",
       "      <td>NaN</td>\n",
       "      <td>NaN</td>\n",
       "      <td>NaN</td>\n",
       "      <td>NaN</td>\n",
       "      <td>...</td>\n",
       "      <td>NaN</td>\n",
       "      <td>NaN</td>\n",
       "      <td>NaN</td>\n",
       "      <td>NaN</td>\n",
       "      <td>NaN</td>\n",
       "      <td>NaN</td>\n",
       "      <td>NaN</td>\n",
       "      <td>NaN</td>\n",
       "      <td>NaN</td>\n",
       "      <td>NaN</td>\n",
       "    </tr>\n",
       "    <tr>\n",
       "      <th>...</th>\n",
       "      <td>...</td>\n",
       "      <td>...</td>\n",
       "      <td>...</td>\n",
       "      <td>...</td>\n",
       "      <td>...</td>\n",
       "      <td>...</td>\n",
       "      <td>...</td>\n",
       "      <td>...</td>\n",
       "      <td>...</td>\n",
       "      <td>...</td>\n",
       "      <td>...</td>\n",
       "      <td>...</td>\n",
       "      <td>...</td>\n",
       "      <td>...</td>\n",
       "      <td>...</td>\n",
       "      <td>...</td>\n",
       "      <td>...</td>\n",
       "      <td>...</td>\n",
       "      <td>...</td>\n",
       "      <td>...</td>\n",
       "      <td>...</td>\n",
       "    </tr>\n",
       "    <tr>\n",
       "      <th>217</th>\n",
       "      <td>NaN</td>\n",
       "      <td>NaN</td>\n",
       "      <td>NaN</td>\n",
       "      <td>NaN</td>\n",
       "      <td>NaN</td>\n",
       "      <td>NaN</td>\n",
       "      <td>NaN</td>\n",
       "      <td>NaN</td>\n",
       "      <td>NaN</td>\n",
       "      <td>NaN</td>\n",
       "      <td>...</td>\n",
       "      <td>NaN</td>\n",
       "      <td>NaN</td>\n",
       "      <td>NaN</td>\n",
       "      <td>NaN</td>\n",
       "      <td>NaN</td>\n",
       "      <td>NaN</td>\n",
       "      <td>NaN</td>\n",
       "      <td>NaN</td>\n",
       "      <td>NaN</td>\n",
       "      <td>NaN</td>\n",
       "    </tr>\n",
       "    <tr>\n",
       "      <th>218</th>\n",
       "      <td>NaN</td>\n",
       "      <td>NaN</td>\n",
       "      <td>NaN</td>\n",
       "      <td>NaN</td>\n",
       "      <td>NaN</td>\n",
       "      <td>NaN</td>\n",
       "      <td>NaN</td>\n",
       "      <td>NaN</td>\n",
       "      <td>NaN</td>\n",
       "      <td>NaN</td>\n",
       "      <td>...</td>\n",
       "      <td>NaN</td>\n",
       "      <td>NaN</td>\n",
       "      <td>NaN</td>\n",
       "      <td>NaN</td>\n",
       "      <td>NaN</td>\n",
       "      <td>NaN</td>\n",
       "      <td>NaN</td>\n",
       "      <td>NaN</td>\n",
       "      <td>NaN</td>\n",
       "      <td>NaN</td>\n",
       "    </tr>\n",
       "    <tr>\n",
       "      <th>219</th>\n",
       "      <td>NaN</td>\n",
       "      <td>NaN</td>\n",
       "      <td>NaN</td>\n",
       "      <td>NaN</td>\n",
       "      <td>NaN</td>\n",
       "      <td>NaN</td>\n",
       "      <td>NaN</td>\n",
       "      <td>NaN</td>\n",
       "      <td>NaN</td>\n",
       "      <td>NaN</td>\n",
       "      <td>...</td>\n",
       "      <td>NaN</td>\n",
       "      <td>NaN</td>\n",
       "      <td>NaN</td>\n",
       "      <td>NaN</td>\n",
       "      <td>NaN</td>\n",
       "      <td>NaN</td>\n",
       "      <td>NaN</td>\n",
       "      <td>NaN</td>\n",
       "      <td>NaN</td>\n",
       "      <td>NaN</td>\n",
       "    </tr>\n",
       "    <tr>\n",
       "      <th>220</th>\n",
       "      <td>Data from database: World Development Indicators</td>\n",
       "      <td>NaN</td>\n",
       "      <td>NaN</td>\n",
       "      <td>NaN</td>\n",
       "      <td>NaN</td>\n",
       "      <td>NaN</td>\n",
       "      <td>NaN</td>\n",
       "      <td>NaN</td>\n",
       "      <td>NaN</td>\n",
       "      <td>NaN</td>\n",
       "      <td>...</td>\n",
       "      <td>NaN</td>\n",
       "      <td>NaN</td>\n",
       "      <td>NaN</td>\n",
       "      <td>NaN</td>\n",
       "      <td>NaN</td>\n",
       "      <td>NaN</td>\n",
       "      <td>NaN</td>\n",
       "      <td>NaN</td>\n",
       "      <td>NaN</td>\n",
       "      <td>NaN</td>\n",
       "    </tr>\n",
       "    <tr>\n",
       "      <th>221</th>\n",
       "      <td>Last Updated: 11/23/2021</td>\n",
       "      <td>NaN</td>\n",
       "      <td>NaN</td>\n",
       "      <td>NaN</td>\n",
       "      <td>NaN</td>\n",
       "      <td>NaN</td>\n",
       "      <td>NaN</td>\n",
       "      <td>NaN</td>\n",
       "      <td>NaN</td>\n",
       "      <td>NaN</td>\n",
       "      <td>...</td>\n",
       "      <td>NaN</td>\n",
       "      <td>NaN</td>\n",
       "      <td>NaN</td>\n",
       "      <td>NaN</td>\n",
       "      <td>NaN</td>\n",
       "      <td>NaN</td>\n",
       "      <td>NaN</td>\n",
       "      <td>NaN</td>\n",
       "      <td>NaN</td>\n",
       "      <td>NaN</td>\n",
       "    </tr>\n",
       "  </tbody>\n",
       "</table>\n",
       "<p>222 rows × 35 columns</p>\n",
       "</div>"
      ],
      "text/plain": [
       "                                         Country Name Country Code  \\\n",
       "0                                         Afghanistan          AFG   \n",
       "1                                             Albania          ALB   \n",
       "2                                             Algeria          DZA   \n",
       "3                                      American Samoa          ASM   \n",
       "4                                             Andorra          AND   \n",
       "..                                                ...          ...   \n",
       "217                                               NaN          NaN   \n",
       "218                                               NaN          NaN   \n",
       "219                                               NaN          NaN   \n",
       "220  Data from database: World Development Indicators          NaN   \n",
       "221                          Last Updated: 11/23/2021          NaN   \n",
       "\n",
       "                                     Series Name        Series Code  \\\n",
       "0    Electric power consumption (kWh per capita)  EG.USE.ELEC.KH.PC   \n",
       "1    Electric power consumption (kWh per capita)  EG.USE.ELEC.KH.PC   \n",
       "2    Electric power consumption (kWh per capita)  EG.USE.ELEC.KH.PC   \n",
       "3    Electric power consumption (kWh per capita)  EG.USE.ELEC.KH.PC   \n",
       "4    Electric power consumption (kWh per capita)  EG.USE.ELEC.KH.PC   \n",
       "..                                           ...                ...   \n",
       "217                                          NaN                NaN   \n",
       "218                                          NaN                NaN   \n",
       "219                                          NaN                NaN   \n",
       "220                                          NaN                NaN   \n",
       "221                                          NaN                NaN   \n",
       "\n",
       "     1990 [YR1990]  1991 [YR1991]  1992 [YR1992]  1993 [YR1993]  \\\n",
       "0              NaN            NaN            NaN            NaN   \n",
       "1       552.252185     418.453589     453.644074     536.363825   \n",
       "2       531.583836     532.490560     559.783013     547.990472   \n",
       "3              NaN            NaN            NaN            NaN   \n",
       "4              NaN            NaN            NaN            NaN   \n",
       "..             ...            ...            ...            ...   \n",
       "217            NaN            NaN            NaN            NaN   \n",
       "218            NaN            NaN            NaN            NaN   \n",
       "219            NaN            NaN            NaN            NaN   \n",
       "220            NaN            NaN            NaN            NaN   \n",
       "221            NaN            NaN            NaN            NaN   \n",
       "\n",
       "     1994 [YR1994]  1995 [YR1995]  ...  2011 [YR2011]  2012 [YR2012]  \\\n",
       "0              NaN            NaN  ...            NaN            NaN   \n",
       "1       596.407959     663.783995  ...    2205.703920    2118.327776   \n",
       "2       550.971960     559.917891  ...    1123.332915    1237.966109   \n",
       "3              NaN            NaN  ...            NaN            NaN   \n",
       "4              NaN            NaN  ...            NaN            NaN   \n",
       "..             ...            ...  ...            ...            ...   \n",
       "217            NaN            NaN  ...            NaN            NaN   \n",
       "218            NaN            NaN  ...            NaN            NaN   \n",
       "219            NaN            NaN  ...            NaN            NaN   \n",
       "220            NaN            NaN  ...            NaN            NaN   \n",
       "221            NaN            NaN  ...            NaN            NaN   \n",
       "\n",
       "     2013 [YR2013]  2014 [YR2014]  2015 [YR2015]  2016 [YR2016]  \\\n",
       "0              NaN            NaN            NaN            NaN   \n",
       "1      2533.252829    2309.366503            NaN            NaN   \n",
       "2      1278.915242    1362.871884            NaN            NaN   \n",
       "3              NaN            NaN            NaN            NaN   \n",
       "4              NaN            NaN            NaN            NaN   \n",
       "..             ...            ...            ...            ...   \n",
       "217            NaN            NaN            NaN            NaN   \n",
       "218            NaN            NaN            NaN            NaN   \n",
       "219            NaN            NaN            NaN            NaN   \n",
       "220            NaN            NaN            NaN            NaN   \n",
       "221            NaN            NaN            NaN            NaN   \n",
       "\n",
       "     2017 [YR2017]  2018 [YR2018]  2019 [YR2019]  2020 [YR2020]  \n",
       "0              NaN            NaN            NaN            NaN  \n",
       "1              NaN            NaN            NaN            NaN  \n",
       "2              NaN            NaN            NaN            NaN  \n",
       "3              NaN            NaN            NaN            NaN  \n",
       "4              NaN            NaN            NaN            NaN  \n",
       "..             ...            ...            ...            ...  \n",
       "217            NaN            NaN            NaN            NaN  \n",
       "218            NaN            NaN            NaN            NaN  \n",
       "219            NaN            NaN            NaN            NaN  \n",
       "220            NaN            NaN            NaN            NaN  \n",
       "221            NaN            NaN            NaN            NaN  \n",
       "\n",
       "[222 rows x 35 columns]"
      ]
     },
     "execution_count": 818,
     "metadata": {},
     "output_type": "execute_result"
    }
   ],
   "source": [
    "electricity1 = pd.read_excel('infrastructure/electricity.xlsx')\n",
    "electricity1.replace({'..':np.nan},inplace=True)\n",
    "electricity1"
   ]
  },
  {
   "cell_type": "code",
   "execution_count": 819,
   "id": "99074d0d",
   "metadata": {},
   "outputs": [
    {
     "data": {
      "text/html": [
       "<div>\n",
       "<style scoped>\n",
       "    .dataframe tbody tr th:only-of-type {\n",
       "        vertical-align: middle;\n",
       "    }\n",
       "\n",
       "    .dataframe tbody tr th {\n",
       "        vertical-align: top;\n",
       "    }\n",
       "\n",
       "    .dataframe thead th {\n",
       "        text-align: right;\n",
       "    }\n",
       "</style>\n",
       "<table border=\"1\" class=\"dataframe\">\n",
       "  <thead>\n",
       "    <tr style=\"text-align: right;\">\n",
       "      <th></th>\n",
       "      <th>Country Name</th>\n",
       "      <th>Region</th>\n",
       "      <th>ThirdWorld</th>\n",
       "      <th>2000 [YR2000]</th>\n",
       "      <th>2014 [YR2014]</th>\n",
       "    </tr>\n",
       "  </thead>\n",
       "  <tbody>\n",
       "    <tr>\n",
       "      <th>0</th>\n",
       "      <td>Afghanistan</td>\n",
       "      <td>South Asia</td>\n",
       "      <td>1</td>\n",
       "      <td>NaN</td>\n",
       "      <td>NaN</td>\n",
       "    </tr>\n",
       "    <tr>\n",
       "      <th>1</th>\n",
       "      <td>Albania</td>\n",
       "      <td>Eastern Europe</td>\n",
       "      <td>0</td>\n",
       "      <td>1449.647413</td>\n",
       "      <td>2309.366503</td>\n",
       "    </tr>\n",
       "    <tr>\n",
       "      <th>2</th>\n",
       "      <td>Algeria</td>\n",
       "      <td>Africa</td>\n",
       "      <td>0</td>\n",
       "      <td>683.294806</td>\n",
       "      <td>1362.871884</td>\n",
       "    </tr>\n",
       "    <tr>\n",
       "      <th>3</th>\n",
       "      <td>American Samoa</td>\n",
       "      <td>Australia and Oceanea</td>\n",
       "      <td>0</td>\n",
       "      <td>NaN</td>\n",
       "      <td>NaN</td>\n",
       "    </tr>\n",
       "    <tr>\n",
       "      <th>4</th>\n",
       "      <td>Andorra</td>\n",
       "      <td>Western Europe</td>\n",
       "      <td>0</td>\n",
       "      <td>NaN</td>\n",
       "      <td>NaN</td>\n",
       "    </tr>\n",
       "    <tr>\n",
       "      <th>...</th>\n",
       "      <td>...</td>\n",
       "      <td>...</td>\n",
       "      <td>...</td>\n",
       "      <td>...</td>\n",
       "      <td>...</td>\n",
       "    </tr>\n",
       "    <tr>\n",
       "      <th>212</th>\n",
       "      <td>Virgin Islands (U.S.)</td>\n",
       "      <td>North America</td>\n",
       "      <td>0</td>\n",
       "      <td>NaN</td>\n",
       "      <td>NaN</td>\n",
       "    </tr>\n",
       "    <tr>\n",
       "      <th>213</th>\n",
       "      <td>West Bank and Gaza</td>\n",
       "      <td>Middle East</td>\n",
       "      <td>0</td>\n",
       "      <td>NaN</td>\n",
       "      <td>NaN</td>\n",
       "    </tr>\n",
       "    <tr>\n",
       "      <th>214</th>\n",
       "      <td>Yemen, Rep.</td>\n",
       "      <td>Middle East</td>\n",
       "      <td>1</td>\n",
       "      <td>142.741678</td>\n",
       "      <td>219.799897</td>\n",
       "    </tr>\n",
       "    <tr>\n",
       "      <th>215</th>\n",
       "      <td>Zambia</td>\n",
       "      <td>Africa</td>\n",
       "      <td>1</td>\n",
       "      <td>597.545570</td>\n",
       "      <td>717.347305</td>\n",
       "    </tr>\n",
       "    <tr>\n",
       "      <th>216</th>\n",
       "      <td>Zimbabwe</td>\n",
       "      <td>Africa</td>\n",
       "      <td>0</td>\n",
       "      <td>897.867791</td>\n",
       "      <td>609.124652</td>\n",
       "    </tr>\n",
       "  </tbody>\n",
       "</table>\n",
       "<p>217 rows × 5 columns</p>\n",
       "</div>"
      ],
      "text/plain": [
       "              Country Name                 Region  ThirdWorld  2000 [YR2000]  \\\n",
       "0              Afghanistan             South Asia           1            NaN   \n",
       "1                  Albania         Eastern Europe           0    1449.647413   \n",
       "2                  Algeria                 Africa           0     683.294806   \n",
       "3           American Samoa  Australia and Oceanea           0            NaN   \n",
       "4                  Andorra         Western Europe           0            NaN   \n",
       "..                     ...                    ...         ...            ...   \n",
       "212  Virgin Islands (U.S.)          North America           0            NaN   \n",
       "213     West Bank and Gaza            Middle East           0            NaN   \n",
       "214            Yemen, Rep.            Middle East           1     142.741678   \n",
       "215                 Zambia                 Africa           1     597.545570   \n",
       "216               Zimbabwe                 Africa           0     897.867791   \n",
       "\n",
       "     2014 [YR2014]  \n",
       "0              NaN  \n",
       "1      2309.366503  \n",
       "2      1362.871884  \n",
       "3              NaN  \n",
       "4              NaN  \n",
       "..             ...  \n",
       "212            NaN  \n",
       "213            NaN  \n",
       "214     219.799897  \n",
       "215     717.347305  \n",
       "216     609.124652  \n",
       "\n",
       "[217 rows x 5 columns]"
      ]
     },
     "execution_count": 819,
     "metadata": {},
     "output_type": "execute_result"
    }
   ],
   "source": [
    "electricity1 = country.join(electricity1[['2000 [YR2000]', '2014 [YR2014]']])\n",
    "electricity1"
   ]
  },
  {
   "cell_type": "code",
   "execution_count": 820,
   "id": "13ca9961",
   "metadata": {},
   "outputs": [
    {
     "data": {
      "text/plain": [
       "<AxesSubplot:>"
      ]
     },
     "execution_count": 820,
     "metadata": {},
     "output_type": "execute_result"
    },
    {
     "data": {
      "image/png": "[encoded data removed]",
      "text/plain": [
       "<Figure size 432x288 with 1 Axes>"
      ]
     },
     "metadata": {
      "needs_background": "light"
     },
     "output_type": "display_data"
    }
   ],
   "source": [
    "sns.heatmap(electricity1.isnull(),yticklabels=False,cbar=False,cmap='viridis')"
   ]
  },
  {
   "cell_type": "code",
   "execution_count": 821,
   "id": "69648bc6",
   "metadata": {},
   "outputs": [
    {
     "data": {
      "text/plain": [
       "<AxesSubplot:>"
      ]
     },
     "execution_count": 821,
     "metadata": {},
     "output_type": "execute_result"
    },
    {
     "data": {
      "image/png": "[encoded data removed]",
      "text/plain": [
       "<Figure size 432x288 with 1 Axes>"
      ]
     },
     "metadata": {
      "needs_background": "light"
     },
     "output_type": "display_data"
    }
   ],
   "source": [
    "sns.heatmap(electricity1.isnull(),yticklabels=False,cbar=False,cmap='viridis')"
   ]
  },
  {
   "cell_type": "code",
   "execution_count": 822,
   "id": "715490e3",
   "metadata": {},
   "outputs": [
    {
     "data": {
      "text/html": [
       "<div>\n",
       "<style scoped>\n",
       "    .dataframe tbody tr th:only-of-type {\n",
       "        vertical-align: middle;\n",
       "    }\n",
       "\n",
       "    .dataframe tbody tr th {\n",
       "        vertical-align: top;\n",
       "    }\n",
       "\n",
       "    .dataframe thead th {\n",
       "        text-align: right;\n",
       "    }\n",
       "</style>\n",
       "<table border=\"1\" class=\"dataframe\">\n",
       "  <thead>\n",
       "    <tr style=\"text-align: right;\">\n",
       "      <th></th>\n",
       "      <th>Country Name</th>\n",
       "      <th>Region</th>\n",
       "      <th>ThirdWorld</th>\n",
       "      <th>2000 [YR2000]</th>\n",
       "      <th>2014 [YR2014]</th>\n",
       "    </tr>\n",
       "  </thead>\n",
       "  <tbody>\n",
       "    <tr>\n",
       "      <th>1</th>\n",
       "      <td>Albania</td>\n",
       "      <td>Eastern Europe</td>\n",
       "      <td>0</td>\n",
       "      <td>1449.647413</td>\n",
       "      <td>2309.366503</td>\n",
       "    </tr>\n",
       "    <tr>\n",
       "      <th>2</th>\n",
       "      <td>Algeria</td>\n",
       "      <td>Africa</td>\n",
       "      <td>0</td>\n",
       "      <td>683.294806</td>\n",
       "      <td>1362.871884</td>\n",
       "    </tr>\n",
       "    <tr>\n",
       "      <th>5</th>\n",
       "      <td>Angola</td>\n",
       "      <td>Africa</td>\n",
       "      <td>1</td>\n",
       "      <td>75.264660</td>\n",
       "      <td>312.228895</td>\n",
       "    </tr>\n",
       "    <tr>\n",
       "      <th>7</th>\n",
       "      <td>Argentina</td>\n",
       "      <td>South America</td>\n",
       "      <td>0</td>\n",
       "      <td>2088.807630</td>\n",
       "      <td>3074.702071</td>\n",
       "    </tr>\n",
       "    <tr>\n",
       "      <th>8</th>\n",
       "      <td>Armenia</td>\n",
       "      <td>Western Asia</td>\n",
       "      <td>0</td>\n",
       "      <td>1297.564469</td>\n",
       "      <td>1961.610395</td>\n",
       "    </tr>\n",
       "    <tr>\n",
       "      <th>...</th>\n",
       "      <td>...</td>\n",
       "      <td>...</td>\n",
       "      <td>...</td>\n",
       "      <td>...</td>\n",
       "      <td>...</td>\n",
       "    </tr>\n",
       "    <tr>\n",
       "      <th>210</th>\n",
       "      <td>Venezuela, RB</td>\n",
       "      <td>South America</td>\n",
       "      <td>0</td>\n",
       "      <td>2667.609220</td>\n",
       "      <td>2719.138349</td>\n",
       "    </tr>\n",
       "    <tr>\n",
       "      <th>211</th>\n",
       "      <td>Vietnam</td>\n",
       "      <td>Southeast Asia</td>\n",
       "      <td>0</td>\n",
       "      <td>286.620976</td>\n",
       "      <td>1423.699910</td>\n",
       "    </tr>\n",
       "    <tr>\n",
       "      <th>214</th>\n",
       "      <td>Yemen, Rep.</td>\n",
       "      <td>Middle East</td>\n",
       "      <td>1</td>\n",
       "      <td>142.741678</td>\n",
       "      <td>219.799897</td>\n",
       "    </tr>\n",
       "    <tr>\n",
       "      <th>215</th>\n",
       "      <td>Zambia</td>\n",
       "      <td>Africa</td>\n",
       "      <td>1</td>\n",
       "      <td>597.545570</td>\n",
       "      <td>717.347305</td>\n",
       "    </tr>\n",
       "    <tr>\n",
       "      <th>216</th>\n",
       "      <td>Zimbabwe</td>\n",
       "      <td>Africa</td>\n",
       "      <td>0</td>\n",
       "      <td>897.867791</td>\n",
       "      <td>609.124652</td>\n",
       "    </tr>\n",
       "  </tbody>\n",
       "</table>\n",
       "<p>140 rows × 5 columns</p>\n",
       "</div>"
      ],
      "text/plain": [
       "      Country Name          Region  ThirdWorld  2000 [YR2000]  2014 [YR2014]\n",
       "1          Albania  Eastern Europe           0    1449.647413    2309.366503\n",
       "2          Algeria          Africa           0     683.294806    1362.871884\n",
       "5           Angola          Africa           1      75.264660     312.228895\n",
       "7        Argentina   South America           0    2088.807630    3074.702071\n",
       "8          Armenia    Western Asia           0    1297.564469    1961.610395\n",
       "..             ...             ...         ...            ...            ...\n",
       "210  Venezuela, RB   South America           0    2667.609220    2719.138349\n",
       "211        Vietnam  Southeast Asia           0     286.620976    1423.699910\n",
       "214    Yemen, Rep.     Middle East           1     142.741678     219.799897\n",
       "215         Zambia          Africa           1     597.545570     717.347305\n",
       "216       Zimbabwe          Africa           0     897.867791     609.124652\n",
       "\n",
       "[140 rows x 5 columns]"
      ]
     },
     "execution_count": 822,
     "metadata": {},
     "output_type": "execute_result"
    }
   ],
   "source": [
    "electricity1 = electricity1.dropna()\n",
    "electricity1\n"
   ]
  },
  {
   "cell_type": "code",
   "execution_count": 823,
   "id": "99622784",
   "metadata": {},
   "outputs": [],
   "source": [
    "#North America 2000 with outliers"
   ]
  },
  {
   "cell_type": "code",
   "execution_count": 824,
   "id": "e6a73e6b",
   "metadata": {},
   "outputs": [
    {
     "data": {
      "text/plain": [
       "array([[<AxesSubplot:title={'center':'2000 [YR2000]'}>]], dtype=object)"
      ]
     },
     "execution_count": 824,
     "metadata": {},
     "output_type": "execute_result"
    },
    {
     "data": {
      "image/png": "[encoded data removed]",
      "text/plain": [
       "<Figure size 432x288 with 1 Axes>"
      ]
     },
     "metadata": {
      "needs_background": "light"
     },
     "output_type": "display_data"
    }
   ],
   "source": [
    "electricity1[electricity1.Region==\"North America\"].hist(column='2000 [YR2000]')"
   ]
  },
  {
   "cell_type": "code",
   "execution_count": 825,
   "id": "1ff5e5ab",
   "metadata": {},
   "outputs": [],
   "source": [
    "#North America 2000 without outliers"
   ]
  },
  {
   "cell_type": "code",
   "execution_count": 826,
   "id": "88976a21",
   "metadata": {},
   "outputs": [
    {
     "data": {
      "text/html": [
       "<div>\n",
       "<style scoped>\n",
       "    .dataframe tbody tr th:only-of-type {\n",
       "        vertical-align: middle;\n",
       "    }\n",
       "\n",
       "    .dataframe tbody tr th {\n",
       "        vertical-align: top;\n",
       "    }\n",
       "\n",
       "    .dataframe thead th {\n",
       "        text-align: right;\n",
       "    }\n",
       "</style>\n",
       "<table border=\"1\" class=\"dataframe\">\n",
       "  <thead>\n",
       "    <tr style=\"text-align: right;\">\n",
       "      <th></th>\n",
       "      <th>Country Name</th>\n",
       "      <th>Region</th>\n",
       "      <th>2000 [YR2000]</th>\n",
       "    </tr>\n",
       "  </thead>\n",
       "  <tbody>\n",
       "    <tr>\n",
       "      <th>35</th>\n",
       "      <td>Canada</td>\n",
       "      <td>North America</td>\n",
       "      <td>17037.072281</td>\n",
       "    </tr>\n",
       "    <tr>\n",
       "      <th>46</th>\n",
       "      <td>Costa Rica</td>\n",
       "      <td>North America</td>\n",
       "      <td>1506.926791</td>\n",
       "    </tr>\n",
       "    <tr>\n",
       "      <th>49</th>\n",
       "      <td>Cuba</td>\n",
       "      <td>North America</td>\n",
       "      <td>1137.921864</td>\n",
       "    </tr>\n",
       "    <tr>\n",
       "      <th>50</th>\n",
       "      <td>Curacao</td>\n",
       "      <td>North America</td>\n",
       "      <td>7291.199761</td>\n",
       "    </tr>\n",
       "    <tr>\n",
       "      <th>56</th>\n",
       "      <td>Dominican Republic</td>\n",
       "      <td>North America</td>\n",
       "      <td>1327.774654</td>\n",
       "    </tr>\n",
       "    <tr>\n",
       "      <th>59</th>\n",
       "      <td>El Salvador</td>\n",
       "      <td>North America</td>\n",
       "      <td>614.986931</td>\n",
       "    </tr>\n",
       "    <tr>\n",
       "      <th>80</th>\n",
       "      <td>Guatemala</td>\n",
       "      <td>North America</td>\n",
       "      <td>332.189766</td>\n",
       "    </tr>\n",
       "    <tr>\n",
       "      <th>84</th>\n",
       "      <td>Haiti</td>\n",
       "      <td>North America</td>\n",
       "      <td>35.799514</td>\n",
       "    </tr>\n",
       "    <tr>\n",
       "      <th>85</th>\n",
       "      <td>Honduras</td>\n",
       "      <td>North America</td>\n",
       "      <td>488.401417</td>\n",
       "    </tr>\n",
       "    <tr>\n",
       "      <th>97</th>\n",
       "      <td>Jamaica</td>\n",
       "      <td>North America</td>\n",
       "      <td>2276.341791</td>\n",
       "    </tr>\n",
       "    <tr>\n",
       "      <th>127</th>\n",
       "      <td>Mexico</td>\n",
       "      <td>North America</td>\n",
       "      <td>1800.467938</td>\n",
       "    </tr>\n",
       "    <tr>\n",
       "      <th>142</th>\n",
       "      <td>Nicaragua</td>\n",
       "      <td>North America</td>\n",
       "      <td>344.820104</td>\n",
       "    </tr>\n",
       "    <tr>\n",
       "      <th>151</th>\n",
       "      <td>Panama</td>\n",
       "      <td>North America</td>\n",
       "      <td>1266.527474</td>\n",
       "    </tr>\n",
       "    <tr>\n",
       "      <th>196</th>\n",
       "      <td>Trinidad and Tobago</td>\n",
       "      <td>North America</td>\n",
       "      <td>3993.184754</td>\n",
       "    </tr>\n",
       "    <tr>\n",
       "      <th>206</th>\n",
       "      <td>United States</td>\n",
       "      <td>North America</td>\n",
       "      <td>13671.052024</td>\n",
       "    </tr>\n",
       "  </tbody>\n",
       "</table>\n",
       "</div>"
      ],
      "text/plain": [
       "            Country Name         Region  2000 [YR2000]\n",
       "35                Canada  North America   17037.072281\n",
       "46            Costa Rica  North America    1506.926791\n",
       "49                  Cuba  North America    1137.921864\n",
       "50               Curacao  North America    7291.199761\n",
       "56    Dominican Republic  North America    1327.774654\n",
       "59           El Salvador  North America     614.986931\n",
       "80             Guatemala  North America     332.189766\n",
       "84                 Haiti  North America      35.799514\n",
       "85              Honduras  North America     488.401417\n",
       "97               Jamaica  North America    2276.341791\n",
       "127               Mexico  North America    1800.467938\n",
       "142            Nicaragua  North America     344.820104\n",
       "151               Panama  North America    1266.527474\n",
       "196  Trinidad and Tobago  North America    3993.184754\n",
       "206        United States  North America   13671.052024"
      ]
     },
     "execution_count": 826,
     "metadata": {},
     "output_type": "execute_result"
    }
   ],
   "source": [
    "NA_electricity_without_2000 = electricity1[electricity1.Region==\"North America\"]\n",
    "NA_electricity_without_2000 = NA_electricity_without_2000[[\"Country Name\",\"Region\",\"2000 [YR2000]\"]]\n",
    "NA_electricity_without_2000"
   ]
  },
  {
   "cell_type": "code",
   "execution_count": 827,
   "id": "35a864e1",
   "metadata": {},
   "outputs": [
    {
     "name": "stdout",
     "output_type": "stream",
     "text": [
      "Upper whisker:  7009.366920697618\n",
      "Lower Whisker:  -3322.9094741157287\n"
     ]
    },
    {
     "data": {
      "text/html": [
       "<div>\n",
       "<style scoped>\n",
       "    .dataframe tbody tr th:only-of-type {\n",
       "        vertical-align: middle;\n",
       "    }\n",
       "\n",
       "    .dataframe tbody tr th {\n",
       "        vertical-align: top;\n",
       "    }\n",
       "\n",
       "    .dataframe thead th {\n",
       "        text-align: right;\n",
       "    }\n",
       "</style>\n",
       "<table border=\"1\" class=\"dataframe\">\n",
       "  <thead>\n",
       "    <tr style=\"text-align: right;\">\n",
       "      <th></th>\n",
       "      <th>Country Name</th>\n",
       "      <th>Region</th>\n",
       "      <th>2000 [YR2000]</th>\n",
       "    </tr>\n",
       "  </thead>\n",
       "  <tbody>\n",
       "    <tr>\n",
       "      <th>46</th>\n",
       "      <td>Costa Rica</td>\n",
       "      <td>North America</td>\n",
       "      <td>1506.926791</td>\n",
       "    </tr>\n",
       "    <tr>\n",
       "      <th>49</th>\n",
       "      <td>Cuba</td>\n",
       "      <td>North America</td>\n",
       "      <td>1137.921864</td>\n",
       "    </tr>\n",
       "    <tr>\n",
       "      <th>56</th>\n",
       "      <td>Dominican Republic</td>\n",
       "      <td>North America</td>\n",
       "      <td>1327.774654</td>\n",
       "    </tr>\n",
       "    <tr>\n",
       "      <th>59</th>\n",
       "      <td>El Salvador</td>\n",
       "      <td>North America</td>\n",
       "      <td>614.986931</td>\n",
       "    </tr>\n",
       "    <tr>\n",
       "      <th>80</th>\n",
       "      <td>Guatemala</td>\n",
       "      <td>North America</td>\n",
       "      <td>332.189766</td>\n",
       "    </tr>\n",
       "    <tr>\n",
       "      <th>84</th>\n",
       "      <td>Haiti</td>\n",
       "      <td>North America</td>\n",
       "      <td>35.799514</td>\n",
       "    </tr>\n",
       "    <tr>\n",
       "      <th>85</th>\n",
       "      <td>Honduras</td>\n",
       "      <td>North America</td>\n",
       "      <td>488.401417</td>\n",
       "    </tr>\n",
       "    <tr>\n",
       "      <th>97</th>\n",
       "      <td>Jamaica</td>\n",
       "      <td>North America</td>\n",
       "      <td>2276.341791</td>\n",
       "    </tr>\n",
       "    <tr>\n",
       "      <th>127</th>\n",
       "      <td>Mexico</td>\n",
       "      <td>North America</td>\n",
       "      <td>1800.467938</td>\n",
       "    </tr>\n",
       "    <tr>\n",
       "      <th>142</th>\n",
       "      <td>Nicaragua</td>\n",
       "      <td>North America</td>\n",
       "      <td>344.820104</td>\n",
       "    </tr>\n",
       "    <tr>\n",
       "      <th>151</th>\n",
       "      <td>Panama</td>\n",
       "      <td>North America</td>\n",
       "      <td>1266.527474</td>\n",
       "    </tr>\n",
       "    <tr>\n",
       "      <th>196</th>\n",
       "      <td>Trinidad and Tobago</td>\n",
       "      <td>North America</td>\n",
       "      <td>3993.184754</td>\n",
       "    </tr>\n",
       "  </tbody>\n",
       "</table>\n",
       "</div>"
      ],
      "text/plain": [
       "            Country Name         Region  2000 [YR2000]\n",
       "46            Costa Rica  North America    1506.926791\n",
       "49                  Cuba  North America    1137.921864\n",
       "56    Dominican Republic  North America    1327.774654\n",
       "59           El Salvador  North America     614.986931\n",
       "80             Guatemala  North America     332.189766\n",
       "84                 Haiti  North America      35.799514\n",
       "85              Honduras  North America     488.401417\n",
       "97               Jamaica  North America    2276.341791\n",
       "127               Mexico  North America    1800.467938\n",
       "142            Nicaragua  North America     344.820104\n",
       "151               Panama  North America    1266.527474\n",
       "196  Trinidad and Tobago  North America    3993.184754"
      ]
     },
     "execution_count": 827,
     "metadata": {},
     "output_type": "execute_result"
    }
   ],
   "source": [
    "upper, lower = outliers(NA_electricity_without_2000, \"2000 [YR2000]\")\n",
    "print(\"Upper whisker: \", upper)\n",
    "print(\"Lower Whisker: \", lower)\n",
    "NA_electricity_without_2000 = NA_electricity_without_2000[(NA_electricity_without_2000[\"2000 [YR2000]\"] > lower) & (NA_electricity_without_2000[\"2000 [YR2000]\"] < upper)]\n",
    "NA_electricity_without_2000"
   ]
  },
  {
   "cell_type": "code",
   "execution_count": 828,
   "id": "a66c182b",
   "metadata": {},
   "outputs": [
    {
     "data": {
      "text/plain": [
       "array([[<AxesSubplot:title={'center':'2000 [YR2000]'}>]], dtype=object)"
      ]
     },
     "execution_count": 828,
     "metadata": {},
     "output_type": "execute_result"
    },
    {
     "data": {
      "image/png": "[encoded data removed]",
      "text/plain": [
       "<Figure size 432x288 with 1 Axes>"
      ]
     },
     "metadata": {
      "needs_background": "light"
     },
     "output_type": "display_data"
    }
   ],
   "source": [
    "NA_electricity_without_2000.hist()"
   ]
  },
  {
   "cell_type": "code",
   "execution_count": 829,
   "id": "4ad77c3d",
   "metadata": {},
   "outputs": [],
   "source": [
    "#North America 2014 with outliers"
   ]
  },
  {
   "cell_type": "code",
   "execution_count": 830,
   "id": "a7f4492c",
   "metadata": {},
   "outputs": [
    {
     "data": {
      "text/plain": [
       "array([[<AxesSubplot:title={'center':'2014 [YR2014]'}>]], dtype=object)"
      ]
     },
     "execution_count": 830,
     "metadata": {},
     "output_type": "execute_result"
    },
    {
     "data": {
      "image/png": "[encoded data removed]",
      "text/plain": [
       "<Figure size 432x288 with 1 Axes>"
      ]
     },
     "metadata": {
      "needs_background": "light"
     },
     "output_type": "display_data"
    }
   ],
   "source": [
    "electricity1[electricity1.Region==\"North America\"].hist(column='2014 [YR2014]')"
   ]
  },
  {
   "cell_type": "code",
   "execution_count": 831,
   "id": "71fab755",
   "metadata": {},
   "outputs": [],
   "source": [
    "#North America 2014 without outliers"
   ]
  },
  {
   "cell_type": "code",
   "execution_count": 832,
   "id": "cc9a5c1e",
   "metadata": {},
   "outputs": [
    {
     "data": {
      "text/html": [
       "<div>\n",
       "<style scoped>\n",
       "    .dataframe tbody tr th:only-of-type {\n",
       "        vertical-align: middle;\n",
       "    }\n",
       "\n",
       "    .dataframe tbody tr th {\n",
       "        vertical-align: top;\n",
       "    }\n",
       "\n",
       "    .dataframe thead th {\n",
       "        text-align: right;\n",
       "    }\n",
       "</style>\n",
       "<table border=\"1\" class=\"dataframe\">\n",
       "  <thead>\n",
       "    <tr style=\"text-align: right;\">\n",
       "      <th></th>\n",
       "      <th>Country Name</th>\n",
       "      <th>Region</th>\n",
       "      <th>2014 [YR2014]</th>\n",
       "    </tr>\n",
       "  </thead>\n",
       "  <tbody>\n",
       "    <tr>\n",
       "      <th>35</th>\n",
       "      <td>Canada</td>\n",
       "      <td>North America</td>\n",
       "      <td>15588.487146</td>\n",
       "    </tr>\n",
       "    <tr>\n",
       "      <th>46</th>\n",
       "      <td>Costa Rica</td>\n",
       "      <td>North America</td>\n",
       "      <td>1942.490600</td>\n",
       "    </tr>\n",
       "    <tr>\n",
       "      <th>49</th>\n",
       "      <td>Cuba</td>\n",
       "      <td>North America</td>\n",
       "      <td>1450.882819</td>\n",
       "    </tr>\n",
       "    <tr>\n",
       "      <th>50</th>\n",
       "      <td>Curacao</td>\n",
       "      <td>North America</td>\n",
       "      <td>4797.670436</td>\n",
       "    </tr>\n",
       "    <tr>\n",
       "      <th>56</th>\n",
       "      <td>Dominican Republic</td>\n",
       "      <td>North America</td>\n",
       "      <td>1615.514607</td>\n",
       "    </tr>\n",
       "    <tr>\n",
       "      <th>59</th>\n",
       "      <td>El Salvador</td>\n",
       "      <td>North America</td>\n",
       "      <td>937.074472</td>\n",
       "    </tr>\n",
       "    <tr>\n",
       "      <th>80</th>\n",
       "      <td>Guatemala</td>\n",
       "      <td>North America</td>\n",
       "      <td>601.189731</td>\n",
       "    </tr>\n",
       "    <tr>\n",
       "      <th>84</th>\n",
       "      <td>Haiti</td>\n",
       "      <td>North America</td>\n",
       "      <td>39.055809</td>\n",
       "    </tr>\n",
       "    <tr>\n",
       "      <th>85</th>\n",
       "      <td>Honduras</td>\n",
       "      <td>North America</td>\n",
       "      <td>619.837087</td>\n",
       "    </tr>\n",
       "    <tr>\n",
       "      <th>97</th>\n",
       "      <td>Jamaica</td>\n",
       "      <td>North America</td>\n",
       "      <td>1050.732539</td>\n",
       "    </tr>\n",
       "    <tr>\n",
       "      <th>127</th>\n",
       "      <td>Mexico</td>\n",
       "      <td>North America</td>\n",
       "      <td>2157.323788</td>\n",
       "    </tr>\n",
       "    <tr>\n",
       "      <th>142</th>\n",
       "      <td>Nicaragua</td>\n",
       "      <td>North America</td>\n",
       "      <td>568.313718</td>\n",
       "    </tr>\n",
       "    <tr>\n",
       "      <th>151</th>\n",
       "      <td>Panama</td>\n",
       "      <td>North America</td>\n",
       "      <td>2064.177914</td>\n",
       "    </tr>\n",
       "    <tr>\n",
       "      <th>196</th>\n",
       "      <td>Trinidad and Tobago</td>\n",
       "      <td>North America</td>\n",
       "      <td>7092.958644</td>\n",
       "    </tr>\n",
       "    <tr>\n",
       "      <th>206</th>\n",
       "      <td>United States</td>\n",
       "      <td>North America</td>\n",
       "      <td>12993.965579</td>\n",
       "    </tr>\n",
       "  </tbody>\n",
       "</table>\n",
       "</div>"
      ],
      "text/plain": [
       "            Country Name         Region  2014 [YR2014]\n",
       "35                Canada  North America   15588.487146\n",
       "46            Costa Rica  North America    1942.490600\n",
       "49                  Cuba  North America    1450.882819\n",
       "50               Curacao  North America    4797.670436\n",
       "56    Dominican Republic  North America    1615.514607\n",
       "59           El Salvador  North America     937.074472\n",
       "80             Guatemala  North America     601.189731\n",
       "84                 Haiti  North America      39.055809\n",
       "85              Honduras  North America     619.837087\n",
       "97               Jamaica  North America    1050.732539\n",
       "127               Mexico  North America    2157.323788\n",
       "142            Nicaragua  North America     568.313718\n",
       "151               Panama  North America    2064.177914\n",
       "196  Trinidad and Tobago  North America    7092.958644\n",
       "206        United States  North America   12993.965579"
      ]
     },
     "execution_count": 832,
     "metadata": {},
     "output_type": "execute_result"
    }
   ],
   "source": [
    "NA_electricity_without_2014 = electricity1[electricity1.Region==\"North America\"]\n",
    "NA_electricity_without_2014 = NA_electricity_without_2014[[\"Country Name\",\"Region\",\"2014 [YR2014]\"]]\n",
    "NA_electricity_without_2014"
   ]
  },
  {
   "cell_type": "code",
   "execution_count": 833,
   "id": "6d8e92cd",
   "metadata": {},
   "outputs": [
    {
     "name": "stdout",
     "output_type": "stream",
     "text": [
      "Upper whisker:  7526.059109893906\n",
      "Lower Whisker:  -3270.1062185208984\n"
     ]
    },
    {
     "data": {
      "text/html": [
       "<div>\n",
       "<style scoped>\n",
       "    .dataframe tbody tr th:only-of-type {\n",
       "        vertical-align: middle;\n",
       "    }\n",
       "\n",
       "    .dataframe tbody tr th {\n",
       "        vertical-align: top;\n",
       "    }\n",
       "\n",
       "    .dataframe thead th {\n",
       "        text-align: right;\n",
       "    }\n",
       "</style>\n",
       "<table border=\"1\" class=\"dataframe\">\n",
       "  <thead>\n",
       "    <tr style=\"text-align: right;\">\n",
       "      <th></th>\n",
       "      <th>Country Name</th>\n",
       "      <th>Region</th>\n",
       "      <th>2014 [YR2014]</th>\n",
       "    </tr>\n",
       "  </thead>\n",
       "  <tbody>\n",
       "    <tr>\n",
       "      <th>46</th>\n",
       "      <td>Costa Rica</td>\n",
       "      <td>North America</td>\n",
       "      <td>1942.490600</td>\n",
       "    </tr>\n",
       "    <tr>\n",
       "      <th>49</th>\n",
       "      <td>Cuba</td>\n",
       "      <td>North America</td>\n",
       "      <td>1450.882819</td>\n",
       "    </tr>\n",
       "    <tr>\n",
       "      <th>50</th>\n",
       "      <td>Curacao</td>\n",
       "      <td>North America</td>\n",
       "      <td>4797.670436</td>\n",
       "    </tr>\n",
       "    <tr>\n",
       "      <th>56</th>\n",
       "      <td>Dominican Republic</td>\n",
       "      <td>North America</td>\n",
       "      <td>1615.514607</td>\n",
       "    </tr>\n",
       "    <tr>\n",
       "      <th>59</th>\n",
       "      <td>El Salvador</td>\n",
       "      <td>North America</td>\n",
       "      <td>937.074472</td>\n",
       "    </tr>\n",
       "    <tr>\n",
       "      <th>80</th>\n",
       "      <td>Guatemala</td>\n",
       "      <td>North America</td>\n",
       "      <td>601.189731</td>\n",
       "    </tr>\n",
       "    <tr>\n",
       "      <th>84</th>\n",
       "      <td>Haiti</td>\n",
       "      <td>North America</td>\n",
       "      <td>39.055809</td>\n",
       "    </tr>\n",
       "    <tr>\n",
       "      <th>85</th>\n",
       "      <td>Honduras</td>\n",
       "      <td>North America</td>\n",
       "      <td>619.837087</td>\n",
       "    </tr>\n",
       "    <tr>\n",
       "      <th>97</th>\n",
       "      <td>Jamaica</td>\n",
       "      <td>North America</td>\n",
       "      <td>1050.732539</td>\n",
       "    </tr>\n",
       "    <tr>\n",
       "      <th>127</th>\n",
       "      <td>Mexico</td>\n",
       "      <td>North America</td>\n",
       "      <td>2157.323788</td>\n",
       "    </tr>\n",
       "    <tr>\n",
       "      <th>142</th>\n",
       "      <td>Nicaragua</td>\n",
       "      <td>North America</td>\n",
       "      <td>568.313718</td>\n",
       "    </tr>\n",
       "    <tr>\n",
       "      <th>151</th>\n",
       "      <td>Panama</td>\n",
       "      <td>North America</td>\n",
       "      <td>2064.177914</td>\n",
       "    </tr>\n",
       "    <tr>\n",
       "      <th>196</th>\n",
       "      <td>Trinidad and Tobago</td>\n",
       "      <td>North America</td>\n",
       "      <td>7092.958644</td>\n",
       "    </tr>\n",
       "  </tbody>\n",
       "</table>\n",
       "</div>"
      ],
      "text/plain": [
       "            Country Name         Region  2014 [YR2014]\n",
       "46            Costa Rica  North America    1942.490600\n",
       "49                  Cuba  North America    1450.882819\n",
       "50               Curacao  North America    4797.670436\n",
       "56    Dominican Republic  North America    1615.514607\n",
       "59           El Salvador  North America     937.074472\n",
       "80             Guatemala  North America     601.189731\n",
       "84                 Haiti  North America      39.055809\n",
       "85              Honduras  North America     619.837087\n",
       "97               Jamaica  North America    1050.732539\n",
       "127               Mexico  North America    2157.323788\n",
       "142            Nicaragua  North America     568.313718\n",
       "151               Panama  North America    2064.177914\n",
       "196  Trinidad and Tobago  North America    7092.958644"
      ]
     },
     "execution_count": 833,
     "metadata": {},
     "output_type": "execute_result"
    }
   ],
   "source": [
    "upper, lower = outliers(NA_electricity_without_2014, \"2014 [YR2014]\")\n",
    "print(\"Upper whisker: \", upper)\n",
    "print(\"Lower Whisker: \", lower)\n",
    "NA_electricity_without_2014 = NA_electricity_without_2014[(NA_electricity_without_2014[\"2014 [YR2014]\"] > lower) & (NA_electricity_without_2014[\"2014 [YR2014]\"] < upper)]\n",
    "NA_electricity_without_2014"
   ]
  },
  {
   "cell_type": "code",
   "execution_count": 834,
   "id": "2395ec8f",
   "metadata": {},
   "outputs": [
    {
     "data": {
      "text/plain": [
       "array([[<AxesSubplot:title={'center':'2014 [YR2014]'}>]], dtype=object)"
      ]
     },
     "execution_count": 834,
     "metadata": {},
     "output_type": "execute_result"
    },
    {
     "data": {
      "image/png": "[encoded data removed]",
      "text/plain": [
       "<Figure size 432x288 with 1 Axes>"
      ]
     },
     "metadata": {
      "needs_background": "light"
     },
     "output_type": "display_data"
    }
   ],
   "source": [
    "NA_electricity_without_2014.hist()"
   ]
  },
  {
   "cell_type": "code",
   "execution_count": 835,
   "id": "78f9e0b9",
   "metadata": {},
   "outputs": [],
   "source": [
    "#South America 2000 with outliers"
   ]
  },
  {
   "cell_type": "code",
   "execution_count": 836,
   "id": "c6174d3a",
   "metadata": {},
   "outputs": [
    {
     "data": {
      "text/plain": [
       "array([[<AxesSubplot:title={'center':'2000 [YR2000]'}>]], dtype=object)"
      ]
     },
     "execution_count": 836,
     "metadata": {},
     "output_type": "execute_result"
    },
    {
     "data": {
      "image/png": "[encoded data removed]",
      "text/plain": [
       "<Figure size 432x288 with 1 Axes>"
      ]
     },
     "metadata": {
      "needs_background": "light"
     },
     "output_type": "display_data"
    }
   ],
   "source": [
    "electricity1[electricity1.Region==\"South America\"].hist(column='2000 [YR2000]')"
   ]
  },
  {
   "cell_type": "code",
   "execution_count": 837,
   "id": "98b89bad",
   "metadata": {},
   "outputs": [],
   "source": [
    "#South America 2000 without outliers"
   ]
  },
  {
   "cell_type": "code",
   "execution_count": 838,
   "id": "56630cc6",
   "metadata": {},
   "outputs": [
    {
     "data": {
      "text/html": [
       "<div>\n",
       "<style scoped>\n",
       "    .dataframe tbody tr th:only-of-type {\n",
       "        vertical-align: middle;\n",
       "    }\n",
       "\n",
       "    .dataframe tbody tr th {\n",
       "        vertical-align: top;\n",
       "    }\n",
       "\n",
       "    .dataframe thead th {\n",
       "        text-align: right;\n",
       "    }\n",
       "</style>\n",
       "<table border=\"1\" class=\"dataframe\">\n",
       "  <thead>\n",
       "    <tr style=\"text-align: right;\">\n",
       "      <th></th>\n",
       "      <th>Country Name</th>\n",
       "      <th>Region</th>\n",
       "      <th>2000 [YR2000]</th>\n",
       "    </tr>\n",
       "  </thead>\n",
       "  <tbody>\n",
       "    <tr>\n",
       "      <th>7</th>\n",
       "      <td>Argentina</td>\n",
       "      <td>South America</td>\n",
       "      <td>2088.807630</td>\n",
       "    </tr>\n",
       "    <tr>\n",
       "      <th>23</th>\n",
       "      <td>Bolivia</td>\n",
       "      <td>South America</td>\n",
       "      <td>415.881173</td>\n",
       "    </tr>\n",
       "    <tr>\n",
       "      <th>26</th>\n",
       "      <td>Brazil</td>\n",
       "      <td>South America</td>\n",
       "      <td>1897.353148</td>\n",
       "    </tr>\n",
       "    <tr>\n",
       "      <th>40</th>\n",
       "      <td>Chile</td>\n",
       "      <td>South America</td>\n",
       "      <td>2499.291178</td>\n",
       "    </tr>\n",
       "    <tr>\n",
       "      <th>42</th>\n",
       "      <td>Colombia</td>\n",
       "      <td>South America</td>\n",
       "      <td>845.597517</td>\n",
       "    </tr>\n",
       "    <tr>\n",
       "      <th>57</th>\n",
       "      <td>Ecuador</td>\n",
       "      <td>South America</td>\n",
       "      <td>634.880681</td>\n",
       "    </tr>\n",
       "    <tr>\n",
       "      <th>153</th>\n",
       "      <td>Paraguay</td>\n",
       "      <td>South America</td>\n",
       "      <td>884.054372</td>\n",
       "    </tr>\n",
       "    <tr>\n",
       "      <th>154</th>\n",
       "      <td>Peru</td>\n",
       "      <td>South America</td>\n",
       "      <td>666.176769</td>\n",
       "    </tr>\n",
       "    <tr>\n",
       "      <th>186</th>\n",
       "      <td>Suriname</td>\n",
       "      <td>South America</td>\n",
       "      <td>2265.662159</td>\n",
       "    </tr>\n",
       "    <tr>\n",
       "      <th>207</th>\n",
       "      <td>Uruguay</td>\n",
       "      <td>South America</td>\n",
       "      <td>2031.186836</td>\n",
       "    </tr>\n",
       "    <tr>\n",
       "      <th>210</th>\n",
       "      <td>Venezuela, RB</td>\n",
       "      <td>South America</td>\n",
       "      <td>2667.609220</td>\n",
       "    </tr>\n",
       "  </tbody>\n",
       "</table>\n",
       "</div>"
      ],
      "text/plain": [
       "      Country Name         Region  2000 [YR2000]\n",
       "7        Argentina  South America    2088.807630\n",
       "23         Bolivia  South America     415.881173\n",
       "26          Brazil  South America    1897.353148\n",
       "40           Chile  South America    2499.291178\n",
       "42        Colombia  South America     845.597517\n",
       "57         Ecuador  South America     634.880681\n",
       "153       Paraguay  South America     884.054372\n",
       "154           Peru  South America     666.176769\n",
       "186       Suriname  South America    2265.662159\n",
       "207        Uruguay  South America    2031.186836\n",
       "210  Venezuela, RB  South America    2667.609220"
      ]
     },
     "execution_count": 838,
     "metadata": {},
     "output_type": "execute_result"
    }
   ],
   "source": [
    "SA_electricity_without_2000 = electricity1[electricity1.Region==\"South America\"]\n",
    "SA_electricity_without_2000 = SA_electricity_without_2000[[\"Country Name\",\"Region\",\"2000 [YR2000]\"]]\n",
    "SA_electricity_without_2000"
   ]
  },
  {
   "cell_type": "code",
   "execution_count": 839,
   "id": "78c86ce0",
   "metadata": {},
   "outputs": [
    {
     "name": "stdout",
     "output_type": "stream",
     "text": [
      "Upper whisker:  4309.256522060252\n",
      "Lower Whisker:  -1376.1344845482715\n"
     ]
    },
    {
     "data": {
      "text/html": [
       "<div>\n",
       "<style scoped>\n",
       "    .dataframe tbody tr th:only-of-type {\n",
       "        vertical-align: middle;\n",
       "    }\n",
       "\n",
       "    .dataframe tbody tr th {\n",
       "        vertical-align: top;\n",
       "    }\n",
       "\n",
       "    .dataframe thead th {\n",
       "        text-align: right;\n",
       "    }\n",
       "</style>\n",
       "<table border=\"1\" class=\"dataframe\">\n",
       "  <thead>\n",
       "    <tr style=\"text-align: right;\">\n",
       "      <th></th>\n",
       "      <th>Country Name</th>\n",
       "      <th>Region</th>\n",
       "      <th>2000 [YR2000]</th>\n",
       "    </tr>\n",
       "  </thead>\n",
       "  <tbody>\n",
       "    <tr>\n",
       "      <th>7</th>\n",
       "      <td>Argentina</td>\n",
       "      <td>South America</td>\n",
       "      <td>2088.807630</td>\n",
       "    </tr>\n",
       "    <tr>\n",
       "      <th>23</th>\n",
       "      <td>Bolivia</td>\n",
       "      <td>South America</td>\n",
       "      <td>415.881173</td>\n",
       "    </tr>\n",
       "    <tr>\n",
       "      <th>26</th>\n",
       "      <td>Brazil</td>\n",
       "      <td>South America</td>\n",
       "      <td>1897.353148</td>\n",
       "    </tr>\n",
       "    <tr>\n",
       "      <th>40</th>\n",
       "      <td>Chile</td>\n",
       "      <td>South America</td>\n",
       "      <td>2499.291178</td>\n",
       "    </tr>\n",
       "    <tr>\n",
       "      <th>42</th>\n",
       "      <td>Colombia</td>\n",
       "      <td>South America</td>\n",
       "      <td>845.597517</td>\n",
       "    </tr>\n",
       "    <tr>\n",
       "      <th>57</th>\n",
       "      <td>Ecuador</td>\n",
       "      <td>South America</td>\n",
       "      <td>634.880681</td>\n",
       "    </tr>\n",
       "    <tr>\n",
       "      <th>153</th>\n",
       "      <td>Paraguay</td>\n",
       "      <td>South America</td>\n",
       "      <td>884.054372</td>\n",
       "    </tr>\n",
       "    <tr>\n",
       "      <th>154</th>\n",
       "      <td>Peru</td>\n",
       "      <td>South America</td>\n",
       "      <td>666.176769</td>\n",
       "    </tr>\n",
       "    <tr>\n",
       "      <th>186</th>\n",
       "      <td>Suriname</td>\n",
       "      <td>South America</td>\n",
       "      <td>2265.662159</td>\n",
       "    </tr>\n",
       "    <tr>\n",
       "      <th>207</th>\n",
       "      <td>Uruguay</td>\n",
       "      <td>South America</td>\n",
       "      <td>2031.186836</td>\n",
       "    </tr>\n",
       "    <tr>\n",
       "      <th>210</th>\n",
       "      <td>Venezuela, RB</td>\n",
       "      <td>South America</td>\n",
       "      <td>2667.609220</td>\n",
       "    </tr>\n",
       "  </tbody>\n",
       "</table>\n",
       "</div>"
      ],
      "text/plain": [
       "      Country Name         Region  2000 [YR2000]\n",
       "7        Argentina  South America    2088.807630\n",
       "23         Bolivia  South America     415.881173\n",
       "26          Brazil  South America    1897.353148\n",
       "40           Chile  South America    2499.291178\n",
       "42        Colombia  South America     845.597517\n",
       "57         Ecuador  South America     634.880681\n",
       "153       Paraguay  South America     884.054372\n",
       "154           Peru  South America     666.176769\n",
       "186       Suriname  South America    2265.662159\n",
       "207        Uruguay  South America    2031.186836\n",
       "210  Venezuela, RB  South America    2667.609220"
      ]
     },
     "execution_count": 839,
     "metadata": {},
     "output_type": "execute_result"
    }
   ],
   "source": [
    "upper, lower = outliers(SA_electricity_without_2000, \"2000 [YR2000]\")\n",
    "print(\"Upper whisker: \", upper)\n",
    "print(\"Lower Whisker: \", lower)\n",
    "SA_electricity_without_2000 = SA_electricity_without_2000[(SA_electricity_without_2000[\"2000 [YR2000]\"] > lower) & (SA_electricity_without_2000[\"2000 [YR2000]\"] < upper)]\n",
    "SA_electricity_without_2000"
   ]
  },
  {
   "cell_type": "code",
   "execution_count": 840,
   "id": "9cd6d992",
   "metadata": {},
   "outputs": [
    {
     "data": {
      "text/plain": [
       "array([[<AxesSubplot:title={'center':'2000 [YR2000]'}>]], dtype=object)"
      ]
     },
     "execution_count": 840,
     "metadata": {},
     "output_type": "execute_result"
    },
    {
     "data": {
      "image/png": "[encoded data removed]",
      "text/plain": [
       "<Figure size 432x288 with 1 Axes>"
      ]
     },
     "metadata": {
      "needs_background": "light"
     },
     "output_type": "display_data"
    }
   ],
   "source": [
    "SA_electricity_without_2000.hist()"
   ]
  },
  {
   "cell_type": "code",
   "execution_count": 841,
   "id": "fc4bd795",
   "metadata": {},
   "outputs": [],
   "source": [
    "#South America 2014 with outliers"
   ]
  },
  {
   "cell_type": "code",
   "execution_count": 842,
   "id": "f1da971d",
   "metadata": {},
   "outputs": [
    {
     "data": {
      "text/plain": [
       "array([[<AxesSubplot:title={'center':'2014 [YR2014]'}>]], dtype=object)"
      ]
     },
     "execution_count": 842,
     "metadata": {},
     "output_type": "execute_result"
    },
    {
     "data": {
      "image/png": "[encoded data removed]",
      "text/plain": [
       "<Figure size 432x288 with 1 Axes>"
      ]
     },
     "metadata": {
      "needs_background": "light"
     },
     "output_type": "display_data"
    }
   ],
   "source": [
    "electricity1[electricity1.Region==\"South America\"].hist(column='2014 [YR2014]')"
   ]
  },
  {
   "cell_type": "code",
   "execution_count": 843,
   "id": "c2f7f311",
   "metadata": {},
   "outputs": [],
   "source": [
    "#South America 2014 without outliers"
   ]
  },
  {
   "cell_type": "code",
   "execution_count": 844,
   "id": "78a534dd",
   "metadata": {},
   "outputs": [
    {
     "data": {
      "text/html": [
       "<div>\n",
       "<style scoped>\n",
       "    .dataframe tbody tr th:only-of-type {\n",
       "        vertical-align: middle;\n",
       "    }\n",
       "\n",
       "    .dataframe tbody tr th {\n",
       "        vertical-align: top;\n",
       "    }\n",
       "\n",
       "    .dataframe thead th {\n",
       "        text-align: right;\n",
       "    }\n",
       "</style>\n",
       "<table border=\"1\" class=\"dataframe\">\n",
       "  <thead>\n",
       "    <tr style=\"text-align: right;\">\n",
       "      <th></th>\n",
       "      <th>Country Name</th>\n",
       "      <th>Region</th>\n",
       "      <th>2014 [YR2014]</th>\n",
       "    </tr>\n",
       "  </thead>\n",
       "  <tbody>\n",
       "    <tr>\n",
       "      <th>7</th>\n",
       "      <td>Argentina</td>\n",
       "      <td>South America</td>\n",
       "      <td>3074.702071</td>\n",
       "    </tr>\n",
       "    <tr>\n",
       "      <th>23</th>\n",
       "      <td>Bolivia</td>\n",
       "      <td>South America</td>\n",
       "      <td>742.538400</td>\n",
       "    </tr>\n",
       "    <tr>\n",
       "      <th>26</th>\n",
       "      <td>Brazil</td>\n",
       "      <td>South America</td>\n",
       "      <td>2619.960499</td>\n",
       "    </tr>\n",
       "    <tr>\n",
       "      <th>40</th>\n",
       "      <td>Chile</td>\n",
       "      <td>South America</td>\n",
       "      <td>3879.673420</td>\n",
       "    </tr>\n",
       "    <tr>\n",
       "      <th>42</th>\n",
       "      <td>Colombia</td>\n",
       "      <td>South America</td>\n",
       "      <td>1312.199493</td>\n",
       "    </tr>\n",
       "    <tr>\n",
       "      <th>57</th>\n",
       "      <td>Ecuador</td>\n",
       "      <td>South America</td>\n",
       "      <td>1376.393633</td>\n",
       "    </tr>\n",
       "    <tr>\n",
       "      <th>153</th>\n",
       "      <td>Paraguay</td>\n",
       "      <td>South America</td>\n",
       "      <td>1552.384687</td>\n",
       "    </tr>\n",
       "    <tr>\n",
       "      <th>154</th>\n",
       "      <td>Peru</td>\n",
       "      <td>South America</td>\n",
       "      <td>1345.879007</td>\n",
       "    </tr>\n",
       "    <tr>\n",
       "      <th>186</th>\n",
       "      <td>Suriname</td>\n",
       "      <td>South America</td>\n",
       "      <td>3596.745217</td>\n",
       "    </tr>\n",
       "    <tr>\n",
       "      <th>207</th>\n",
       "      <td>Uruguay</td>\n",
       "      <td>South America</td>\n",
       "      <td>3085.189883</td>\n",
       "    </tr>\n",
       "    <tr>\n",
       "      <th>210</th>\n",
       "      <td>Venezuela, RB</td>\n",
       "      <td>South America</td>\n",
       "      <td>2719.138349</td>\n",
       "    </tr>\n",
       "  </tbody>\n",
       "</table>\n",
       "</div>"
      ],
      "text/plain": [
       "      Country Name         Region  2014 [YR2014]\n",
       "7        Argentina  South America    3074.702071\n",
       "23         Bolivia  South America     742.538400\n",
       "26          Brazil  South America    2619.960499\n",
       "40           Chile  South America    3879.673420\n",
       "42        Colombia  South America    1312.199493\n",
       "57         Ecuador  South America    1376.393633\n",
       "153       Paraguay  South America    1552.384687\n",
       "154           Peru  South America    1345.879007\n",
       "186       Suriname  South America    3596.745217\n",
       "207        Uruguay  South America    3085.189883\n",
       "210  Venezuela, RB  South America    2719.138349"
      ]
     },
     "execution_count": 844,
     "metadata": {},
     "output_type": "execute_result"
    }
   ],
   "source": [
    "SA_electricity_without_2014 = electricity1[electricity1.Region==\"South America\"]\n",
    "SA_electricity_without_2014 = SA_electricity_without_2014[[\"Country Name\",\"Region\",\"2014 [YR2014]\"]]\n",
    "SA_electricity_without_2014"
   ]
  },
  {
   "cell_type": "code",
   "execution_count": 845,
   "id": "a74e2ea7",
   "metadata": {},
   "outputs": [
    {
     "name": "stdout",
     "output_type": "stream",
     "text": [
      "Upper whisker:  5658.16046141894\n",
      "Lower Whisker:  -1217.0781644964432\n"
     ]
    },
    {
     "data": {
      "text/html": [
       "<div>\n",
       "<style scoped>\n",
       "    .dataframe tbody tr th:only-of-type {\n",
       "        vertical-align: middle;\n",
       "    }\n",
       "\n",
       "    .dataframe tbody tr th {\n",
       "        vertical-align: top;\n",
       "    }\n",
       "\n",
       "    .dataframe thead th {\n",
       "        text-align: right;\n",
       "    }\n",
       "</style>\n",
       "<table border=\"1\" class=\"dataframe\">\n",
       "  <thead>\n",
       "    <tr style=\"text-align: right;\">\n",
       "      <th></th>\n",
       "      <th>Country Name</th>\n",
       "      <th>Region</th>\n",
       "      <th>2014 [YR2014]</th>\n",
       "    </tr>\n",
       "  </thead>\n",
       "  <tbody>\n",
       "    <tr>\n",
       "      <th>7</th>\n",
       "      <td>Argentina</td>\n",
       "      <td>South America</td>\n",
       "      <td>3074.702071</td>\n",
       "    </tr>\n",
       "    <tr>\n",
       "      <th>23</th>\n",
       "      <td>Bolivia</td>\n",
       "      <td>South America</td>\n",
       "      <td>742.538400</td>\n",
       "    </tr>\n",
       "    <tr>\n",
       "      <th>26</th>\n",
       "      <td>Brazil</td>\n",
       "      <td>South America</td>\n",
       "      <td>2619.960499</td>\n",
       "    </tr>\n",
       "    <tr>\n",
       "      <th>40</th>\n",
       "      <td>Chile</td>\n",
       "      <td>South America</td>\n",
       "      <td>3879.673420</td>\n",
       "    </tr>\n",
       "    <tr>\n",
       "      <th>42</th>\n",
       "      <td>Colombia</td>\n",
       "      <td>South America</td>\n",
       "      <td>1312.199493</td>\n",
       "    </tr>\n",
       "    <tr>\n",
       "      <th>57</th>\n",
       "      <td>Ecuador</td>\n",
       "      <td>South America</td>\n",
       "      <td>1376.393633</td>\n",
       "    </tr>\n",
       "    <tr>\n",
       "      <th>153</th>\n",
       "      <td>Paraguay</td>\n",
       "      <td>South America</td>\n",
       "      <td>1552.384687</td>\n",
       "    </tr>\n",
       "    <tr>\n",
       "      <th>154</th>\n",
       "      <td>Peru</td>\n",
       "      <td>South America</td>\n",
       "      <td>1345.879007</td>\n",
       "    </tr>\n",
       "    <tr>\n",
       "      <th>186</th>\n",
       "      <td>Suriname</td>\n",
       "      <td>South America</td>\n",
       "      <td>3596.745217</td>\n",
       "    </tr>\n",
       "    <tr>\n",
       "      <th>207</th>\n",
       "      <td>Uruguay</td>\n",
       "      <td>South America</td>\n",
       "      <td>3085.189883</td>\n",
       "    </tr>\n",
       "    <tr>\n",
       "      <th>210</th>\n",
       "      <td>Venezuela, RB</td>\n",
       "      <td>South America</td>\n",
       "      <td>2719.138349</td>\n",
       "    </tr>\n",
       "  </tbody>\n",
       "</table>\n",
       "</div>"
      ],
      "text/plain": [
       "      Country Name         Region  2014 [YR2014]\n",
       "7        Argentina  South America    3074.702071\n",
       "23         Bolivia  South America     742.538400\n",
       "26          Brazil  South America    2619.960499\n",
       "40           Chile  South America    3879.673420\n",
       "42        Colombia  South America    1312.199493\n",
       "57         Ecuador  South America    1376.393633\n",
       "153       Paraguay  South America    1552.384687\n",
       "154           Peru  South America    1345.879007\n",
       "186       Suriname  South America    3596.745217\n",
       "207        Uruguay  South America    3085.189883\n",
       "210  Venezuela, RB  South America    2719.138349"
      ]
     },
     "execution_count": 845,
     "metadata": {},
     "output_type": "execute_result"
    }
   ],
   "source": [
    "upper, lower = outliers(SA_electricity_without_2014, \"2014 [YR2014]\")\n",
    "print(\"Upper whisker: \", upper)\n",
    "print(\"Lower Whisker: \", lower)\n",
    "SA_electricity_without_2014 = SA_electricity_without_2014[(SA_electricity_without_2014[\"2014 [YR2014]\"] > lower) & (SA_electricity_without_2014[\"2014 [YR2014]\"] < upper)]\n",
    "SA_electricity_without_2014"
   ]
  },
  {
   "cell_type": "code",
   "execution_count": 846,
   "id": "b2fca1d7",
   "metadata": {},
   "outputs": [
    {
     "data": {
      "text/plain": [
       "array([[<AxesSubplot:title={'center':'2014 [YR2014]'}>]], dtype=object)"
      ]
     },
     "execution_count": 846,
     "metadata": {},
     "output_type": "execute_result"
    },
    {
     "data": {
      "image/png": "[encoded data removed]",
      "text/plain": [
       "<Figure size 432x288 with 1 Axes>"
      ]
     },
     "metadata": {
      "needs_background": "light"
     },
     "output_type": "display_data"
    }
   ],
   "source": [
    "SA_electricity_without_2014.hist()"
   ]
  },
  {
   "cell_type": "code",
   "execution_count": 847,
   "id": "48ce32c9",
   "metadata": {},
   "outputs": [],
   "source": [
    "#Western Asia 2000 with outliers"
   ]
  },
  {
   "cell_type": "code",
   "execution_count": 848,
   "id": "dd09376c",
   "metadata": {},
   "outputs": [
    {
     "data": {
      "text/plain": [
       "array([[<AxesSubplot:title={'center':'2000 [YR2000]'}>]], dtype=object)"
      ]
     },
     "execution_count": 848,
     "metadata": {},
     "output_type": "execute_result"
    },
    {
     "data": {
      "image/png": "[encoded data removed]",
      "text/plain": [
       "<Figure size 432x288 with 1 Axes>"
      ]
     },
     "metadata": {
      "needs_background": "light"
     },
     "output_type": "display_data"
    }
   ],
   "source": [
    "electricity1[electricity1.Region==\"Western Asia\"].hist(column='2000 [YR2000]')"
   ]
  },
  {
   "cell_type": "code",
   "execution_count": 849,
   "id": "4b4fa8f6",
   "metadata": {},
   "outputs": [],
   "source": [
    "#Western Asia 2000 without outliers"
   ]
  },
  {
   "cell_type": "code",
   "execution_count": 850,
   "id": "a862bfbf",
   "metadata": {},
   "outputs": [
    {
     "data": {
      "text/html": [
       "<div>\n",
       "<style scoped>\n",
       "    .dataframe tbody tr th:only-of-type {\n",
       "        vertical-align: middle;\n",
       "    }\n",
       "\n",
       "    .dataframe tbody tr th {\n",
       "        vertical-align: top;\n",
       "    }\n",
       "\n",
       "    .dataframe thead th {\n",
       "        text-align: right;\n",
       "    }\n",
       "</style>\n",
       "<table border=\"1\" class=\"dataframe\">\n",
       "  <thead>\n",
       "    <tr style=\"text-align: right;\">\n",
       "      <th></th>\n",
       "      <th>Country Name</th>\n",
       "      <th>Region</th>\n",
       "      <th>2000 [YR2000]</th>\n",
       "    </tr>\n",
       "  </thead>\n",
       "  <tbody>\n",
       "    <tr>\n",
       "      <th>8</th>\n",
       "      <td>Armenia</td>\n",
       "      <td>Western Asia</td>\n",
       "      <td>1297.564469</td>\n",
       "    </tr>\n",
       "    <tr>\n",
       "      <th>12</th>\n",
       "      <td>Azerbaijan</td>\n",
       "      <td>Western Asia</td>\n",
       "      <td>2040.479090</td>\n",
       "    </tr>\n",
       "    <tr>\n",
       "      <th>72</th>\n",
       "      <td>Georgia</td>\n",
       "      <td>Western Asia</td>\n",
       "      <td>1574.391404</td>\n",
       "    </tr>\n",
       "    <tr>\n",
       "      <th>100</th>\n",
       "      <td>Kazakhstan</td>\n",
       "      <td>Western Asia</td>\n",
       "      <td>3169.523341</td>\n",
       "    </tr>\n",
       "    <tr>\n",
       "      <th>107</th>\n",
       "      <td>Kyrgyz Republic</td>\n",
       "      <td>Western Asia</td>\n",
       "      <td>1696.064021</td>\n",
       "    </tr>\n",
       "    <tr>\n",
       "      <th>190</th>\n",
       "      <td>Tajikistan</td>\n",
       "      <td>Western Asia</td>\n",
       "      <td>2161.565130</td>\n",
       "    </tr>\n",
       "    <tr>\n",
       "      <th>199</th>\n",
       "      <td>Turkmenistan</td>\n",
       "      <td>Western Asia</td>\n",
       "      <td>1692.157530</td>\n",
       "    </tr>\n",
       "    <tr>\n",
       "      <th>208</th>\n",
       "      <td>Uzbekistan</td>\n",
       "      <td>Western Asia</td>\n",
       "      <td>1780.457924</td>\n",
       "    </tr>\n",
       "  </tbody>\n",
       "</table>\n",
       "</div>"
      ],
      "text/plain": [
       "        Country Name        Region  2000 [YR2000]\n",
       "8            Armenia  Western Asia    1297.564469\n",
       "12        Azerbaijan  Western Asia    2040.479090\n",
       "72           Georgia  Western Asia    1574.391404\n",
       "100       Kazakhstan  Western Asia    3169.523341\n",
       "107  Kyrgyz Republic  Western Asia    1696.064021\n",
       "190       Tajikistan  Western Asia    2161.565130\n",
       "199     Turkmenistan  Western Asia    1692.157530\n",
       "208       Uzbekistan  Western Asia    1780.457924"
      ]
     },
     "execution_count": 850,
     "metadata": {},
     "output_type": "execute_result"
    }
   ],
   "source": [
    "WA_electricity_without_2000 = electricity1[electricity1.Region==\"Western Asia\"]\n",
    "WA_electricity_without_2000 = WA_electricity_without_2000[[\"Country Name\",\"Region\",\"2000 [YR2000]\"]]\n",
    "WA_electricity_without_2000"
   ]
  },
  {
   "cell_type": "code",
   "execution_count": 851,
   "id": "ebe9a26a",
   "metadata": {},
   "outputs": [
    {
     "name": "stdout",
     "output_type": "stream",
     "text": [
      "Upper whisker:  2682.802501421047\n",
      "Lower Whisker:  1050.6640963712182\n"
     ]
    },
    {
     "data": {
      "text/html": [
       "<div>\n",
       "<style scoped>\n",
       "    .dataframe tbody tr th:only-of-type {\n",
       "        vertical-align: middle;\n",
       "    }\n",
       "\n",
       "    .dataframe tbody tr th {\n",
       "        vertical-align: top;\n",
       "    }\n",
       "\n",
       "    .dataframe thead th {\n",
       "        text-align: right;\n",
       "    }\n",
       "</style>\n",
       "<table border=\"1\" class=\"dataframe\">\n",
       "  <thead>\n",
       "    <tr style=\"text-align: right;\">\n",
       "      <th></th>\n",
       "      <th>Country Name</th>\n",
       "      <th>Region</th>\n",
       "      <th>2000 [YR2000]</th>\n",
       "    </tr>\n",
       "  </thead>\n",
       "  <tbody>\n",
       "    <tr>\n",
       "      <th>8</th>\n",
       "      <td>Armenia</td>\n",
       "      <td>Western Asia</td>\n",
       "      <td>1297.564469</td>\n",
       "    </tr>\n",
       "    <tr>\n",
       "      <th>12</th>\n",
       "      <td>Azerbaijan</td>\n",
       "      <td>Western Asia</td>\n",
       "      <td>2040.479090</td>\n",
       "    </tr>\n",
       "    <tr>\n",
       "      <th>72</th>\n",
       "      <td>Georgia</td>\n",
       "      <td>Western Asia</td>\n",
       "      <td>1574.391404</td>\n",
       "    </tr>\n",
       "    <tr>\n",
       "      <th>107</th>\n",
       "      <td>Kyrgyz Republic</td>\n",
       "      <td>Western Asia</td>\n",
       "      <td>1696.064021</td>\n",
       "    </tr>\n",
       "    <tr>\n",
       "      <th>190</th>\n",
       "      <td>Tajikistan</td>\n",
       "      <td>Western Asia</td>\n",
       "      <td>2161.565130</td>\n",
       "    </tr>\n",
       "    <tr>\n",
       "      <th>199</th>\n",
       "      <td>Turkmenistan</td>\n",
       "      <td>Western Asia</td>\n",
       "      <td>1692.157530</td>\n",
       "    </tr>\n",
       "    <tr>\n",
       "      <th>208</th>\n",
       "      <td>Uzbekistan</td>\n",
       "      <td>Western Asia</td>\n",
       "      <td>1780.457924</td>\n",
       "    </tr>\n",
       "  </tbody>\n",
       "</table>\n",
       "</div>"
      ],
      "text/plain": [
       "        Country Name        Region  2000 [YR2000]\n",
       "8            Armenia  Western Asia    1297.564469\n",
       "12        Azerbaijan  Western Asia    2040.479090\n",
       "72           Georgia  Western Asia    1574.391404\n",
       "107  Kyrgyz Republic  Western Asia    1696.064021\n",
       "190       Tajikistan  Western Asia    2161.565130\n",
       "199     Turkmenistan  Western Asia    1692.157530\n",
       "208       Uzbekistan  Western Asia    1780.457924"
      ]
     },
     "execution_count": 851,
     "metadata": {},
     "output_type": "execute_result"
    }
   ],
   "source": [
    "upper, lower = outliers(WA_electricity_without_2000, \"2000 [YR2000]\")\n",
    "print(\"Upper whisker: \", upper)\n",
    "print(\"Lower Whisker: \", lower)\n",
    "WA_electricity_without_2000 = WA_electricity_without_2000[(WA_electricity_without_2000[\"2000 [YR2000]\"] > lower) & (WA_electricity_without_2000[\"2000 [YR2000]\"] < upper)]\n",
    "WA_electricity_without_2000"
   ]
  },
  {
   "cell_type": "code",
   "execution_count": 852,
   "id": "1d3c8488",
   "metadata": {},
   "outputs": [
    {
     "data": {
      "text/plain": [
       "array([[<AxesSubplot:title={'center':'2000 [YR2000]'}>]], dtype=object)"
      ]
     },
     "execution_count": 852,
     "metadata": {},
     "output_type": "execute_result"
    },
    {
     "data": {
      "image/png": "[encoded data removed]",
      "text/plain": [
       "<Figure size 432x288 with 1 Axes>"
      ]
     },
     "metadata": {
      "needs_background": "light"
     },
     "output_type": "display_data"
    }
   ],
   "source": [
    "WA_electricity_without_2000.hist()"
   ]
  },
  {
   "cell_type": "code",
   "execution_count": 853,
   "id": "1515a11f",
   "metadata": {},
   "outputs": [],
   "source": [
    "#Western Asia 2014 with outliers"
   ]
  },
  {
   "cell_type": "code",
   "execution_count": 854,
   "id": "cc96fdee",
   "metadata": {},
   "outputs": [
    {
     "data": {
      "text/plain": [
       "array([[<AxesSubplot:title={'center':'2014 [YR2014]'}>]], dtype=object)"
      ]
     },
     "execution_count": 854,
     "metadata": {},
     "output_type": "execute_result"
    },
    {
     "data": {
      "image/png": "[encoded data removed]",
      "text/plain": [
       "<Figure size 432x288 with 1 Axes>"
      ]
     },
     "metadata": {
      "needs_background": "light"
     },
     "output_type": "display_data"
    }
   ],
   "source": [
    "electricity1[electricity1.Region==\"Western Asia\"].hist(column='2014 [YR2014]')"
   ]
  },
  {
   "cell_type": "code",
   "execution_count": 855,
   "id": "a6e780f7",
   "metadata": {},
   "outputs": [],
   "source": [
    "#Western Asia 2014 without outliers"
   ]
  },
  {
   "cell_type": "code",
   "execution_count": 856,
   "id": "bb56b4b8",
   "metadata": {},
   "outputs": [
    {
     "data": {
      "text/html": [
       "<div>\n",
       "<style scoped>\n",
       "    .dataframe tbody tr th:only-of-type {\n",
       "        vertical-align: middle;\n",
       "    }\n",
       "\n",
       "    .dataframe tbody tr th {\n",
       "        vertical-align: top;\n",
       "    }\n",
       "\n",
       "    .dataframe thead th {\n",
       "        text-align: right;\n",
       "    }\n",
       "</style>\n",
       "<table border=\"1\" class=\"dataframe\">\n",
       "  <thead>\n",
       "    <tr style=\"text-align: right;\">\n",
       "      <th></th>\n",
       "      <th>Country Name</th>\n",
       "      <th>Region</th>\n",
       "      <th>2014 [YR2014]</th>\n",
       "    </tr>\n",
       "  </thead>\n",
       "  <tbody>\n",
       "    <tr>\n",
       "      <th>8</th>\n",
       "      <td>Armenia</td>\n",
       "      <td>Western Asia</td>\n",
       "      <td>1961.610395</td>\n",
       "    </tr>\n",
       "    <tr>\n",
       "      <th>12</th>\n",
       "      <td>Azerbaijan</td>\n",
       "      <td>Western Asia</td>\n",
       "      <td>2202.393918</td>\n",
       "    </tr>\n",
       "    <tr>\n",
       "      <th>72</th>\n",
       "      <td>Georgia</td>\n",
       "      <td>Western Asia</td>\n",
       "      <td>2693.972760</td>\n",
       "    </tr>\n",
       "    <tr>\n",
       "      <th>100</th>\n",
       "      <td>Kazakhstan</td>\n",
       "      <td>Western Asia</td>\n",
       "      <td>5600.208465</td>\n",
       "    </tr>\n",
       "    <tr>\n",
       "      <th>107</th>\n",
       "      <td>Kyrgyz Republic</td>\n",
       "      <td>Western Asia</td>\n",
       "      <td>1941.221832</td>\n",
       "    </tr>\n",
       "    <tr>\n",
       "      <th>190</th>\n",
       "      <td>Tajikistan</td>\n",
       "      <td>Western Asia</td>\n",
       "      <td>1499.485994</td>\n",
       "    </tr>\n",
       "    <tr>\n",
       "      <th>199</th>\n",
       "      <td>Turkmenistan</td>\n",
       "      <td>Western Asia</td>\n",
       "      <td>2678.765474</td>\n",
       "    </tr>\n",
       "    <tr>\n",
       "      <th>208</th>\n",
       "      <td>Uzbekistan</td>\n",
       "      <td>Western Asia</td>\n",
       "      <td>1645.441629</td>\n",
       "    </tr>\n",
       "  </tbody>\n",
       "</table>\n",
       "</div>"
      ],
      "text/plain": [
       "        Country Name        Region  2014 [YR2014]\n",
       "8            Armenia  Western Asia    1961.610395\n",
       "12        Azerbaijan  Western Asia    2202.393918\n",
       "72           Georgia  Western Asia    2693.972760\n",
       "100       Kazakhstan  Western Asia    5600.208465\n",
       "107  Kyrgyz Republic  Western Asia    1941.221832\n",
       "190       Tajikistan  Western Asia    1499.485994\n",
       "199     Turkmenistan  Western Asia    2678.765474\n",
       "208       Uzbekistan  Western Asia    1645.441629"
      ]
     },
     "execution_count": 856,
     "metadata": {},
     "output_type": "execute_result"
    }
   ],
   "source": [
    "WA_electricity_without_2014 = electricity1[electricity1.Region==\"Western Asia\"]\n",
    "WA_electricity_without_2014 = WA_electricity_without_2014[[\"Country Name\",\"Region\",\"2014 [YR2014]\"]]\n",
    "WA_electricity_without_2014"
   ]
  },
  {
   "cell_type": "code",
   "execution_count": 857,
   "id": "efb282e3",
   "metadata": {},
   "outputs": [
    {
     "name": "stdout",
     "output_type": "stream",
     "text": [
      "Upper whisker:  3905.5030667364827\n",
      "Lower Whisker:  644.3410099275495\n"
     ]
    },
    {
     "data": {
      "text/html": [
       "<div>\n",
       "<style scoped>\n",
       "    .dataframe tbody tr th:only-of-type {\n",
       "        vertical-align: middle;\n",
       "    }\n",
       "\n",
       "    .dataframe tbody tr th {\n",
       "        vertical-align: top;\n",
       "    }\n",
       "\n",
       "    .dataframe thead th {\n",
       "        text-align: right;\n",
       "    }\n",
       "</style>\n",
       "<table border=\"1\" class=\"dataframe\">\n",
       "  <thead>\n",
       "    <tr style=\"text-align: right;\">\n",
       "      <th></th>\n",
       "      <th>Country Name</th>\n",
       "      <th>Region</th>\n",
       "      <th>2014 [YR2014]</th>\n",
       "    </tr>\n",
       "  </thead>\n",
       "  <tbody>\n",
       "    <tr>\n",
       "      <th>8</th>\n",
       "      <td>Armenia</td>\n",
       "      <td>Western Asia</td>\n",
       "      <td>1961.610395</td>\n",
       "    </tr>\n",
       "    <tr>\n",
       "      <th>12</th>\n",
       "      <td>Azerbaijan</td>\n",
       "      <td>Western Asia</td>\n",
       "      <td>2202.393918</td>\n",
       "    </tr>\n",
       "    <tr>\n",
       "      <th>72</th>\n",
       "      <td>Georgia</td>\n",
       "      <td>Western Asia</td>\n",
       "      <td>2693.972760</td>\n",
       "    </tr>\n",
       "    <tr>\n",
       "      <th>107</th>\n",
       "      <td>Kyrgyz Republic</td>\n",
       "      <td>Western Asia</td>\n",
       "      <td>1941.221832</td>\n",
       "    </tr>\n",
       "    <tr>\n",
       "      <th>190</th>\n",
       "      <td>Tajikistan</td>\n",
       "      <td>Western Asia</td>\n",
       "      <td>1499.485994</td>\n",
       "    </tr>\n",
       "    <tr>\n",
       "      <th>199</th>\n",
       "      <td>Turkmenistan</td>\n",
       "      <td>Western Asia</td>\n",
       "      <td>2678.765474</td>\n",
       "    </tr>\n",
       "    <tr>\n",
       "      <th>208</th>\n",
       "      <td>Uzbekistan</td>\n",
       "      <td>Western Asia</td>\n",
       "      <td>1645.441629</td>\n",
       "    </tr>\n",
       "  </tbody>\n",
       "</table>\n",
       "</div>"
      ],
      "text/plain": [
       "        Country Name        Region  2014 [YR2014]\n",
       "8            Armenia  Western Asia    1961.610395\n",
       "12        Azerbaijan  Western Asia    2202.393918\n",
       "72           Georgia  Western Asia    2693.972760\n",
       "107  Kyrgyz Republic  Western Asia    1941.221832\n",
       "190       Tajikistan  Western Asia    1499.485994\n",
       "199     Turkmenistan  Western Asia    2678.765474\n",
       "208       Uzbekistan  Western Asia    1645.441629"
      ]
     },
     "execution_count": 857,
     "metadata": {},
     "output_type": "execute_result"
    }
   ],
   "source": [
    "upper, lower = outliers(WA_electricity_without_2014, \"2014 [YR2014]\")\n",
    "print(\"Upper whisker: \", upper)\n",
    "print(\"Lower Whisker: \", lower)\n",
    "WA_electricity_without_2014 = WA_electricity_without_2014[(WA_electricity_without_2014[\"2014 [YR2014]\"] > lower) & (WA_electricity_without_2014[\"2014 [YR2014]\"] < upper)]\n",
    "WA_electricity_without_2014"
   ]
  },
  {
   "cell_type": "code",
   "execution_count": 858,
   "id": "6e33d4c1",
   "metadata": {},
   "outputs": [
    {
     "data": {
      "text/plain": [
       "array([[<AxesSubplot:title={'center':'2014 [YR2014]'}>]], dtype=object)"
      ]
     },
     "execution_count": 858,
     "metadata": {},
     "output_type": "execute_result"
    },
    {
     "data": {
      "image/png": "[encoded data removed]",
      "text/plain": [
       "<Figure size 432x288 with 1 Axes>"
      ]
     },
     "metadata": {
      "needs_background": "light"
     },
     "output_type": "display_data"
    }
   ],
   "source": [
    "WA_electricity_without_2014.hist()"
   ]
  },
  {
   "cell_type": "markdown",
   "id": "1966bf19",
   "metadata": {},
   "source": [
    "# GET DATA Mobile"
   ]
  },
  {
   "cell_type": "code",
   "execution_count": 859,
   "id": "a321f0c6",
   "metadata": {},
   "outputs": [
    {
     "data": {
      "text/html": [
       "<div>\n",
       "<style scoped>\n",
       "    .dataframe tbody tr th:only-of-type {\n",
       "        vertical-align: middle;\n",
       "    }\n",
       "\n",
       "    .dataframe tbody tr th {\n",
       "        vertical-align: top;\n",
       "    }\n",
       "\n",
       "    .dataframe thead th {\n",
       "        text-align: right;\n",
       "    }\n",
       "</style>\n",
       "<table border=\"1\" class=\"dataframe\">\n",
       "  <thead>\n",
       "    <tr style=\"text-align: right;\">\n",
       "      <th></th>\n",
       "      <th>Country Name</th>\n",
       "      <th>Country Code</th>\n",
       "      <th>Series Name</th>\n",
       "      <th>Series Code</th>\n",
       "      <th>1990 [YR1990]</th>\n",
       "      <th>1991 [YR1991]</th>\n",
       "      <th>1992 [YR1992]</th>\n",
       "      <th>1993 [YR1993]</th>\n",
       "      <th>1994 [YR1994]</th>\n",
       "      <th>1995 [YR1995]</th>\n",
       "      <th>...</th>\n",
       "      <th>2011 [YR2011]</th>\n",
       "      <th>2012 [YR2012]</th>\n",
       "      <th>2013 [YR2013]</th>\n",
       "      <th>2014 [YR2014]</th>\n",
       "      <th>2015 [YR2015]</th>\n",
       "      <th>2016 [YR2016]</th>\n",
       "      <th>2017 [YR2017]</th>\n",
       "      <th>2018 [YR2018]</th>\n",
       "      <th>2019 [YR2019]</th>\n",
       "      <th>2020 [YR2020]</th>\n",
       "    </tr>\n",
       "  </thead>\n",
       "  <tbody>\n",
       "    <tr>\n",
       "      <th>0</th>\n",
       "      <td>Afghanistan</td>\n",
       "      <td>AFG</td>\n",
       "      <td>Mobile cellular subscriptions (per 100 people)</td>\n",
       "      <td>IT.CEL.SETS.P2</td>\n",
       "      <td>0.000000</td>\n",
       "      <td>0.00000</td>\n",
       "      <td>0.000000</td>\n",
       "      <td>0.000000</td>\n",
       "      <td>0.000000</td>\n",
       "      <td>0.000000</td>\n",
       "      <td>...</td>\n",
       "      <td>45.813626</td>\n",
       "      <td>49.227977</td>\n",
       "      <td>52.083576</td>\n",
       "      <td>55.159515</td>\n",
       "      <td>57.271068</td>\n",
       "      <td>61.054638</td>\n",
       "      <td>65.929134</td>\n",
       "      <td>59.120848</td>\n",
       "      <td>59.356020</td>\n",
       "      <td>58.255812</td>\n",
       "    </tr>\n",
       "    <tr>\n",
       "      <th>1</th>\n",
       "      <td>Albania</td>\n",
       "      <td>ALB</td>\n",
       "      <td>Mobile cellular subscriptions (per 100 people)</td>\n",
       "      <td>IT.CEL.SETS.P2</td>\n",
       "      <td>0.000000</td>\n",
       "      <td>0.00000</td>\n",
       "      <td>0.000000</td>\n",
       "      <td>0.000000</td>\n",
       "      <td>0.000000</td>\n",
       "      <td>0.000000</td>\n",
       "      <td>...</td>\n",
       "      <td>105.852915</td>\n",
       "      <td>120.105858</td>\n",
       "      <td>126.936969</td>\n",
       "      <td>115.997935</td>\n",
       "      <td>117.659218</td>\n",
       "      <td>116.744444</td>\n",
       "      <td>125.710352</td>\n",
       "      <td>94.176998</td>\n",
       "      <td>91.293015</td>\n",
       "      <td>91.002944</td>\n",
       "    </tr>\n",
       "    <tr>\n",
       "      <th>2</th>\n",
       "      <td>Algeria</td>\n",
       "      <td>DZA</td>\n",
       "      <td>Mobile cellular subscriptions (per 100 people)</td>\n",
       "      <td>IT.CEL.SETS.P2</td>\n",
       "      <td>0.001825</td>\n",
       "      <td>0.01811</td>\n",
       "      <td>0.017689</td>\n",
       "      <td>0.017300</td>\n",
       "      <td>0.004778</td>\n",
       "      <td>0.016312</td>\n",
       "      <td>...</td>\n",
       "      <td>97.148178</td>\n",
       "      <td>100.384679</td>\n",
       "      <td>103.610140</td>\n",
       "      <td>111.238610</td>\n",
       "      <td>108.808940</td>\n",
       "      <td>116.004208</td>\n",
       "      <td>110.767246</td>\n",
       "      <td>111.664792</td>\n",
       "      <td>105.510594</td>\n",
       "      <td>103.887317</td>\n",
       "    </tr>\n",
       "    <tr>\n",
       "      <th>3</th>\n",
       "      <td>American Samoa</td>\n",
       "      <td>ASM</td>\n",
       "      <td>Mobile cellular subscriptions (per 100 people)</td>\n",
       "      <td>IT.CEL.SETS.P2</td>\n",
       "      <td>0.000000</td>\n",
       "      <td>0.00000</td>\n",
       "      <td>1.402918</td>\n",
       "      <td>1.764014</td>\n",
       "      <td>2.303484</td>\n",
       "      <td>2.351348</td>\n",
       "      <td>...</td>\n",
       "      <td>NaN</td>\n",
       "      <td>NaN</td>\n",
       "      <td>NaN</td>\n",
       "      <td>NaN</td>\n",
       "      <td>NaN</td>\n",
       "      <td>NaN</td>\n",
       "      <td>NaN</td>\n",
       "      <td>NaN</td>\n",
       "      <td>NaN</td>\n",
       "      <td>NaN</td>\n",
       "    </tr>\n",
       "    <tr>\n",
       "      <th>4</th>\n",
       "      <td>Andorra</td>\n",
       "      <td>AND</td>\n",
       "      <td>Mobile cellular subscriptions (per 100 people)</td>\n",
       "      <td>IT.CEL.SETS.P2</td>\n",
       "      <td>0.000000</td>\n",
       "      <td>0.00000</td>\n",
       "      <td>1.307567</td>\n",
       "      <td>1.279297</td>\n",
       "      <td>1.250858</td>\n",
       "      <td>4.424432</td>\n",
       "      <td>...</td>\n",
       "      <td>77.667260</td>\n",
       "      <td>77.480680</td>\n",
       "      <td>79.147993</td>\n",
       "      <td>83.623900</td>\n",
       "      <td>91.443514</td>\n",
       "      <td>98.492826</td>\n",
       "      <td>104.332411</td>\n",
       "      <td>107.282549</td>\n",
       "      <td>113.957377</td>\n",
       "      <td>NaN</td>\n",
       "    </tr>\n",
       "    <tr>\n",
       "      <th>...</th>\n",
       "      <td>...</td>\n",
       "      <td>...</td>\n",
       "      <td>...</td>\n",
       "      <td>...</td>\n",
       "      <td>...</td>\n",
       "      <td>...</td>\n",
       "      <td>...</td>\n",
       "      <td>...</td>\n",
       "      <td>...</td>\n",
       "      <td>...</td>\n",
       "      <td>...</td>\n",
       "      <td>...</td>\n",
       "      <td>...</td>\n",
       "      <td>...</td>\n",
       "      <td>...</td>\n",
       "      <td>...</td>\n",
       "      <td>...</td>\n",
       "      <td>...</td>\n",
       "      <td>...</td>\n",
       "      <td>...</td>\n",
       "      <td>...</td>\n",
       "    </tr>\n",
       "    <tr>\n",
       "      <th>217</th>\n",
       "      <td>NaN</td>\n",
       "      <td>NaN</td>\n",
       "      <td>NaN</td>\n",
       "      <td>NaN</td>\n",
       "      <td>NaN</td>\n",
       "      <td>NaN</td>\n",
       "      <td>NaN</td>\n",
       "      <td>NaN</td>\n",
       "      <td>NaN</td>\n",
       "      <td>NaN</td>\n",
       "      <td>...</td>\n",
       "      <td>NaN</td>\n",
       "      <td>NaN</td>\n",
       "      <td>NaN</td>\n",
       "      <td>NaN</td>\n",
       "      <td>NaN</td>\n",
       "      <td>NaN</td>\n",
       "      <td>NaN</td>\n",
       "      <td>NaN</td>\n",
       "      <td>NaN</td>\n",
       "      <td>NaN</td>\n",
       "    </tr>\n",
       "    <tr>\n",
       "      <th>218</th>\n",
       "      <td>NaN</td>\n",
       "      <td>NaN</td>\n",
       "      <td>NaN</td>\n",
       "      <td>NaN</td>\n",
       "      <td>NaN</td>\n",
       "      <td>NaN</td>\n",
       "      <td>NaN</td>\n",
       "      <td>NaN</td>\n",
       "      <td>NaN</td>\n",
       "      <td>NaN</td>\n",
       "      <td>...</td>\n",
       "      <td>NaN</td>\n",
       "      <td>NaN</td>\n",
       "      <td>NaN</td>\n",
       "      <td>NaN</td>\n",
       "      <td>NaN</td>\n",
       "      <td>NaN</td>\n",
       "      <td>NaN</td>\n",
       "      <td>NaN</td>\n",
       "      <td>NaN</td>\n",
       "      <td>NaN</td>\n",
       "    </tr>\n",
       "    <tr>\n",
       "      <th>219</th>\n",
       "      <td>NaN</td>\n",
       "      <td>NaN</td>\n",
       "      <td>NaN</td>\n",
       "      <td>NaN</td>\n",
       "      <td>NaN</td>\n",
       "      <td>NaN</td>\n",
       "      <td>NaN</td>\n",
       "      <td>NaN</td>\n",
       "      <td>NaN</td>\n",
       "      <td>NaN</td>\n",
       "      <td>...</td>\n",
       "      <td>NaN</td>\n",
       "      <td>NaN</td>\n",
       "      <td>NaN</td>\n",
       "      <td>NaN</td>\n",
       "      <td>NaN</td>\n",
       "      <td>NaN</td>\n",
       "      <td>NaN</td>\n",
       "      <td>NaN</td>\n",
       "      <td>NaN</td>\n",
       "      <td>NaN</td>\n",
       "    </tr>\n",
       "    <tr>\n",
       "      <th>220</th>\n",
       "      <td>Data from database: World Development Indicators</td>\n",
       "      <td>NaN</td>\n",
       "      <td>NaN</td>\n",
       "      <td>NaN</td>\n",
       "      <td>NaN</td>\n",
       "      <td>NaN</td>\n",
       "      <td>NaN</td>\n",
       "      <td>NaN</td>\n",
       "      <td>NaN</td>\n",
       "      <td>NaN</td>\n",
       "      <td>...</td>\n",
       "      <td>NaN</td>\n",
       "      <td>NaN</td>\n",
       "      <td>NaN</td>\n",
       "      <td>NaN</td>\n",
       "      <td>NaN</td>\n",
       "      <td>NaN</td>\n",
       "      <td>NaN</td>\n",
       "      <td>NaN</td>\n",
       "      <td>NaN</td>\n",
       "      <td>NaN</td>\n",
       "    </tr>\n",
       "    <tr>\n",
       "      <th>221</th>\n",
       "      <td>Last Updated: 11/23/2021</td>\n",
       "      <td>NaN</td>\n",
       "      <td>NaN</td>\n",
       "      <td>NaN</td>\n",
       "      <td>NaN</td>\n",
       "      <td>NaN</td>\n",
       "      <td>NaN</td>\n",
       "      <td>NaN</td>\n",
       "      <td>NaN</td>\n",
       "      <td>NaN</td>\n",
       "      <td>...</td>\n",
       "      <td>NaN</td>\n",
       "      <td>NaN</td>\n",
       "      <td>NaN</td>\n",
       "      <td>NaN</td>\n",
       "      <td>NaN</td>\n",
       "      <td>NaN</td>\n",
       "      <td>NaN</td>\n",
       "      <td>NaN</td>\n",
       "      <td>NaN</td>\n",
       "      <td>NaN</td>\n",
       "    </tr>\n",
       "  </tbody>\n",
       "</table>\n",
       "<p>222 rows × 35 columns</p>\n",
       "</div>"
      ],
      "text/plain": [
       "                                         Country Name Country Code  \\\n",
       "0                                         Afghanistan          AFG   \n",
       "1                                             Albania          ALB   \n",
       "2                                             Algeria          DZA   \n",
       "3                                      American Samoa          ASM   \n",
       "4                                             Andorra          AND   \n",
       "..                                                ...          ...   \n",
       "217                                               NaN          NaN   \n",
       "218                                               NaN          NaN   \n",
       "219                                               NaN          NaN   \n",
       "220  Data from database: World Development Indicators          NaN   \n",
       "221                          Last Updated: 11/23/2021          NaN   \n",
       "\n",
       "                                        Series Name     Series Code  \\\n",
       "0    Mobile cellular subscriptions (per 100 people)  IT.CEL.SETS.P2   \n",
       "1    Mobile cellular subscriptions (per 100 people)  IT.CEL.SETS.P2   \n",
       "2    Mobile cellular subscriptions (per 100 people)  IT.CEL.SETS.P2   \n",
       "3    Mobile cellular subscriptions (per 100 people)  IT.CEL.SETS.P2   \n",
       "4    Mobile cellular subscriptions (per 100 people)  IT.CEL.SETS.P2   \n",
       "..                                              ...             ...   \n",
       "217                                             NaN             NaN   \n",
       "218                                             NaN             NaN   \n",
       "219                                             NaN             NaN   \n",
       "220                                             NaN             NaN   \n",
       "221                                             NaN             NaN   \n",
       "\n",
       "     1990 [YR1990]  1991 [YR1991]  1992 [YR1992]  1993 [YR1993]  \\\n",
       "0         0.000000        0.00000       0.000000       0.000000   \n",
       "1         0.000000        0.00000       0.000000       0.000000   \n",
       "2         0.001825        0.01811       0.017689       0.017300   \n",
       "3         0.000000        0.00000       1.402918       1.764014   \n",
       "4         0.000000        0.00000       1.307567       1.279297   \n",
       "..             ...            ...            ...            ...   \n",
       "217            NaN            NaN            NaN            NaN   \n",
       "218            NaN            NaN            NaN            NaN   \n",
       "219            NaN            NaN            NaN            NaN   \n",
       "220            NaN            NaN            NaN            NaN   \n",
       "221            NaN            NaN            NaN            NaN   \n",
       "\n",
       "     1994 [YR1994]  1995 [YR1995]  ...  2011 [YR2011]  2012 [YR2012]  \\\n",
       "0         0.000000       0.000000  ...      45.813626      49.227977   \n",
       "1         0.000000       0.000000  ...     105.852915     120.105858   \n",
       "2         0.004778       0.016312  ...      97.148178     100.384679   \n",
       "3         2.303484       2.351348  ...            NaN            NaN   \n",
       "4         1.250858       4.424432  ...      77.667260      77.480680   \n",
       "..             ...            ...  ...            ...            ...   \n",
       "217            NaN            NaN  ...            NaN            NaN   \n",
       "218            NaN            NaN  ...            NaN            NaN   \n",
       "219            NaN            NaN  ...            NaN            NaN   \n",
       "220            NaN            NaN  ...            NaN            NaN   \n",
       "221            NaN            NaN  ...            NaN            NaN   \n",
       "\n",
       "     2013 [YR2013]  2014 [YR2014]  2015 [YR2015]  2016 [YR2016]  \\\n",
       "0        52.083576      55.159515      57.271068      61.054638   \n",
       "1       126.936969     115.997935     117.659218     116.744444   \n",
       "2       103.610140     111.238610     108.808940     116.004208   \n",
       "3              NaN            NaN            NaN            NaN   \n",
       "4        79.147993      83.623900      91.443514      98.492826   \n",
       "..             ...            ...            ...            ...   \n",
       "217            NaN            NaN            NaN            NaN   \n",
       "218            NaN            NaN            NaN            NaN   \n",
       "219            NaN            NaN            NaN            NaN   \n",
       "220            NaN            NaN            NaN            NaN   \n",
       "221            NaN            NaN            NaN            NaN   \n",
       "\n",
       "     2017 [YR2017]  2018 [YR2018]  2019 [YR2019]  2020 [YR2020]  \n",
       "0        65.929134      59.120848      59.356020      58.255812  \n",
       "1       125.710352      94.176998      91.293015      91.002944  \n",
       "2       110.767246     111.664792     105.510594     103.887317  \n",
       "3              NaN            NaN            NaN            NaN  \n",
       "4       104.332411     107.282549     113.957377            NaN  \n",
       "..             ...            ...            ...            ...  \n",
       "217            NaN            NaN            NaN            NaN  \n",
       "218            NaN            NaN            NaN            NaN  \n",
       "219            NaN            NaN            NaN            NaN  \n",
       "220            NaN            NaN            NaN            NaN  \n",
       "221            NaN            NaN            NaN            NaN  \n",
       "\n",
       "[222 rows x 35 columns]"
      ]
     },
     "execution_count": 859,
     "metadata": {},
     "output_type": "execute_result"
    }
   ],
   "source": [
    "mobile1 = pd.read_excel('infrastructure/mobile.xlsx')\n",
    "mobile1.replace({'..':np.nan},inplace=True)\n",
    "mobile1"
   ]
  },
  {
   "cell_type": "code",
   "execution_count": 860,
   "id": "434dda89",
   "metadata": {},
   "outputs": [
    {
     "data": {
      "text/html": [
       "<div>\n",
       "<style scoped>\n",
       "    .dataframe tbody tr th:only-of-type {\n",
       "        vertical-align: middle;\n",
       "    }\n",
       "\n",
       "    .dataframe tbody tr th {\n",
       "        vertical-align: top;\n",
       "    }\n",
       "\n",
       "    .dataframe thead th {\n",
       "        text-align: right;\n",
       "    }\n",
       "</style>\n",
       "<table border=\"1\" class=\"dataframe\">\n",
       "  <thead>\n",
       "    <tr style=\"text-align: right;\">\n",
       "      <th></th>\n",
       "      <th>Country Name</th>\n",
       "      <th>Region</th>\n",
       "      <th>ThirdWorld</th>\n",
       "      <th>2000 [YR2000]</th>\n",
       "      <th>2014 [YR2014]</th>\n",
       "    </tr>\n",
       "  </thead>\n",
       "  <tbody>\n",
       "    <tr>\n",
       "      <th>0</th>\n",
       "      <td>Afghanistan</td>\n",
       "      <td>South Asia</td>\n",
       "      <td>1</td>\n",
       "      <td>0.000000</td>\n",
       "      <td>55.159515</td>\n",
       "    </tr>\n",
       "    <tr>\n",
       "      <th>1</th>\n",
       "      <td>Albania</td>\n",
       "      <td>Eastern Europe</td>\n",
       "      <td>0</td>\n",
       "      <td>0.952019</td>\n",
       "      <td>115.997935</td>\n",
       "    </tr>\n",
       "    <tr>\n",
       "      <th>2</th>\n",
       "      <td>Algeria</td>\n",
       "      <td>Africa</td>\n",
       "      <td>0</td>\n",
       "      <td>0.277042</td>\n",
       "      <td>111.238610</td>\n",
       "    </tr>\n",
       "    <tr>\n",
       "      <th>3</th>\n",
       "      <td>American Samoa</td>\n",
       "      <td>Australia and Oceanea</td>\n",
       "      <td>0</td>\n",
       "      <td>3.445115</td>\n",
       "      <td>NaN</td>\n",
       "    </tr>\n",
       "    <tr>\n",
       "      <th>4</th>\n",
       "      <td>Andorra</td>\n",
       "      <td>Western Europe</td>\n",
       "      <td>0</td>\n",
       "      <td>36.003976</td>\n",
       "      <td>83.623900</td>\n",
       "    </tr>\n",
       "    <tr>\n",
       "      <th>...</th>\n",
       "      <td>...</td>\n",
       "      <td>...</td>\n",
       "      <td>...</td>\n",
       "      <td>...</td>\n",
       "      <td>...</td>\n",
       "    </tr>\n",
       "    <tr>\n",
       "      <th>212</th>\n",
       "      <td>Virgin Islands (U.S.)</td>\n",
       "      <td>North America</td>\n",
       "      <td>0</td>\n",
       "      <td>32.192197</td>\n",
       "      <td>NaN</td>\n",
       "    </tr>\n",
       "    <tr>\n",
       "      <th>213</th>\n",
       "      <td>West Bank and Gaza</td>\n",
       "      <td>Middle East</td>\n",
       "      <td>0</td>\n",
       "      <td>0.219479</td>\n",
       "      <td>72.201640</td>\n",
       "    </tr>\n",
       "    <tr>\n",
       "      <th>214</th>\n",
       "      <td>Yemen, Rep.</td>\n",
       "      <td>Middle East</td>\n",
       "      <td>1</td>\n",
       "      <td>0.184053</td>\n",
       "      <td>66.218793</td>\n",
       "    </tr>\n",
       "    <tr>\n",
       "      <th>215</th>\n",
       "      <td>Zambia</td>\n",
       "      <td>Africa</td>\n",
       "      <td>1</td>\n",
       "      <td>0.949055</td>\n",
       "      <td>65.681859</td>\n",
       "    </tr>\n",
       "    <tr>\n",
       "      <th>216</th>\n",
       "      <td>Zimbabwe</td>\n",
       "      <td>Africa</td>\n",
       "      <td>0</td>\n",
       "      <td>2.242491</td>\n",
       "      <td>86.839674</td>\n",
       "    </tr>\n",
       "  </tbody>\n",
       "</table>\n",
       "<p>217 rows × 5 columns</p>\n",
       "</div>"
      ],
      "text/plain": [
       "              Country Name                 Region  ThirdWorld  2000 [YR2000]  \\\n",
       "0              Afghanistan             South Asia           1       0.000000   \n",
       "1                  Albania         Eastern Europe           0       0.952019   \n",
       "2                  Algeria                 Africa           0       0.277042   \n",
       "3           American Samoa  Australia and Oceanea           0       3.445115   \n",
       "4                  Andorra         Western Europe           0      36.003976   \n",
       "..                     ...                    ...         ...            ...   \n",
       "212  Virgin Islands (U.S.)          North America           0      32.192197   \n",
       "213     West Bank and Gaza            Middle East           0       0.219479   \n",
       "214            Yemen, Rep.            Middle East           1       0.184053   \n",
       "215                 Zambia                 Africa           1       0.949055   \n",
       "216               Zimbabwe                 Africa           0       2.242491   \n",
       "\n",
       "     2014 [YR2014]  \n",
       "0        55.159515  \n",
       "1       115.997935  \n",
       "2       111.238610  \n",
       "3              NaN  \n",
       "4        83.623900  \n",
       "..             ...  \n",
       "212            NaN  \n",
       "213      72.201640  \n",
       "214      66.218793  \n",
       "215      65.681859  \n",
       "216      86.839674  \n",
       "\n",
       "[217 rows x 5 columns]"
      ]
     },
     "execution_count": 860,
     "metadata": {},
     "output_type": "execute_result"
    }
   ],
   "source": [
    "mobile1 = country.join(mobile1[['2000 [YR2000]', '2014 [YR2014]']])\n",
    "mobile1"
   ]
  },
  {
   "cell_type": "code",
   "execution_count": 861,
   "id": "7394e3dd",
   "metadata": {},
   "outputs": [
    {
     "data": {
      "text/plain": [
       "<AxesSubplot:>"
      ]
     },
     "execution_count": 861,
     "metadata": {},
     "output_type": "execute_result"
    },
    {
     "data": {
      "image/png": "[encoded data removed]",
      "text/plain": [
       "<Figure size 432x288 with 1 Axes>"
      ]
     },
     "metadata": {
      "needs_background": "light"
     },
     "output_type": "display_data"
    }
   ],
   "source": [
    "sns.heatmap(mobile1.isnull(),yticklabels=False,cbar=False,cmap='viridis')"
   ]
  },
  {
   "cell_type": "code",
   "execution_count": 862,
   "id": "09c00f90",
   "metadata": {},
   "outputs": [
    {
     "data": {
      "text/html": [
       "<div>\n",
       "<style scoped>\n",
       "    .dataframe tbody tr th:only-of-type {\n",
       "        vertical-align: middle;\n",
       "    }\n",
       "\n",
       "    .dataframe tbody tr th {\n",
       "        vertical-align: top;\n",
       "    }\n",
       "\n",
       "    .dataframe thead th {\n",
       "        text-align: right;\n",
       "    }\n",
       "</style>\n",
       "<table border=\"1\" class=\"dataframe\">\n",
       "  <thead>\n",
       "    <tr style=\"text-align: right;\">\n",
       "      <th></th>\n",
       "      <th>Country Name</th>\n",
       "      <th>Region</th>\n",
       "      <th>ThirdWorld</th>\n",
       "      <th>2000 [YR2000]</th>\n",
       "      <th>2014 [YR2014]</th>\n",
       "    </tr>\n",
       "  </thead>\n",
       "  <tbody>\n",
       "    <tr>\n",
       "      <th>0</th>\n",
       "      <td>Afghanistan</td>\n",
       "      <td>South Asia</td>\n",
       "      <td>1</td>\n",
       "      <td>0.000000</td>\n",
       "      <td>55.159515</td>\n",
       "    </tr>\n",
       "    <tr>\n",
       "      <th>1</th>\n",
       "      <td>Albania</td>\n",
       "      <td>Eastern Europe</td>\n",
       "      <td>0</td>\n",
       "      <td>0.952019</td>\n",
       "      <td>115.997935</td>\n",
       "    </tr>\n",
       "    <tr>\n",
       "      <th>2</th>\n",
       "      <td>Algeria</td>\n",
       "      <td>Africa</td>\n",
       "      <td>0</td>\n",
       "      <td>0.277042</td>\n",
       "      <td>111.238610</td>\n",
       "    </tr>\n",
       "    <tr>\n",
       "      <th>4</th>\n",
       "      <td>Andorra</td>\n",
       "      <td>Western Europe</td>\n",
       "      <td>0</td>\n",
       "      <td>36.003976</td>\n",
       "      <td>83.623900</td>\n",
       "    </tr>\n",
       "    <tr>\n",
       "      <th>5</th>\n",
       "      <td>Angola</td>\n",
       "      <td>Africa</td>\n",
       "      <td>1</td>\n",
       "      <td>0.157397</td>\n",
       "      <td>52.158983</td>\n",
       "    </tr>\n",
       "    <tr>\n",
       "      <th>...</th>\n",
       "      <td>...</td>\n",
       "      <td>...</td>\n",
       "      <td>...</td>\n",
       "      <td>...</td>\n",
       "      <td>...</td>\n",
       "    </tr>\n",
       "    <tr>\n",
       "      <th>211</th>\n",
       "      <td>Vietnam</td>\n",
       "      <td>Southeast Asia</td>\n",
       "      <td>0</td>\n",
       "      <td>0.986804</td>\n",
       "      <td>148.448819</td>\n",
       "    </tr>\n",
       "    <tr>\n",
       "      <th>213</th>\n",
       "      <td>West Bank and Gaza</td>\n",
       "      <td>Middle East</td>\n",
       "      <td>0</td>\n",
       "      <td>0.219479</td>\n",
       "      <td>72.201640</td>\n",
       "    </tr>\n",
       "    <tr>\n",
       "      <th>214</th>\n",
       "      <td>Yemen, Rep.</td>\n",
       "      <td>Middle East</td>\n",
       "      <td>1</td>\n",
       "      <td>0.184053</td>\n",
       "      <td>66.218793</td>\n",
       "    </tr>\n",
       "    <tr>\n",
       "      <th>215</th>\n",
       "      <td>Zambia</td>\n",
       "      <td>Africa</td>\n",
       "      <td>1</td>\n",
       "      <td>0.949055</td>\n",
       "      <td>65.681859</td>\n",
       "    </tr>\n",
       "    <tr>\n",
       "      <th>216</th>\n",
       "      <td>Zimbabwe</td>\n",
       "      <td>Africa</td>\n",
       "      <td>0</td>\n",
       "      <td>2.242491</td>\n",
       "      <td>86.839674</td>\n",
       "    </tr>\n",
       "  </tbody>\n",
       "</table>\n",
       "<p>198 rows × 5 columns</p>\n",
       "</div>"
      ],
      "text/plain": [
       "           Country Name          Region  ThirdWorld  2000 [YR2000]  \\\n",
       "0           Afghanistan      South Asia           1       0.000000   \n",
       "1               Albania  Eastern Europe           0       0.952019   \n",
       "2               Algeria          Africa           0       0.277042   \n",
       "4               Andorra  Western Europe           0      36.003976   \n",
       "5                Angola          Africa           1       0.157397   \n",
       "..                  ...             ...         ...            ...   \n",
       "211             Vietnam  Southeast Asia           0       0.986804   \n",
       "213  West Bank and Gaza     Middle East           0       0.219479   \n",
       "214         Yemen, Rep.     Middle East           1       0.184053   \n",
       "215              Zambia          Africa           1       0.949055   \n",
       "216            Zimbabwe          Africa           0       2.242491   \n",
       "\n",
       "     2014 [YR2014]  \n",
       "0        55.159515  \n",
       "1       115.997935  \n",
       "2       111.238610  \n",
       "4        83.623900  \n",
       "5        52.158983  \n",
       "..             ...  \n",
       "211     148.448819  \n",
       "213      72.201640  \n",
       "214      66.218793  \n",
       "215      65.681859  \n",
       "216      86.839674  \n",
       "\n",
       "[198 rows x 5 columns]"
      ]
     },
     "execution_count": 862,
     "metadata": {},
     "output_type": "execute_result"
    }
   ],
   "source": [
    "mobile1 = mobile1.dropna()\n",
    "mobile1"
   ]
  },
  {
   "cell_type": "code",
   "execution_count": 863,
   "id": "2ef6c46e",
   "metadata": {},
   "outputs": [
    {
     "data": {
      "text/plain": [
       "<AxesSubplot:>"
      ]
     },
     "execution_count": 863,
     "metadata": {},
     "output_type": "execute_result"
    },
    {
     "data": {
      "image/png": "[encoded data removed]",
      "text/plain": [
       "<Figure size 432x288 with 1 Axes>"
      ]
     },
     "metadata": {
      "needs_background": "light"
     },
     "output_type": "display_data"
    }
   ],
   "source": [
    "sns.heatmap(mobile1.isnull(),yticklabels=False,cbar=False,cmap='viridis')"
   ]
  },
  {
   "cell_type": "code",
   "execution_count": 864,
   "id": "50f23720",
   "metadata": {},
   "outputs": [],
   "source": [
    "#North America 2000 with outliers"
   ]
  },
  {
   "cell_type": "code",
   "execution_count": 865,
   "id": "c1a4f86e",
   "metadata": {},
   "outputs": [
    {
     "data": {
      "text/plain": [
       "array([[<AxesSubplot:title={'center':'2000 [YR2000]'}>]], dtype=object)"
      ]
     },
     "execution_count": 865,
     "metadata": {},
     "output_type": "execute_result"
    },
    {
     "data": {
      "image/png": "[encoded data removed]",
      "text/plain": [
       "<Figure size 432x288 with 1 Axes>"
      ]
     },
     "metadata": {
      "needs_background": "light"
     },
     "output_type": "display_data"
    }
   ],
   "source": [
    "mobile1[mobile1.Region==\"North America\"].hist(column='2000 [YR2000]')"
   ]
  },
  {
   "cell_type": "code",
   "execution_count": 866,
   "id": "d18e359a",
   "metadata": {},
   "outputs": [],
   "source": [
    "#North America 2000 without outliers"
   ]
  },
  {
   "cell_type": "code",
   "execution_count": 867,
   "id": "df63f3f2",
   "metadata": {},
   "outputs": [
    {
     "data": {
      "text/html": [
       "<div>\n",
       "<style scoped>\n",
       "    .dataframe tbody tr th:only-of-type {\n",
       "        vertical-align: middle;\n",
       "    }\n",
       "\n",
       "    .dataframe tbody tr th {\n",
       "        vertical-align: top;\n",
       "    }\n",
       "\n",
       "    .dataframe thead th {\n",
       "        text-align: right;\n",
       "    }\n",
       "</style>\n",
       "<table border=\"1\" class=\"dataframe\">\n",
       "  <thead>\n",
       "    <tr style=\"text-align: right;\">\n",
       "      <th></th>\n",
       "      <th>Country Name</th>\n",
       "      <th>Region</th>\n",
       "      <th>2000 [YR2000]</th>\n",
       "    </tr>\n",
       "  </thead>\n",
       "  <tbody>\n",
       "    <tr>\n",
       "      <th>6</th>\n",
       "      <td>Antigua and Barbuda</td>\n",
       "      <td>North America</td>\n",
       "      <td>28.941276</td>\n",
       "    </tr>\n",
       "    <tr>\n",
       "      <th>9</th>\n",
       "      <td>Aruba</td>\n",
       "      <td>North America</td>\n",
       "      <td>16.510187</td>\n",
       "    </tr>\n",
       "    <tr>\n",
       "      <th>13</th>\n",
       "      <td>Bahamas, The</td>\n",
       "      <td>North America</td>\n",
       "      <td>10.576713</td>\n",
       "    </tr>\n",
       "    <tr>\n",
       "      <th>16</th>\n",
       "      <td>Barbados</td>\n",
       "      <td>North America</td>\n",
       "      <td>10.484504</td>\n",
       "    </tr>\n",
       "    <tr>\n",
       "      <th>19</th>\n",
       "      <td>Belize</td>\n",
       "      <td>North America</td>\n",
       "      <td>6.797808</td>\n",
       "    </tr>\n",
       "    <tr>\n",
       "      <th>21</th>\n",
       "      <td>Bermuda</td>\n",
       "      <td>North America</td>\n",
       "      <td>19.996308</td>\n",
       "    </tr>\n",
       "    <tr>\n",
       "      <th>35</th>\n",
       "      <td>Canada</td>\n",
       "      <td>North America</td>\n",
       "      <td>28.530439</td>\n",
       "    </tr>\n",
       "    <tr>\n",
       "      <th>36</th>\n",
       "      <td>Cayman Islands</td>\n",
       "      <td>North America</td>\n",
       "      <td>25.293714</td>\n",
       "    </tr>\n",
       "    <tr>\n",
       "      <th>46</th>\n",
       "      <td>Costa Rica</td>\n",
       "      <td>North America</td>\n",
       "      <td>5.340589</td>\n",
       "    </tr>\n",
       "    <tr>\n",
       "      <th>49</th>\n",
       "      <td>Cuba</td>\n",
       "      <td>North America</td>\n",
       "      <td>0.058743</td>\n",
       "    </tr>\n",
       "    <tr>\n",
       "      <th>55</th>\n",
       "      <td>Dominica</td>\n",
       "      <td>North America</td>\n",
       "      <td>1.722900</td>\n",
       "    </tr>\n",
       "    <tr>\n",
       "      <th>56</th>\n",
       "      <td>Dominican Republic</td>\n",
       "      <td>North America</td>\n",
       "      <td>8.327284</td>\n",
       "    </tr>\n",
       "    <tr>\n",
       "      <th>59</th>\n",
       "      <td>El Salvador</td>\n",
       "      <td>North America</td>\n",
       "      <td>12.629689</td>\n",
       "    </tr>\n",
       "    <tr>\n",
       "      <th>78</th>\n",
       "      <td>Grenada</td>\n",
       "      <td>North America</td>\n",
       "      <td>4.181537</td>\n",
       "    </tr>\n",
       "    <tr>\n",
       "      <th>80</th>\n",
       "      <td>Guatemala</td>\n",
       "      <td>North America</td>\n",
       "      <td>7.354303</td>\n",
       "    </tr>\n",
       "    <tr>\n",
       "      <th>84</th>\n",
       "      <td>Haiti</td>\n",
       "      <td>North America</td>\n",
       "      <td>0.649826</td>\n",
       "    </tr>\n",
       "    <tr>\n",
       "      <th>85</th>\n",
       "      <td>Honduras</td>\n",
       "      <td>North America</td>\n",
       "      <td>2.361712</td>\n",
       "    </tr>\n",
       "    <tr>\n",
       "      <th>97</th>\n",
       "      <td>Jamaica</td>\n",
       "      <td>North America</td>\n",
       "      <td>13.822724</td>\n",
       "    </tr>\n",
       "    <tr>\n",
       "      <th>127</th>\n",
       "      <td>Mexico</td>\n",
       "      <td>North America</td>\n",
       "      <td>14.234481</td>\n",
       "    </tr>\n",
       "    <tr>\n",
       "      <th>142</th>\n",
       "      <td>Nicaragua</td>\n",
       "      <td>North America</td>\n",
       "      <td>1.781192</td>\n",
       "    </tr>\n",
       "    <tr>\n",
       "      <th>151</th>\n",
       "      <td>Panama</td>\n",
       "      <td>North America</td>\n",
       "      <td>13.543121</td>\n",
       "    </tr>\n",
       "    <tr>\n",
       "      <th>158</th>\n",
       "      <td>Puerto Rico</td>\n",
       "      <td>North America</td>\n",
       "      <td>35.925685</td>\n",
       "    </tr>\n",
       "    <tr>\n",
       "      <th>181</th>\n",
       "      <td>St. Kitts and Nevis</td>\n",
       "      <td>North America</td>\n",
       "      <td>2.722694</td>\n",
       "    </tr>\n",
       "    <tr>\n",
       "      <th>182</th>\n",
       "      <td>St. Lucia</td>\n",
       "      <td>North America</td>\n",
       "      <td>1.595110</td>\n",
       "    </tr>\n",
       "    <tr>\n",
       "      <th>184</th>\n",
       "      <td>St. Vincent and the Grenadines</td>\n",
       "      <td>North America</td>\n",
       "      <td>2.190492</td>\n",
       "    </tr>\n",
       "    <tr>\n",
       "      <th>196</th>\n",
       "      <td>Trinidad and Tobago</td>\n",
       "      <td>North America</td>\n",
       "      <td>12.773517</td>\n",
       "    </tr>\n",
       "    <tr>\n",
       "      <th>206</th>\n",
       "      <td>United States</td>\n",
       "      <td>North America</td>\n",
       "      <td>38.861836</td>\n",
       "    </tr>\n",
       "  </tbody>\n",
       "</table>\n",
       "</div>"
      ],
      "text/plain": [
       "                       Country Name         Region  2000 [YR2000]\n",
       "6               Antigua and Barbuda  North America      28.941276\n",
       "9                             Aruba  North America      16.510187\n",
       "13                     Bahamas, The  North America      10.576713\n",
       "16                         Barbados  North America      10.484504\n",
       "19                           Belize  North America       6.797808\n",
       "21                          Bermuda  North America      19.996308\n",
       "35                           Canada  North America      28.530439\n",
       "36                   Cayman Islands  North America      25.293714\n",
       "46                       Costa Rica  North America       5.340589\n",
       "49                             Cuba  North America       0.058743\n",
       "55                         Dominica  North America       1.722900\n",
       "56               Dominican Republic  North America       8.327284\n",
       "59                      El Salvador  North America      12.629689\n",
       "78                          Grenada  North America       4.181537\n",
       "80                        Guatemala  North America       7.354303\n",
       "84                            Haiti  North America       0.649826\n",
       "85                         Honduras  North America       2.361712\n",
       "97                          Jamaica  North America      13.822724\n",
       "127                          Mexico  North America      14.234481\n",
       "142                       Nicaragua  North America       1.781192\n",
       "151                          Panama  North America      13.543121\n",
       "158                     Puerto Rico  North America      35.925685\n",
       "181             St. Kitts and Nevis  North America       2.722694\n",
       "182                       St. Lucia  North America       1.595110\n",
       "184  St. Vincent and the Grenadines  North America       2.190492\n",
       "196             Trinidad and Tobago  North America      12.773517\n",
       "206                   United States  North America      38.861836"
      ]
     },
     "execution_count": 867,
     "metadata": {},
     "output_type": "execute_result"
    }
   ],
   "source": [
    "NA_mobile_without_2000 = mobile1[mobile1.Region==\"North America\"]\n",
    "NA_mobile_without_2000 = NA_mobile_without_2000[[\"Country Name\",\"Region\",\"2000 [YR2000]\"]]\n",
    "NA_mobile_without_2000"
   ]
  },
  {
   "cell_type": "code",
   "execution_count": 868,
   "id": "70a87362",
   "metadata": {},
   "outputs": [
    {
     "name": "stdout",
     "output_type": "stream",
     "text": [
      "Upper whisker:  34.61753058325\n",
      "Lower Whisker:  -16.70299343875\n"
     ]
    },
    {
     "data": {
      "text/html": [
       "<div>\n",
       "<style scoped>\n",
       "    .dataframe tbody tr th:only-of-type {\n",
       "        vertical-align: middle;\n",
       "    }\n",
       "\n",
       "    .dataframe tbody tr th {\n",
       "        vertical-align: top;\n",
       "    }\n",
       "\n",
       "    .dataframe thead th {\n",
       "        text-align: right;\n",
       "    }\n",
       "</style>\n",
       "<table border=\"1\" class=\"dataframe\">\n",
       "  <thead>\n",
       "    <tr style=\"text-align: right;\">\n",
       "      <th></th>\n",
       "      <th>Country Name</th>\n",
       "      <th>Region</th>\n",
       "      <th>2000 [YR2000]</th>\n",
       "    </tr>\n",
       "  </thead>\n",
       "  <tbody>\n",
       "    <tr>\n",
       "      <th>6</th>\n",
       "      <td>Antigua and Barbuda</td>\n",
       "      <td>North America</td>\n",
       "      <td>28.941276</td>\n",
       "    </tr>\n",
       "    <tr>\n",
       "      <th>9</th>\n",
       "      <td>Aruba</td>\n",
       "      <td>North America</td>\n",
       "      <td>16.510187</td>\n",
       "    </tr>\n",
       "    <tr>\n",
       "      <th>13</th>\n",
       "      <td>Bahamas, The</td>\n",
       "      <td>North America</td>\n",
       "      <td>10.576713</td>\n",
       "    </tr>\n",
       "    <tr>\n",
       "      <th>16</th>\n",
       "      <td>Barbados</td>\n",
       "      <td>North America</td>\n",
       "      <td>10.484504</td>\n",
       "    </tr>\n",
       "    <tr>\n",
       "      <th>19</th>\n",
       "      <td>Belize</td>\n",
       "      <td>North America</td>\n",
       "      <td>6.797808</td>\n",
       "    </tr>\n",
       "    <tr>\n",
       "      <th>21</th>\n",
       "      <td>Bermuda</td>\n",
       "      <td>North America</td>\n",
       "      <td>19.996308</td>\n",
       "    </tr>\n",
       "    <tr>\n",
       "      <th>35</th>\n",
       "      <td>Canada</td>\n",
       "      <td>North America</td>\n",
       "      <td>28.530439</td>\n",
       "    </tr>\n",
       "    <tr>\n",
       "      <th>36</th>\n",
       "      <td>Cayman Islands</td>\n",
       "      <td>North America</td>\n",
       "      <td>25.293714</td>\n",
       "    </tr>\n",
       "    <tr>\n",
       "      <th>46</th>\n",
       "      <td>Costa Rica</td>\n",
       "      <td>North America</td>\n",
       "      <td>5.340589</td>\n",
       "    </tr>\n",
       "    <tr>\n",
       "      <th>49</th>\n",
       "      <td>Cuba</td>\n",
       "      <td>North America</td>\n",
       "      <td>0.058743</td>\n",
       "    </tr>\n",
       "    <tr>\n",
       "      <th>55</th>\n",
       "      <td>Dominica</td>\n",
       "      <td>North America</td>\n",
       "      <td>1.722900</td>\n",
       "    </tr>\n",
       "    <tr>\n",
       "      <th>56</th>\n",
       "      <td>Dominican Republic</td>\n",
       "      <td>North America</td>\n",
       "      <td>8.327284</td>\n",
       "    </tr>\n",
       "    <tr>\n",
       "      <th>59</th>\n",
       "      <td>El Salvador</td>\n",
       "      <td>North America</td>\n",
       "      <td>12.629689</td>\n",
       "    </tr>\n",
       "    <tr>\n",
       "      <th>78</th>\n",
       "      <td>Grenada</td>\n",
       "      <td>North America</td>\n",
       "      <td>4.181537</td>\n",
       "    </tr>\n",
       "    <tr>\n",
       "      <th>80</th>\n",
       "      <td>Guatemala</td>\n",
       "      <td>North America</td>\n",
       "      <td>7.354303</td>\n",
       "    </tr>\n",
       "    <tr>\n",
       "      <th>84</th>\n",
       "      <td>Haiti</td>\n",
       "      <td>North America</td>\n",
       "      <td>0.649826</td>\n",
       "    </tr>\n",
       "    <tr>\n",
       "      <th>85</th>\n",
       "      <td>Honduras</td>\n",
       "      <td>North America</td>\n",
       "      <td>2.361712</td>\n",
       "    </tr>\n",
       "    <tr>\n",
       "      <th>97</th>\n",
       "      <td>Jamaica</td>\n",
       "      <td>North America</td>\n",
       "      <td>13.822724</td>\n",
       "    </tr>\n",
       "    <tr>\n",
       "      <th>127</th>\n",
       "      <td>Mexico</td>\n",
       "      <td>North America</td>\n",
       "      <td>14.234481</td>\n",
       "    </tr>\n",
       "    <tr>\n",
       "      <th>142</th>\n",
       "      <td>Nicaragua</td>\n",
       "      <td>North America</td>\n",
       "      <td>1.781192</td>\n",
       "    </tr>\n",
       "    <tr>\n",
       "      <th>151</th>\n",
       "      <td>Panama</td>\n",
       "      <td>North America</td>\n",
       "      <td>13.543121</td>\n",
       "    </tr>\n",
       "    <tr>\n",
       "      <th>181</th>\n",
       "      <td>St. Kitts and Nevis</td>\n",
       "      <td>North America</td>\n",
       "      <td>2.722694</td>\n",
       "    </tr>\n",
       "    <tr>\n",
       "      <th>182</th>\n",
       "      <td>St. Lucia</td>\n",
       "      <td>North America</td>\n",
       "      <td>1.595110</td>\n",
       "    </tr>\n",
       "    <tr>\n",
       "      <th>184</th>\n",
       "      <td>St. Vincent and the Grenadines</td>\n",
       "      <td>North America</td>\n",
       "      <td>2.190492</td>\n",
       "    </tr>\n",
       "    <tr>\n",
       "      <th>196</th>\n",
       "      <td>Trinidad and Tobago</td>\n",
       "      <td>North America</td>\n",
       "      <td>12.773517</td>\n",
       "    </tr>\n",
       "  </tbody>\n",
       "</table>\n",
       "</div>"
      ],
      "text/plain": [
       "                       Country Name         Region  2000 [YR2000]\n",
       "6               Antigua and Barbuda  North America      28.941276\n",
       "9                             Aruba  North America      16.510187\n",
       "13                     Bahamas, The  North America      10.576713\n",
       "16                         Barbados  North America      10.484504\n",
       "19                           Belize  North America       6.797808\n",
       "21                          Bermuda  North America      19.996308\n",
       "35                           Canada  North America      28.530439\n",
       "36                   Cayman Islands  North America      25.293714\n",
       "46                       Costa Rica  North America       5.340589\n",
       "49                             Cuba  North America       0.058743\n",
       "55                         Dominica  North America       1.722900\n",
       "56               Dominican Republic  North America       8.327284\n",
       "59                      El Salvador  North America      12.629689\n",
       "78                          Grenada  North America       4.181537\n",
       "80                        Guatemala  North America       7.354303\n",
       "84                            Haiti  North America       0.649826\n",
       "85                         Honduras  North America       2.361712\n",
       "97                          Jamaica  North America      13.822724\n",
       "127                          Mexico  North America      14.234481\n",
       "142                       Nicaragua  North America       1.781192\n",
       "151                          Panama  North America      13.543121\n",
       "181             St. Kitts and Nevis  North America       2.722694\n",
       "182                       St. Lucia  North America       1.595110\n",
       "184  St. Vincent and the Grenadines  North America       2.190492\n",
       "196             Trinidad and Tobago  North America      12.773517"
      ]
     },
     "execution_count": 868,
     "metadata": {},
     "output_type": "execute_result"
    }
   ],
   "source": [
    "upper, lower = outliers(NA_mobile_without_2000, \"2000 [YR2000]\")\n",
    "print(\"Upper whisker: \", upper)\n",
    "print(\"Lower Whisker: \", lower)\n",
    "NA_mobile_without_2000 = NA_mobile_without_2000[(NA_mobile_without_2000[\"2000 [YR2000]\"] > lower) & (NA_mobile_without_2000[\"2000 [YR2000]\"] < upper)]\n",
    "NA_mobile_without_2000"
   ]
  },
  {
   "cell_type": "code",
   "execution_count": 869,
   "id": "271dac71",
   "metadata": {},
   "outputs": [
    {
     "data": {
      "text/plain": [
       "array([[<AxesSubplot:title={'center':'2000 [YR2000]'}>]], dtype=object)"
      ]
     },
     "execution_count": 869,
     "metadata": {},
     "output_type": "execute_result"
    },
    {
     "data": {
      "image/png": "[encoded data removed]",
      "text/plain": [
       "<Figure size 432x288 with 1 Axes>"
      ]
     },
     "metadata": {
      "needs_background": "light"
     },
     "output_type": "display_data"
    }
   ],
   "source": [
    "NA_mobile_without_2000.hist()"
   ]
  },
  {
   "cell_type": "code",
   "execution_count": 870,
   "id": "51225797",
   "metadata": {},
   "outputs": [],
   "source": [
    "#North America 2014 with outliers"
   ]
  },
  {
   "cell_type": "code",
   "execution_count": 871,
   "id": "7dad0184",
   "metadata": {},
   "outputs": [
    {
     "data": {
      "text/plain": [
       "array([[<AxesSubplot:title={'center':'2014 [YR2014]'}>]], dtype=object)"
      ]
     },
     "execution_count": 871,
     "metadata": {},
     "output_type": "execute_result"
    },
    {
     "data": {
      "image/png": "[encoded data removed]",
      "text/plain": [
       "<Figure size 432x288 with 1 Axes>"
      ]
     },
     "metadata": {
      "needs_background": "light"
     },
     "output_type": "display_data"
    }
   ],
   "source": [
    "mobile1[mobile1.Region==\"North America\"].hist(column='2014 [YR2014]')"
   ]
  },
  {
   "cell_type": "code",
   "execution_count": 872,
   "id": "9cb1214e",
   "metadata": {},
   "outputs": [],
   "source": [
    "#North America 2014 without outliers"
   ]
  },
  {
   "cell_type": "code",
   "execution_count": 873,
   "id": "3cf19bad",
   "metadata": {},
   "outputs": [
    {
     "data": {
      "text/html": [
       "<div>\n",
       "<style scoped>\n",
       "    .dataframe tbody tr th:only-of-type {\n",
       "        vertical-align: middle;\n",
       "    }\n",
       "\n",
       "    .dataframe tbody tr th {\n",
       "        vertical-align: top;\n",
       "    }\n",
       "\n",
       "    .dataframe thead th {\n",
       "        text-align: right;\n",
       "    }\n",
       "</style>\n",
       "<table border=\"1\" class=\"dataframe\">\n",
       "  <thead>\n",
       "    <tr style=\"text-align: right;\">\n",
       "      <th></th>\n",
       "      <th>Country Name</th>\n",
       "      <th>Region</th>\n",
       "      <th>2014 [YR2014]</th>\n",
       "    </tr>\n",
       "  </thead>\n",
       "  <tbody>\n",
       "    <tr>\n",
       "      <th>6</th>\n",
       "      <td>Antigua and Barbuda</td>\n",
       "      <td>North America</td>\n",
       "      <td>129.687129</td>\n",
       "    </tr>\n",
       "    <tr>\n",
       "      <th>9</th>\n",
       "      <td>Aruba</td>\n",
       "      <td>North America</td>\n",
       "      <td>134.619461</td>\n",
       "    </tr>\n",
       "    <tr>\n",
       "      <th>13</th>\n",
       "      <td>Bahamas, The</td>\n",
       "      <td>North America</td>\n",
       "      <td>84.947104</td>\n",
       "    </tr>\n",
       "    <tr>\n",
       "      <th>16</th>\n",
       "      <td>Barbados</td>\n",
       "      <td>North America</td>\n",
       "      <td>107.243019</td>\n",
       "    </tr>\n",
       "    <tr>\n",
       "      <th>19</th>\n",
       "      <td>Belize</td>\n",
       "      <td>North America</td>\n",
       "      <td>48.759643</td>\n",
       "    </tr>\n",
       "    <tr>\n",
       "      <th>21</th>\n",
       "      <td>Bermuda</td>\n",
       "      <td>North America</td>\n",
       "      <td>92.906782</td>\n",
       "    </tr>\n",
       "    <tr>\n",
       "      <th>35</th>\n",
       "      <td>Canada</td>\n",
       "      <td>North America</td>\n",
       "      <td>80.722095</td>\n",
       "    </tr>\n",
       "    <tr>\n",
       "      <th>36</th>\n",
       "      <td>Cayman Islands</td>\n",
       "      <td>North America</td>\n",
       "      <td>149.649947</td>\n",
       "    </tr>\n",
       "    <tr>\n",
       "      <th>46</th>\n",
       "      <td>Costa Rica</td>\n",
       "      <td>North America</td>\n",
       "      <td>146.399004</td>\n",
       "    </tr>\n",
       "    <tr>\n",
       "      <th>49</th>\n",
       "      <td>Cuba</td>\n",
       "      <td>North America</td>\n",
       "      <td>22.382360</td>\n",
       "    </tr>\n",
       "    <tr>\n",
       "      <th>55</th>\n",
       "      <td>Dominica</td>\n",
       "      <td>North America</td>\n",
       "      <td>103.940353</td>\n",
       "    </tr>\n",
       "    <tr>\n",
       "      <th>56</th>\n",
       "      <td>Dominican Republic</td>\n",
       "      <td>North America</td>\n",
       "      <td>81.686045</td>\n",
       "    </tr>\n",
       "    <tr>\n",
       "      <th>59</th>\n",
       "      <td>El Salvador</td>\n",
       "      <td>North America</td>\n",
       "      <td>146.039000</td>\n",
       "    </tr>\n",
       "    <tr>\n",
       "      <th>78</th>\n",
       "      <td>Grenada</td>\n",
       "      <td>North America</td>\n",
       "      <td>107.574700</td>\n",
       "    </tr>\n",
       "    <tr>\n",
       "      <th>80</th>\n",
       "      <td>Guatemala</td>\n",
       "      <td>North America</td>\n",
       "      <td>106.208380</td>\n",
       "    </tr>\n",
       "    <tr>\n",
       "      <th>84</th>\n",
       "      <td>Haiti</td>\n",
       "      <td>North America</td>\n",
       "      <td>64.170123</td>\n",
       "    </tr>\n",
       "    <tr>\n",
       "      <th>85</th>\n",
       "      <td>Honduras</td>\n",
       "      <td>North America</td>\n",
       "      <td>86.260010</td>\n",
       "    </tr>\n",
       "    <tr>\n",
       "      <th>97</th>\n",
       "      <td>Jamaica</td>\n",
       "      <td>North America</td>\n",
       "      <td>104.533729</td>\n",
       "    </tr>\n",
       "    <tr>\n",
       "      <th>127</th>\n",
       "      <td>Mexico</td>\n",
       "      <td>North America</td>\n",
       "      <td>87.198893</td>\n",
       "    </tr>\n",
       "    <tr>\n",
       "      <th>142</th>\n",
       "      <td>Nicaragua</td>\n",
       "      <td>North America</td>\n",
       "      <td>115.060549</td>\n",
       "    </tr>\n",
       "    <tr>\n",
       "      <th>151</th>\n",
       "      <td>Panama</td>\n",
       "      <td>North America</td>\n",
       "      <td>177.019589</td>\n",
       "    </tr>\n",
       "    <tr>\n",
       "      <th>158</th>\n",
       "      <td>Puerto Rico</td>\n",
       "      <td>North America</td>\n",
       "      <td>92.910502</td>\n",
       "    </tr>\n",
       "    <tr>\n",
       "      <th>181</th>\n",
       "      <td>St. Kitts and Nevis</td>\n",
       "      <td>North America</td>\n",
       "      <td>128.018277</td>\n",
       "    </tr>\n",
       "    <tr>\n",
       "      <th>182</th>\n",
       "      <td>St. Lucia</td>\n",
       "      <td>North America</td>\n",
       "      <td>105.639498</td>\n",
       "    </tr>\n",
       "    <tr>\n",
       "      <th>184</th>\n",
       "      <td>St. Vincent and the Grenadines</td>\n",
       "      <td>North America</td>\n",
       "      <td>105.654918</td>\n",
       "    </tr>\n",
       "    <tr>\n",
       "      <th>196</th>\n",
       "      <td>Trinidad and Tobago</td>\n",
       "      <td>North America</td>\n",
       "      <td>145.379181</td>\n",
       "    </tr>\n",
       "    <tr>\n",
       "      <th>206</th>\n",
       "      <td>United States</td>\n",
       "      <td>North America</td>\n",
       "      <td>111.556216</td>\n",
       "    </tr>\n",
       "  </tbody>\n",
       "</table>\n",
       "</div>"
      ],
      "text/plain": [
       "                       Country Name         Region  2014 [YR2014]\n",
       "6               Antigua and Barbuda  North America     129.687129\n",
       "9                             Aruba  North America     134.619461\n",
       "13                     Bahamas, The  North America      84.947104\n",
       "16                         Barbados  North America     107.243019\n",
       "19                           Belize  North America      48.759643\n",
       "21                          Bermuda  North America      92.906782\n",
       "35                           Canada  North America      80.722095\n",
       "36                   Cayman Islands  North America     149.649947\n",
       "46                       Costa Rica  North America     146.399004\n",
       "49                             Cuba  North America      22.382360\n",
       "55                         Dominica  North America     103.940353\n",
       "56               Dominican Republic  North America      81.686045\n",
       "59                      El Salvador  North America     146.039000\n",
       "78                          Grenada  North America     107.574700\n",
       "80                        Guatemala  North America     106.208380\n",
       "84                            Haiti  North America      64.170123\n",
       "85                         Honduras  North America      86.260010\n",
       "97                          Jamaica  North America     104.533729\n",
       "127                          Mexico  North America      87.198893\n",
       "142                       Nicaragua  North America     115.060549\n",
       "151                          Panama  North America     177.019589\n",
       "158                     Puerto Rico  North America      92.910502\n",
       "181             St. Kitts and Nevis  North America     128.018277\n",
       "182                       St. Lucia  North America     105.639498\n",
       "184  St. Vincent and the Grenadines  North America     105.654918\n",
       "196             Trinidad and Tobago  North America     145.379181\n",
       "206                   United States  North America     111.556216"
      ]
     },
     "execution_count": 873,
     "metadata": {},
     "output_type": "execute_result"
    }
   ],
   "source": [
    "NA_mobile_without_2014 = mobile1[mobile1.Region==\"North America\"]\n",
    "NA_mobile_without_2014 = NA_mobile_without_2014[[\"Country Name\",\"Region\",\"2014 [YR2014]\"]]\n",
    "NA_mobile_without_2014"
   ]
  },
  {
   "cell_type": "code",
   "execution_count": 874,
   "id": "bb00b89e",
   "metadata": {},
   "outputs": [
    {
     "name": "stdout",
     "output_type": "stream",
     "text": [
      "Upper whisker:  192.0375797775\n",
      "Lower Whisker:  23.54457463749999\n"
     ]
    },
    {
     "data": {
      "text/html": [
       "<div>\n",
       "<style scoped>\n",
       "    .dataframe tbody tr th:only-of-type {\n",
       "        vertical-align: middle;\n",
       "    }\n",
       "\n",
       "    .dataframe tbody tr th {\n",
       "        vertical-align: top;\n",
       "    }\n",
       "\n",
       "    .dataframe thead th {\n",
       "        text-align: right;\n",
       "    }\n",
       "</style>\n",
       "<table border=\"1\" class=\"dataframe\">\n",
       "  <thead>\n",
       "    <tr style=\"text-align: right;\">\n",
       "      <th></th>\n",
       "      <th>Country Name</th>\n",
       "      <th>Region</th>\n",
       "      <th>2014 [YR2014]</th>\n",
       "    </tr>\n",
       "  </thead>\n",
       "  <tbody>\n",
       "    <tr>\n",
       "      <th>6</th>\n",
       "      <td>Antigua and Barbuda</td>\n",
       "      <td>North America</td>\n",
       "      <td>129.687129</td>\n",
       "    </tr>\n",
       "    <tr>\n",
       "      <th>9</th>\n",
       "      <td>Aruba</td>\n",
       "      <td>North America</td>\n",
       "      <td>134.619461</td>\n",
       "    </tr>\n",
       "    <tr>\n",
       "      <th>13</th>\n",
       "      <td>Bahamas, The</td>\n",
       "      <td>North America</td>\n",
       "      <td>84.947104</td>\n",
       "    </tr>\n",
       "    <tr>\n",
       "      <th>16</th>\n",
       "      <td>Barbados</td>\n",
       "      <td>North America</td>\n",
       "      <td>107.243019</td>\n",
       "    </tr>\n",
       "    <tr>\n",
       "      <th>19</th>\n",
       "      <td>Belize</td>\n",
       "      <td>North America</td>\n",
       "      <td>48.759643</td>\n",
       "    </tr>\n",
       "    <tr>\n",
       "      <th>21</th>\n",
       "      <td>Bermuda</td>\n",
       "      <td>North America</td>\n",
       "      <td>92.906782</td>\n",
       "    </tr>\n",
       "    <tr>\n",
       "      <th>35</th>\n",
       "      <td>Canada</td>\n",
       "      <td>North America</td>\n",
       "      <td>80.722095</td>\n",
       "    </tr>\n",
       "    <tr>\n",
       "      <th>36</th>\n",
       "      <td>Cayman Islands</td>\n",
       "      <td>North America</td>\n",
       "      <td>149.649947</td>\n",
       "    </tr>\n",
       "    <tr>\n",
       "      <th>46</th>\n",
       "      <td>Costa Rica</td>\n",
       "      <td>North America</td>\n",
       "      <td>146.399004</td>\n",
       "    </tr>\n",
       "    <tr>\n",
       "      <th>55</th>\n",
       "      <td>Dominica</td>\n",
       "      <td>North America</td>\n",
       "      <td>103.940353</td>\n",
       "    </tr>\n",
       "    <tr>\n",
       "      <th>56</th>\n",
       "      <td>Dominican Republic</td>\n",
       "      <td>North America</td>\n",
       "      <td>81.686045</td>\n",
       "    </tr>\n",
       "    <tr>\n",
       "      <th>59</th>\n",
       "      <td>El Salvador</td>\n",
       "      <td>North America</td>\n",
       "      <td>146.039000</td>\n",
       "    </tr>\n",
       "    <tr>\n",
       "      <th>78</th>\n",
       "      <td>Grenada</td>\n",
       "      <td>North America</td>\n",
       "      <td>107.574700</td>\n",
       "    </tr>\n",
       "    <tr>\n",
       "      <th>80</th>\n",
       "      <td>Guatemala</td>\n",
       "      <td>North America</td>\n",
       "      <td>106.208380</td>\n",
       "    </tr>\n",
       "    <tr>\n",
       "      <th>84</th>\n",
       "      <td>Haiti</td>\n",
       "      <td>North America</td>\n",
       "      <td>64.170123</td>\n",
       "    </tr>\n",
       "    <tr>\n",
       "      <th>85</th>\n",
       "      <td>Honduras</td>\n",
       "      <td>North America</td>\n",
       "      <td>86.260010</td>\n",
       "    </tr>\n",
       "    <tr>\n",
       "      <th>97</th>\n",
       "      <td>Jamaica</td>\n",
       "      <td>North America</td>\n",
       "      <td>104.533729</td>\n",
       "    </tr>\n",
       "    <tr>\n",
       "      <th>127</th>\n",
       "      <td>Mexico</td>\n",
       "      <td>North America</td>\n",
       "      <td>87.198893</td>\n",
       "    </tr>\n",
       "    <tr>\n",
       "      <th>142</th>\n",
       "      <td>Nicaragua</td>\n",
       "      <td>North America</td>\n",
       "      <td>115.060549</td>\n",
       "    </tr>\n",
       "    <tr>\n",
       "      <th>151</th>\n",
       "      <td>Panama</td>\n",
       "      <td>North America</td>\n",
       "      <td>177.019589</td>\n",
       "    </tr>\n",
       "    <tr>\n",
       "      <th>158</th>\n",
       "      <td>Puerto Rico</td>\n",
       "      <td>North America</td>\n",
       "      <td>92.910502</td>\n",
       "    </tr>\n",
       "    <tr>\n",
       "      <th>181</th>\n",
       "      <td>St. Kitts and Nevis</td>\n",
       "      <td>North America</td>\n",
       "      <td>128.018277</td>\n",
       "    </tr>\n",
       "    <tr>\n",
       "      <th>182</th>\n",
       "      <td>St. Lucia</td>\n",
       "      <td>North America</td>\n",
       "      <td>105.639498</td>\n",
       "    </tr>\n",
       "    <tr>\n",
       "      <th>184</th>\n",
       "      <td>St. Vincent and the Grenadines</td>\n",
       "      <td>North America</td>\n",
       "      <td>105.654918</td>\n",
       "    </tr>\n",
       "    <tr>\n",
       "      <th>196</th>\n",
       "      <td>Trinidad and Tobago</td>\n",
       "      <td>North America</td>\n",
       "      <td>145.379181</td>\n",
       "    </tr>\n",
       "    <tr>\n",
       "      <th>206</th>\n",
       "      <td>United States</td>\n",
       "      <td>North America</td>\n",
       "      <td>111.556216</td>\n",
       "    </tr>\n",
       "  </tbody>\n",
       "</table>\n",
       "</div>"
      ],
      "text/plain": [
       "                       Country Name         Region  2014 [YR2014]\n",
       "6               Antigua and Barbuda  North America     129.687129\n",
       "9                             Aruba  North America     134.619461\n",
       "13                     Bahamas, The  North America      84.947104\n",
       "16                         Barbados  North America     107.243019\n",
       "19                           Belize  North America      48.759643\n",
       "21                          Bermuda  North America      92.906782\n",
       "35                           Canada  North America      80.722095\n",
       "36                   Cayman Islands  North America     149.649947\n",
       "46                       Costa Rica  North America     146.399004\n",
       "55                         Dominica  North America     103.940353\n",
       "56               Dominican Republic  North America      81.686045\n",
       "59                      El Salvador  North America     146.039000\n",
       "78                          Grenada  North America     107.574700\n",
       "80                        Guatemala  North America     106.208380\n",
       "84                            Haiti  North America      64.170123\n",
       "85                         Honduras  North America      86.260010\n",
       "97                          Jamaica  North America     104.533729\n",
       "127                          Mexico  North America      87.198893\n",
       "142                       Nicaragua  North America     115.060549\n",
       "151                          Panama  North America     177.019589\n",
       "158                     Puerto Rico  North America      92.910502\n",
       "181             St. Kitts and Nevis  North America     128.018277\n",
       "182                       St. Lucia  North America     105.639498\n",
       "184  St. Vincent and the Grenadines  North America     105.654918\n",
       "196             Trinidad and Tobago  North America     145.379181\n",
       "206                   United States  North America     111.556216"
      ]
     },
     "execution_count": 874,
     "metadata": {},
     "output_type": "execute_result"
    }
   ],
   "source": [
    "upper, lower = outliers(NA_mobile_without_2014, \"2014 [YR2014]\")\n",
    "print(\"Upper whisker: \", upper)\n",
    "print(\"Lower Whisker: \", lower)\n",
    "NA_mobile_without_2014 = NA_mobile_without_2014[(NA_mobile_without_2014[\"2014 [YR2014]\"] > lower) & (NA_mobile_without_2014[\"2014 [YR2014]\"] < upper)]\n",
    "NA_mobile_without_2014"
   ]
  },
  {
   "cell_type": "code",
   "execution_count": 875,
   "id": "29991939",
   "metadata": {},
   "outputs": [
    {
     "data": {
      "text/plain": [
       "array([[<AxesSubplot:title={'center':'2014 [YR2014]'}>]], dtype=object)"
      ]
     },
     "execution_count": 875,
     "metadata": {},
     "output_type": "execute_result"
    },
    {
     "data": {
      "image/png": "[encoded data removed]",
      "text/plain": [
       "<Figure size 432x288 with 1 Axes>"
      ]
     },
     "metadata": {
      "needs_background": "light"
     },
     "output_type": "display_data"
    }
   ],
   "source": [
    "NA_mobile_without_2014.hist()"
   ]
  },
  {
   "cell_type": "code",
   "execution_count": 876,
   "id": "c049ffbe",
   "metadata": {},
   "outputs": [],
   "source": [
    "#South America 2000 with outliers"
   ]
  },
  {
   "cell_type": "code",
   "execution_count": 877,
   "id": "495e7507",
   "metadata": {},
   "outputs": [
    {
     "data": {
      "text/plain": [
       "array([[<AxesSubplot:title={'center':'2000 [YR2000]'}>]], dtype=object)"
      ]
     },
     "execution_count": 877,
     "metadata": {},
     "output_type": "execute_result"
    },
    {
     "data": {
      "image/png": "[encoded data removed]",
      "text/plain": [
       "<Figure size 432x288 with 1 Axes>"
      ]
     },
     "metadata": {
      "needs_background": "light"
     },
     "output_type": "display_data"
    }
   ],
   "source": [
    "mobile1[mobile1.Region==\"South America\"].hist(column='2000 [YR2000]')"
   ]
  },
  {
   "cell_type": "code",
   "execution_count": 878,
   "id": "05caa1e5",
   "metadata": {},
   "outputs": [],
   "source": [
    "#South America 2000 without outliers"
   ]
  },
  {
   "cell_type": "code",
   "execution_count": 879,
   "id": "dffe7c18",
   "metadata": {},
   "outputs": [
    {
     "data": {
      "text/html": [
       "<div>\n",
       "<style scoped>\n",
       "    .dataframe tbody tr th:only-of-type {\n",
       "        vertical-align: middle;\n",
       "    }\n",
       "\n",
       "    .dataframe tbody tr th {\n",
       "        vertical-align: top;\n",
       "    }\n",
       "\n",
       "    .dataframe thead th {\n",
       "        text-align: right;\n",
       "    }\n",
       "</style>\n",
       "<table border=\"1\" class=\"dataframe\">\n",
       "  <thead>\n",
       "    <tr style=\"text-align: right;\">\n",
       "      <th></th>\n",
       "      <th>Country Name</th>\n",
       "      <th>Region</th>\n",
       "      <th>2000 [YR2000]</th>\n",
       "    </tr>\n",
       "  </thead>\n",
       "  <tbody>\n",
       "    <tr>\n",
       "      <th>7</th>\n",
       "      <td>Argentina</td>\n",
       "      <td>South America</td>\n",
       "      <td>17.596451</td>\n",
       "    </tr>\n",
       "    <tr>\n",
       "      <th>23</th>\n",
       "      <td>Bolivia</td>\n",
       "      <td>South America</td>\n",
       "      <td>6.920904</td>\n",
       "    </tr>\n",
       "    <tr>\n",
       "      <th>26</th>\n",
       "      <td>Brazil</td>\n",
       "      <td>South America</td>\n",
       "      <td>13.266277</td>\n",
       "    </tr>\n",
       "    <tr>\n",
       "      <th>40</th>\n",
       "      <td>Chile</td>\n",
       "      <td>South America</td>\n",
       "      <td>22.170817</td>\n",
       "    </tr>\n",
       "    <tr>\n",
       "      <th>42</th>\n",
       "      <td>Colombia</td>\n",
       "      <td>South America</td>\n",
       "      <td>5.694683</td>\n",
       "    </tr>\n",
       "    <tr>\n",
       "      <th>57</th>\n",
       "      <td>Ecuador</td>\n",
       "      <td>South America</td>\n",
       "      <td>3.802605</td>\n",
       "    </tr>\n",
       "    <tr>\n",
       "      <th>83</th>\n",
       "      <td>Guyana</td>\n",
       "      <td>South America</td>\n",
       "      <td>5.334030</td>\n",
       "    </tr>\n",
       "    <tr>\n",
       "      <th>153</th>\n",
       "      <td>Paraguay</td>\n",
       "      <td>South America</td>\n",
       "      <td>15.419482</td>\n",
       "    </tr>\n",
       "    <tr>\n",
       "      <th>154</th>\n",
       "      <td>Peru</td>\n",
       "      <td>South America</td>\n",
       "      <td>4.814285</td>\n",
       "    </tr>\n",
       "    <tr>\n",
       "      <th>186</th>\n",
       "      <td>Suriname</td>\n",
       "      <td>South America</td>\n",
       "      <td>8.716018</td>\n",
       "    </tr>\n",
       "    <tr>\n",
       "      <th>207</th>\n",
       "      <td>Uruguay</td>\n",
       "      <td>South America</td>\n",
       "      <td>12.374086</td>\n",
       "    </tr>\n",
       "    <tr>\n",
       "      <th>210</th>\n",
       "      <td>Venezuela, RB</td>\n",
       "      <td>South America</td>\n",
       "      <td>22.516004</td>\n",
       "    </tr>\n",
       "  </tbody>\n",
       "</table>\n",
       "</div>"
      ],
      "text/plain": [
       "      Country Name         Region  2000 [YR2000]\n",
       "7        Argentina  South America      17.596451\n",
       "23         Bolivia  South America       6.920904\n",
       "26          Brazil  South America      13.266277\n",
       "40           Chile  South America      22.170817\n",
       "42        Colombia  South America       5.694683\n",
       "57         Ecuador  South America       3.802605\n",
       "83          Guyana  South America       5.334030\n",
       "153       Paraguay  South America      15.419482\n",
       "154           Peru  South America       4.814285\n",
       "186       Suriname  South America       8.716018\n",
       "207        Uruguay  South America      12.374086\n",
       "210  Venezuela, RB  South America      22.516004"
      ]
     },
     "execution_count": 879,
     "metadata": {},
     "output_type": "execute_result"
    }
   ],
   "source": [
    "SA_mobile_without_2000 = mobile1[mobile1.Region==\"South America\"]\n",
    "SA_mobile_without_2000 = SA_mobile_without_2000[[\"Country Name\",\"Region\",\"2000 [YR2000]\"]]\n",
    "SA_mobile_without_2000"
   ]
  },
  {
   "cell_type": "code",
   "execution_count": 880,
   "id": "308a4fa0",
   "metadata": {},
   "outputs": [
    {
     "name": "stdout",
     "output_type": "stream",
     "text": [
      "Upper whisker:  31.502530593875\n",
      "Lower Whisker:  -9.934287023125002\n"
     ]
    },
    {
     "data": {
      "text/html": [
       "<div>\n",
       "<style scoped>\n",
       "    .dataframe tbody tr th:only-of-type {\n",
       "        vertical-align: middle;\n",
       "    }\n",
       "\n",
       "    .dataframe tbody tr th {\n",
       "        vertical-align: top;\n",
       "    }\n",
       "\n",
       "    .dataframe thead th {\n",
       "        text-align: right;\n",
       "    }\n",
       "</style>\n",
       "<table border=\"1\" class=\"dataframe\">\n",
       "  <thead>\n",
       "    <tr style=\"text-align: right;\">\n",
       "      <th></th>\n",
       "      <th>Country Name</th>\n",
       "      <th>Region</th>\n",
       "      <th>2000 [YR2000]</th>\n",
       "    </tr>\n",
       "  </thead>\n",
       "  <tbody>\n",
       "    <tr>\n",
       "      <th>7</th>\n",
       "      <td>Argentina</td>\n",
       "      <td>South America</td>\n",
       "      <td>17.596451</td>\n",
       "    </tr>\n",
       "    <tr>\n",
       "      <th>23</th>\n",
       "      <td>Bolivia</td>\n",
       "      <td>South America</td>\n",
       "      <td>6.920904</td>\n",
       "    </tr>\n",
       "    <tr>\n",
       "      <th>26</th>\n",
       "      <td>Brazil</td>\n",
       "      <td>South America</td>\n",
       "      <td>13.266277</td>\n",
       "    </tr>\n",
       "    <tr>\n",
       "      <th>40</th>\n",
       "      <td>Chile</td>\n",
       "      <td>South America</td>\n",
       "      <td>22.170817</td>\n",
       "    </tr>\n",
       "    <tr>\n",
       "      <th>42</th>\n",
       "      <td>Colombia</td>\n",
       "      <td>South America</td>\n",
       "      <td>5.694683</td>\n",
       "    </tr>\n",
       "    <tr>\n",
       "      <th>57</th>\n",
       "      <td>Ecuador</td>\n",
       "      <td>South America</td>\n",
       "      <td>3.802605</td>\n",
       "    </tr>\n",
       "    <tr>\n",
       "      <th>83</th>\n",
       "      <td>Guyana</td>\n",
       "      <td>South America</td>\n",
       "      <td>5.334030</td>\n",
       "    </tr>\n",
       "    <tr>\n",
       "      <th>153</th>\n",
       "      <td>Paraguay</td>\n",
       "      <td>South America</td>\n",
       "      <td>15.419482</td>\n",
       "    </tr>\n",
       "    <tr>\n",
       "      <th>154</th>\n",
       "      <td>Peru</td>\n",
       "      <td>South America</td>\n",
       "      <td>4.814285</td>\n",
       "    </tr>\n",
       "    <tr>\n",
       "      <th>186</th>\n",
       "      <td>Suriname</td>\n",
       "      <td>South America</td>\n",
       "      <td>8.716018</td>\n",
       "    </tr>\n",
       "    <tr>\n",
       "      <th>207</th>\n",
       "      <td>Uruguay</td>\n",
       "      <td>South America</td>\n",
       "      <td>12.374086</td>\n",
       "    </tr>\n",
       "    <tr>\n",
       "      <th>210</th>\n",
       "      <td>Venezuela, RB</td>\n",
       "      <td>South America</td>\n",
       "      <td>22.516004</td>\n",
       "    </tr>\n",
       "  </tbody>\n",
       "</table>\n",
       "</div>"
      ],
      "text/plain": [
       "      Country Name         Region  2000 [YR2000]\n",
       "7        Argentina  South America      17.596451\n",
       "23         Bolivia  South America       6.920904\n",
       "26          Brazil  South America      13.266277\n",
       "40           Chile  South America      22.170817\n",
       "42        Colombia  South America       5.694683\n",
       "57         Ecuador  South America       3.802605\n",
       "83          Guyana  South America       5.334030\n",
       "153       Paraguay  South America      15.419482\n",
       "154           Peru  South America       4.814285\n",
       "186       Suriname  South America       8.716018\n",
       "207        Uruguay  South America      12.374086\n",
       "210  Venezuela, RB  South America      22.516004"
      ]
     },
     "execution_count": 880,
     "metadata": {},
     "output_type": "execute_result"
    }
   ],
   "source": [
    "upper, lower = outliers(SA_mobile_without_2000, \"2000 [YR2000]\")\n",
    "print(\"Upper whisker: \", upper)\n",
    "print(\"Lower Whisker: \", lower)\n",
    "SA_mobile_without_2000 = SA_mobile_without_2000[(SA_mobile_without_2000[\"2000 [YR2000]\"] > lower) & (SA_mobile_without_2000[\"2000 [YR2000]\"] < upper)]\n",
    "SA_mobile_without_2000"
   ]
  },
  {
   "cell_type": "code",
   "execution_count": 881,
   "id": "c6475d66",
   "metadata": {},
   "outputs": [
    {
     "data": {
      "text/plain": [
       "array([[<AxesSubplot:title={'center':'2000 [YR2000]'}>]], dtype=object)"
      ]
     },
     "execution_count": 881,
     "metadata": {},
     "output_type": "execute_result"
    },
    {
     "data": {
      "image/png": "[encoded data removed]",
      "text/plain": [
       "<Figure size 432x288 with 1 Axes>"
      ]
     },
     "metadata": {
      "needs_background": "light"
     },
     "output_type": "display_data"
    }
   ],
   "source": [
    "SA_mobile_without_2000.hist()"
   ]
  },
  {
   "cell_type": "code",
   "execution_count": 882,
   "id": "1cc73569",
   "metadata": {},
   "outputs": [],
   "source": [
    "#South America 2014 with outliers"
   ]
  },
  {
   "cell_type": "code",
   "execution_count": 883,
   "id": "0bf76585",
   "metadata": {},
   "outputs": [
    {
     "data": {
      "text/plain": [
       "array([[<AxesSubplot:title={'center':'2014 [YR2014]'}>]], dtype=object)"
      ]
     },
     "execution_count": 883,
     "metadata": {},
     "output_type": "execute_result"
    },
    {
     "data": {
      "image/png": "[encoded data removed]",
      "text/plain": [
       "<Figure size 432x288 with 1 Axes>"
      ]
     },
     "metadata": {
      "needs_background": "light"
     },
     "output_type": "display_data"
    }
   ],
   "source": [
    "mobile1[mobile1.Region==\"South America\"].hist(column='2014 [YR2014]')"
   ]
  },
  {
   "cell_type": "code",
   "execution_count": 884,
   "id": "e78ca348",
   "metadata": {},
   "outputs": [],
   "source": [
    "#South America 2014 without outliers"
   ]
  },
  {
   "cell_type": "code",
   "execution_count": 885,
   "id": "336a93e2",
   "metadata": {},
   "outputs": [
    {
     "data": {
      "text/html": [
       "<div>\n",
       "<style scoped>\n",
       "    .dataframe tbody tr th:only-of-type {\n",
       "        vertical-align: middle;\n",
       "    }\n",
       "\n",
       "    .dataframe tbody tr th {\n",
       "        vertical-align: top;\n",
       "    }\n",
       "\n",
       "    .dataframe thead th {\n",
       "        text-align: right;\n",
       "    }\n",
       "</style>\n",
       "<table border=\"1\" class=\"dataframe\">\n",
       "  <thead>\n",
       "    <tr style=\"text-align: right;\">\n",
       "      <th></th>\n",
       "      <th>Country Name</th>\n",
       "      <th>Region</th>\n",
       "      <th>2014 [YR2014]</th>\n",
       "    </tr>\n",
       "  </thead>\n",
       "  <tbody>\n",
       "    <tr>\n",
       "      <th>7</th>\n",
       "      <td>Argentina</td>\n",
       "      <td>South America</td>\n",
       "      <td>143.615832</td>\n",
       "    </tr>\n",
       "    <tr>\n",
       "      <th>23</th>\n",
       "      <td>Bolivia</td>\n",
       "      <td>South America</td>\n",
       "      <td>97.607289</td>\n",
       "    </tr>\n",
       "    <tr>\n",
       "      <th>26</th>\n",
       "      <td>Brazil</td>\n",
       "      <td>South America</td>\n",
       "      <td>138.451183</td>\n",
       "    </tr>\n",
       "    <tr>\n",
       "      <th>40</th>\n",
       "      <td>Chile</td>\n",
       "      <td>South America</td>\n",
       "      <td>133.345192</td>\n",
       "    </tr>\n",
       "    <tr>\n",
       "      <th>42</th>\n",
       "      <td>Colombia</td>\n",
       "      <td>South America</td>\n",
       "      <td>117.804953</td>\n",
       "    </tr>\n",
       "    <tr>\n",
       "      <th>57</th>\n",
       "      <td>Ecuador</td>\n",
       "      <td>South America</td>\n",
       "      <td>104.099195</td>\n",
       "    </tr>\n",
       "    <tr>\n",
       "      <th>83</th>\n",
       "      <td>Guyana</td>\n",
       "      <td>South America</td>\n",
       "      <td>74.262490</td>\n",
       "    </tr>\n",
       "    <tr>\n",
       "      <th>153</th>\n",
       "      <td>Paraguay</td>\n",
       "      <td>South America</td>\n",
       "      <td>110.693965</td>\n",
       "    </tr>\n",
       "    <tr>\n",
       "      <th>154</th>\n",
       "      <td>Peru</td>\n",
       "      <td>South America</td>\n",
       "      <td>105.947699</td>\n",
       "    </tr>\n",
       "    <tr>\n",
       "      <th>186</th>\n",
       "      <td>Suriname</td>\n",
       "      <td>South America</td>\n",
       "      <td>167.692983</td>\n",
       "    </tr>\n",
       "    <tr>\n",
       "      <th>207</th>\n",
       "      <td>Uruguay</td>\n",
       "      <td>South America</td>\n",
       "      <td>161.658505</td>\n",
       "    </tr>\n",
       "    <tr>\n",
       "      <th>210</th>\n",
       "      <td>Venezuela, RB</td>\n",
       "      <td>South America</td>\n",
       "      <td>101.614534</td>\n",
       "    </tr>\n",
       "  </tbody>\n",
       "</table>\n",
       "</div>"
      ],
      "text/plain": [
       "      Country Name         Region  2014 [YR2014]\n",
       "7        Argentina  South America     143.615832\n",
       "23         Bolivia  South America      97.607289\n",
       "26          Brazil  South America     138.451183\n",
       "40           Chile  South America     133.345192\n",
       "42        Colombia  South America     117.804953\n",
       "57         Ecuador  South America     104.099195\n",
       "83          Guyana  South America      74.262490\n",
       "153       Paraguay  South America     110.693965\n",
       "154           Peru  South America     105.947699\n",
       "186       Suriname  South America     167.692983\n",
       "207        Uruguay  South America     161.658505\n",
       "210  Venezuela, RB  South America     101.614534"
      ]
     },
     "execution_count": 885,
     "metadata": {},
     "output_type": "execute_result"
    }
   ],
   "source": [
    "SA_mobile_without_2014 = mobile1[mobile1.Region==\"South America\"]\n",
    "SA_mobile_without_2014 = SA_mobile_without_2014[[\"Country Name\",\"Region\",\"2014 [YR2014]\"]]\n",
    "SA_mobile_without_2014"
   ]
  },
  {
   "cell_type": "code",
   "execution_count": 886,
   "id": "2cfddf02",
   "metadata": {},
   "outputs": [
    {
     "name": "stdout",
     "output_type": "stream",
     "text": [
      "Upper whisker:  194.13881896250004\n",
      "Lower Whisker:  49.08155606249997\n"
     ]
    },
    {
     "data": {
      "text/html": [
       "<div>\n",
       "<style scoped>\n",
       "    .dataframe tbody tr th:only-of-type {\n",
       "        vertical-align: middle;\n",
       "    }\n",
       "\n",
       "    .dataframe tbody tr th {\n",
       "        vertical-align: top;\n",
       "    }\n",
       "\n",
       "    .dataframe thead th {\n",
       "        text-align: right;\n",
       "    }\n",
       "</style>\n",
       "<table border=\"1\" class=\"dataframe\">\n",
       "  <thead>\n",
       "    <tr style=\"text-align: right;\">\n",
       "      <th></th>\n",
       "      <th>Country Name</th>\n",
       "      <th>Region</th>\n",
       "      <th>2014 [YR2014]</th>\n",
       "    </tr>\n",
       "  </thead>\n",
       "  <tbody>\n",
       "    <tr>\n",
       "      <th>7</th>\n",
       "      <td>Argentina</td>\n",
       "      <td>South America</td>\n",
       "      <td>143.615832</td>\n",
       "    </tr>\n",
       "    <tr>\n",
       "      <th>23</th>\n",
       "      <td>Bolivia</td>\n",
       "      <td>South America</td>\n",
       "      <td>97.607289</td>\n",
       "    </tr>\n",
       "    <tr>\n",
       "      <th>26</th>\n",
       "      <td>Brazil</td>\n",
       "      <td>South America</td>\n",
       "      <td>138.451183</td>\n",
       "    </tr>\n",
       "    <tr>\n",
       "      <th>40</th>\n",
       "      <td>Chile</td>\n",
       "      <td>South America</td>\n",
       "      <td>133.345192</td>\n",
       "    </tr>\n",
       "    <tr>\n",
       "      <th>42</th>\n",
       "      <td>Colombia</td>\n",
       "      <td>South America</td>\n",
       "      <td>117.804953</td>\n",
       "    </tr>\n",
       "    <tr>\n",
       "      <th>57</th>\n",
       "      <td>Ecuador</td>\n",
       "      <td>South America</td>\n",
       "      <td>104.099195</td>\n",
       "    </tr>\n",
       "    <tr>\n",
       "      <th>83</th>\n",
       "      <td>Guyana</td>\n",
       "      <td>South America</td>\n",
       "      <td>74.262490</td>\n",
       "    </tr>\n",
       "    <tr>\n",
       "      <th>153</th>\n",
       "      <td>Paraguay</td>\n",
       "      <td>South America</td>\n",
       "      <td>110.693965</td>\n",
       "    </tr>\n",
       "    <tr>\n",
       "      <th>154</th>\n",
       "      <td>Peru</td>\n",
       "      <td>South America</td>\n",
       "      <td>105.947699</td>\n",
       "    </tr>\n",
       "    <tr>\n",
       "      <th>186</th>\n",
       "      <td>Suriname</td>\n",
       "      <td>South America</td>\n",
       "      <td>167.692983</td>\n",
       "    </tr>\n",
       "    <tr>\n",
       "      <th>207</th>\n",
       "      <td>Uruguay</td>\n",
       "      <td>South America</td>\n",
       "      <td>161.658505</td>\n",
       "    </tr>\n",
       "    <tr>\n",
       "      <th>210</th>\n",
       "      <td>Venezuela, RB</td>\n",
       "      <td>South America</td>\n",
       "      <td>101.614534</td>\n",
       "    </tr>\n",
       "  </tbody>\n",
       "</table>\n",
       "</div>"
      ],
      "text/plain": [
       "      Country Name         Region  2014 [YR2014]\n",
       "7        Argentina  South America     143.615832\n",
       "23         Bolivia  South America      97.607289\n",
       "26          Brazil  South America     138.451183\n",
       "40           Chile  South America     133.345192\n",
       "42        Colombia  South America     117.804953\n",
       "57         Ecuador  South America     104.099195\n",
       "83          Guyana  South America      74.262490\n",
       "153       Paraguay  South America     110.693965\n",
       "154           Peru  South America     105.947699\n",
       "186       Suriname  South America     167.692983\n",
       "207        Uruguay  South America     161.658505\n",
       "210  Venezuela, RB  South America     101.614534"
      ]
     },
     "execution_count": 886,
     "metadata": {},
     "output_type": "execute_result"
    }
   ],
   "source": [
    "upper, lower = outliers(SA_mobile_without_2014, \"2014 [YR2014]\")\n",
    "print(\"Upper whisker: \", upper)\n",
    "print(\"Lower Whisker: \", lower)\n",
    "SA_mobile_without_2014 = SA_mobile_without_2014[(SA_mobile_without_2014[\"2014 [YR2014]\"] > lower) & (SA_mobile_without_2014[\"2014 [YR2014]\"] < upper)]\n",
    "SA_mobile_without_2014"
   ]
  },
  {
   "cell_type": "code",
   "execution_count": 887,
   "id": "99f9e423",
   "metadata": {},
   "outputs": [
    {
     "data": {
      "text/plain": [
       "array([[<AxesSubplot:title={'center':'2014 [YR2014]'}>]], dtype=object)"
      ]
     },
     "execution_count": 887,
     "metadata": {},
     "output_type": "execute_result"
    },
    {
     "data": {
      "image/png": "[encoded data removed]",
      "text/plain": [
       "<Figure size 432x288 with 1 Axes>"
      ]
     },
     "metadata": {
      "needs_background": "light"
     },
     "output_type": "display_data"
    }
   ],
   "source": [
    "SA_mobile_without_2014.hist()"
   ]
  },
  {
   "cell_type": "code",
   "execution_count": 888,
   "id": "cc72ad7c",
   "metadata": {},
   "outputs": [],
   "source": [
    "#Western Asia 2000 with outliers"
   ]
  },
  {
   "cell_type": "code",
   "execution_count": 889,
   "id": "ac8cf7d2",
   "metadata": {},
   "outputs": [
    {
     "data": {
      "text/plain": [
       "array([[<AxesSubplot:title={'center':'2000 [YR2000]'}>]], dtype=object)"
      ]
     },
     "execution_count": 889,
     "metadata": {},
     "output_type": "execute_result"
    },
    {
     "data": {
      "image/png": "[encoded data removed]",
      "text/plain": [
       "<Figure size 432x288 with 1 Axes>"
      ]
     },
     "metadata": {
      "needs_background": "light"
     },
     "output_type": "display_data"
    }
   ],
   "source": [
    "mobile1[mobile1.Region==\"Western Asia\"].hist(column='2000 [YR2000]')"
   ]
  },
  {
   "cell_type": "code",
   "execution_count": 890,
   "id": "5b46692f",
   "metadata": {},
   "outputs": [],
   "source": [
    "#Western Asia 2000 without outliers"
   ]
  },
  {
   "cell_type": "code",
   "execution_count": 891,
   "id": "9ff171da",
   "metadata": {},
   "outputs": [
    {
     "data": {
      "text/html": [
       "<div>\n",
       "<style scoped>\n",
       "    .dataframe tbody tr th:only-of-type {\n",
       "        vertical-align: middle;\n",
       "    }\n",
       "\n",
       "    .dataframe tbody tr th {\n",
       "        vertical-align: top;\n",
       "    }\n",
       "\n",
       "    .dataframe thead th {\n",
       "        text-align: right;\n",
       "    }\n",
       "</style>\n",
       "<table border=\"1\" class=\"dataframe\">\n",
       "  <thead>\n",
       "    <tr style=\"text-align: right;\">\n",
       "      <th></th>\n",
       "      <th>Country Name</th>\n",
       "      <th>Region</th>\n",
       "      <th>2000 [YR2000]</th>\n",
       "    </tr>\n",
       "  </thead>\n",
       "  <tbody>\n",
       "    <tr>\n",
       "      <th>8</th>\n",
       "      <td>Armenia</td>\n",
       "      <td>Western Asia</td>\n",
       "      <td>0.569652</td>\n",
       "    </tr>\n",
       "    <tr>\n",
       "      <th>12</th>\n",
       "      <td>Azerbaijan</td>\n",
       "      <td>Western Asia</td>\n",
       "      <td>5.175593</td>\n",
       "    </tr>\n",
       "    <tr>\n",
       "      <th>72</th>\n",
       "      <td>Georgia</td>\n",
       "      <td>Western Asia</td>\n",
       "      <td>4.464297</td>\n",
       "    </tr>\n",
       "    <tr>\n",
       "      <th>100</th>\n",
       "      <td>Kazakhstan</td>\n",
       "      <td>Western Asia</td>\n",
       "      <td>1.322145</td>\n",
       "    </tr>\n",
       "    <tr>\n",
       "      <th>107</th>\n",
       "      <td>Kyrgyz Republic</td>\n",
       "      <td>Western Asia</td>\n",
       "      <td>0.182900</td>\n",
       "    </tr>\n",
       "    <tr>\n",
       "      <th>190</th>\n",
       "      <td>Tajikistan</td>\n",
       "      <td>Western Asia</td>\n",
       "      <td>0.018660</td>\n",
       "    </tr>\n",
       "    <tr>\n",
       "      <th>199</th>\n",
       "      <td>Turkmenistan</td>\n",
       "      <td>Western Asia</td>\n",
       "      <td>0.166071</td>\n",
       "    </tr>\n",
       "    <tr>\n",
       "      <th>208</th>\n",
       "      <td>Uzbekistan</td>\n",
       "      <td>Western Asia</td>\n",
       "      <td>0.214486</td>\n",
       "    </tr>\n",
       "  </tbody>\n",
       "</table>\n",
       "</div>"
      ],
      "text/plain": [
       "        Country Name        Region  2000 [YR2000]\n",
       "8            Armenia  Western Asia       0.569652\n",
       "12        Azerbaijan  Western Asia       5.175593\n",
       "72           Georgia  Western Asia       4.464297\n",
       "100       Kazakhstan  Western Asia       1.322145\n",
       "107  Kyrgyz Republic  Western Asia       0.182900\n",
       "190       Tajikistan  Western Asia       0.018660\n",
       "199     Turkmenistan  Western Asia       0.166071\n",
       "208       Uzbekistan  Western Asia       0.214486"
      ]
     },
     "execution_count": 891,
     "metadata": {},
     "output_type": "execute_result"
    }
   ],
   "source": [
    "WA_mobile_without_2000 = mobile1[mobile1.Region==\"Western Asia\"]\n",
    "WA_mobile_without_2000 = WA_mobile_without_2000[[\"Country Name\",\"Region\",\"2000 [YR2000]\"]]\n",
    "WA_mobile_without_2000"
   ]
  },
  {
   "cell_type": "code",
   "execution_count": 892,
   "id": "bfead1d1",
   "metadata": {},
   "outputs": [
    {
     "name": "stdout",
     "output_type": "stream",
     "text": [
      "Upper whisker:  5.00116831275\n",
      "Lower Whisker:  -2.71479204125\n"
     ]
    },
    {
     "data": {
      "text/html": [
       "<div>\n",
       "<style scoped>\n",
       "    .dataframe tbody tr th:only-of-type {\n",
       "        vertical-align: middle;\n",
       "    }\n",
       "\n",
       "    .dataframe tbody tr th {\n",
       "        vertical-align: top;\n",
       "    }\n",
       "\n",
       "    .dataframe thead th {\n",
       "        text-align: right;\n",
       "    }\n",
       "</style>\n",
       "<table border=\"1\" class=\"dataframe\">\n",
       "  <thead>\n",
       "    <tr style=\"text-align: right;\">\n",
       "      <th></th>\n",
       "      <th>Country Name</th>\n",
       "      <th>Region</th>\n",
       "      <th>2000 [YR2000]</th>\n",
       "    </tr>\n",
       "  </thead>\n",
       "  <tbody>\n",
       "    <tr>\n",
       "      <th>8</th>\n",
       "      <td>Armenia</td>\n",
       "      <td>Western Asia</td>\n",
       "      <td>0.569652</td>\n",
       "    </tr>\n",
       "    <tr>\n",
       "      <th>72</th>\n",
       "      <td>Georgia</td>\n",
       "      <td>Western Asia</td>\n",
       "      <td>4.464297</td>\n",
       "    </tr>\n",
       "    <tr>\n",
       "      <th>100</th>\n",
       "      <td>Kazakhstan</td>\n",
       "      <td>Western Asia</td>\n",
       "      <td>1.322145</td>\n",
       "    </tr>\n",
       "    <tr>\n",
       "      <th>107</th>\n",
       "      <td>Kyrgyz Republic</td>\n",
       "      <td>Western Asia</td>\n",
       "      <td>0.182900</td>\n",
       "    </tr>\n",
       "    <tr>\n",
       "      <th>190</th>\n",
       "      <td>Tajikistan</td>\n",
       "      <td>Western Asia</td>\n",
       "      <td>0.018660</td>\n",
       "    </tr>\n",
       "    <tr>\n",
       "      <th>199</th>\n",
       "      <td>Turkmenistan</td>\n",
       "      <td>Western Asia</td>\n",
       "      <td>0.166071</td>\n",
       "    </tr>\n",
       "    <tr>\n",
       "      <th>208</th>\n",
       "      <td>Uzbekistan</td>\n",
       "      <td>Western Asia</td>\n",
       "      <td>0.214486</td>\n",
       "    </tr>\n",
       "  </tbody>\n",
       "</table>\n",
       "</div>"
      ],
      "text/plain": [
       "        Country Name        Region  2000 [YR2000]\n",
       "8            Armenia  Western Asia       0.569652\n",
       "72           Georgia  Western Asia       4.464297\n",
       "100       Kazakhstan  Western Asia       1.322145\n",
       "107  Kyrgyz Republic  Western Asia       0.182900\n",
       "190       Tajikistan  Western Asia       0.018660\n",
       "199     Turkmenistan  Western Asia       0.166071\n",
       "208       Uzbekistan  Western Asia       0.214486"
      ]
     },
     "execution_count": 892,
     "metadata": {},
     "output_type": "execute_result"
    }
   ],
   "source": [
    "upper, lower = outliers(WA_mobile_without_2000, \"2000 [YR2000]\")\n",
    "print(\"Upper whisker: \", upper)\n",
    "print(\"Lower Whisker: \", lower)\n",
    "WA_mobile_without_2000 = WA_mobile_without_2000[(WA_mobile_without_2000[\"2000 [YR2000]\"] > lower) & (WA_mobile_without_2000[\"2000 [YR2000]\"] < upper)]\n",
    "WA_mobile_without_2000"
   ]
  },
  {
   "cell_type": "code",
   "execution_count": 893,
   "id": "44906491",
   "metadata": {},
   "outputs": [
    {
     "data": {
      "text/plain": [
       "array([[<AxesSubplot:title={'center':'2000 [YR2000]'}>]], dtype=object)"
      ]
     },
     "execution_count": 893,
     "metadata": {},
     "output_type": "execute_result"
    },
    {
     "data": {
      "image/png": "[encoded data removed]",
      "text/plain": [
       "<Figure size 432x288 with 1 Axes>"
      ]
     },
     "metadata": {
      "needs_background": "light"
     },
     "output_type": "display_data"
    }
   ],
   "source": [
    "WA_mobile_without_2000.hist()"
   ]
  },
  {
   "cell_type": "code",
   "execution_count": 894,
   "id": "fa46adbb",
   "metadata": {},
   "outputs": [],
   "source": [
    "#Western Asia 2014 with outliers"
   ]
  },
  {
   "cell_type": "code",
   "execution_count": 895,
   "id": "8ab138a6",
   "metadata": {},
   "outputs": [
    {
     "data": {
      "text/plain": [
       "array([[<AxesSubplot:title={'center':'2014 [YR2014]'}>]], dtype=object)"
      ]
     },
     "execution_count": 895,
     "metadata": {},
     "output_type": "execute_result"
    },
    {
     "data": {
      "image/png": "[encoded data removed]",
      "text/plain": [
       "<Figure size 432x288 with 1 Axes>"
      ]
     },
     "metadata": {
      "needs_background": "light"
     },
     "output_type": "display_data"
    }
   ],
   "source": [
    "mobile1[mobile1.Region==\"Western Asia\"].hist(column='2014 [YR2014]')"
   ]
  },
  {
   "cell_type": "code",
   "execution_count": 896,
   "id": "5f8ac457",
   "metadata": {},
   "outputs": [],
   "source": [
    "#Western Asia 2014 without outliers"
   ]
  },
  {
   "cell_type": "code",
   "execution_count": 897,
   "id": "0af37436",
   "metadata": {},
   "outputs": [
    {
     "data": {
      "text/html": [
       "<div>\n",
       "<style scoped>\n",
       "    .dataframe tbody tr th:only-of-type {\n",
       "        vertical-align: middle;\n",
       "    }\n",
       "\n",
       "    .dataframe tbody tr th {\n",
       "        vertical-align: top;\n",
       "    }\n",
       "\n",
       "    .dataframe thead th {\n",
       "        text-align: right;\n",
       "    }\n",
       "</style>\n",
       "<table border=\"1\" class=\"dataframe\">\n",
       "  <thead>\n",
       "    <tr style=\"text-align: right;\">\n",
       "      <th></th>\n",
       "      <th>Country Name</th>\n",
       "      <th>Region</th>\n",
       "      <th>2014 [YR2014]</th>\n",
       "    </tr>\n",
       "  </thead>\n",
       "  <tbody>\n",
       "    <tr>\n",
       "      <th>8</th>\n",
       "      <td>Armenia</td>\n",
       "      <td>Western Asia</td>\n",
       "      <td>118.772363</td>\n",
       "    </tr>\n",
       "    <tr>\n",
       "      <th>12</th>\n",
       "      <td>Azerbaijan</td>\n",
       "      <td>Western Asia</td>\n",
       "      <td>111.013461</td>\n",
       "    </tr>\n",
       "    <tr>\n",
       "      <th>72</th>\n",
       "      <td>Georgia</td>\n",
       "      <td>Western Asia</td>\n",
       "      <td>133.837665</td>\n",
       "    </tr>\n",
       "    <tr>\n",
       "      <th>100</th>\n",
       "      <td>Kazakhstan</td>\n",
       "      <td>Western Asia</td>\n",
       "      <td>165.267504</td>\n",
       "    </tr>\n",
       "    <tr>\n",
       "      <th>107</th>\n",
       "      <td>Kyrgyz Republic</td>\n",
       "      <td>Western Asia</td>\n",
       "      <td>129.410601</td>\n",
       "    </tr>\n",
       "    <tr>\n",
       "      <th>190</th>\n",
       "      <td>Tajikistan</td>\n",
       "      <td>Western Asia</td>\n",
       "      <td>96.925504</td>\n",
       "    </tr>\n",
       "    <tr>\n",
       "      <th>199</th>\n",
       "      <td>Turkmenistan</td>\n",
       "      <td>Western Asia</td>\n",
       "      <td>131.827069</td>\n",
       "    </tr>\n",
       "    <tr>\n",
       "      <th>208</th>\n",
       "      <td>Uzbekistan</td>\n",
       "      <td>Western Asia</td>\n",
       "      <td>71.119845</td>\n",
       "    </tr>\n",
       "  </tbody>\n",
       "</table>\n",
       "</div>"
      ],
      "text/plain": [
       "        Country Name        Region  2014 [YR2014]\n",
       "8            Armenia  Western Asia     118.772363\n",
       "12        Azerbaijan  Western Asia     111.013461\n",
       "72           Georgia  Western Asia     133.837665\n",
       "100       Kazakhstan  Western Asia     165.267504\n",
       "107  Kyrgyz Republic  Western Asia     129.410601\n",
       "190       Tajikistan  Western Asia      96.925504\n",
       "199     Turkmenistan  Western Asia     131.827069\n",
       "208       Uzbekistan  Western Asia      71.119845"
      ]
     },
     "execution_count": 897,
     "metadata": {},
     "output_type": "execute_result"
    }
   ],
   "source": [
    "WA_mobile_without_2014 = mobile1[mobile1.Region==\"Western Asia\"]\n",
    "WA_mobile_without_2014 = WA_mobile_without_2014[[\"Country Name\",\"Region\",\"2014 [YR2014]\"]]\n",
    "WA_mobile_without_2014"
   ]
  },
  {
   "cell_type": "code",
   "execution_count": 898,
   "id": "3e66ee0d",
   "metadata": {},
   "outputs": [
    {
     "name": "stdout",
     "output_type": "stream",
     "text": [
      "Upper whisker:  169.58708725625\n",
      "Lower Whisker:  70.23410290625\n"
     ]
    },
    {
     "data": {
      "text/html": [
       "<div>\n",
       "<style scoped>\n",
       "    .dataframe tbody tr th:only-of-type {\n",
       "        vertical-align: middle;\n",
       "    }\n",
       "\n",
       "    .dataframe tbody tr th {\n",
       "        vertical-align: top;\n",
       "    }\n",
       "\n",
       "    .dataframe thead th {\n",
       "        text-align: right;\n",
       "    }\n",
       "</style>\n",
       "<table border=\"1\" class=\"dataframe\">\n",
       "  <thead>\n",
       "    <tr style=\"text-align: right;\">\n",
       "      <th></th>\n",
       "      <th>Country Name</th>\n",
       "      <th>Region</th>\n",
       "      <th>2014 [YR2014]</th>\n",
       "    </tr>\n",
       "  </thead>\n",
       "  <tbody>\n",
       "    <tr>\n",
       "      <th>8</th>\n",
       "      <td>Armenia</td>\n",
       "      <td>Western Asia</td>\n",
       "      <td>118.772363</td>\n",
       "    </tr>\n",
       "    <tr>\n",
       "      <th>12</th>\n",
       "      <td>Azerbaijan</td>\n",
       "      <td>Western Asia</td>\n",
       "      <td>111.013461</td>\n",
       "    </tr>\n",
       "    <tr>\n",
       "      <th>72</th>\n",
       "      <td>Georgia</td>\n",
       "      <td>Western Asia</td>\n",
       "      <td>133.837665</td>\n",
       "    </tr>\n",
       "    <tr>\n",
       "      <th>100</th>\n",
       "      <td>Kazakhstan</td>\n",
       "      <td>Western Asia</td>\n",
       "      <td>165.267504</td>\n",
       "    </tr>\n",
       "    <tr>\n",
       "      <th>107</th>\n",
       "      <td>Kyrgyz Republic</td>\n",
       "      <td>Western Asia</td>\n",
       "      <td>129.410601</td>\n",
       "    </tr>\n",
       "    <tr>\n",
       "      <th>190</th>\n",
       "      <td>Tajikistan</td>\n",
       "      <td>Western Asia</td>\n",
       "      <td>96.925504</td>\n",
       "    </tr>\n",
       "    <tr>\n",
       "      <th>199</th>\n",
       "      <td>Turkmenistan</td>\n",
       "      <td>Western Asia</td>\n",
       "      <td>131.827069</td>\n",
       "    </tr>\n",
       "    <tr>\n",
       "      <th>208</th>\n",
       "      <td>Uzbekistan</td>\n",
       "      <td>Western Asia</td>\n",
       "      <td>71.119845</td>\n",
       "    </tr>\n",
       "  </tbody>\n",
       "</table>\n",
       "</div>"
      ],
      "text/plain": [
       "        Country Name        Region  2014 [YR2014]\n",
       "8            Armenia  Western Asia     118.772363\n",
       "12        Azerbaijan  Western Asia     111.013461\n",
       "72           Georgia  Western Asia     133.837665\n",
       "100       Kazakhstan  Western Asia     165.267504\n",
       "107  Kyrgyz Republic  Western Asia     129.410601\n",
       "190       Tajikistan  Western Asia      96.925504\n",
       "199     Turkmenistan  Western Asia     131.827069\n",
       "208       Uzbekistan  Western Asia      71.119845"
      ]
     },
     "execution_count": 898,
     "metadata": {},
     "output_type": "execute_result"
    }
   ],
   "source": [
    "upper, lower = outliers(WA_mobile_without_2014, \"2014 [YR2014]\")\n",
    "print(\"Upper whisker: \", upper)\n",
    "print(\"Lower Whisker: \", lower)\n",
    "WA_mobile_without_2014 = WA_mobile_without_2014[(WA_mobile_without_2014[\"2014 [YR2014]\"] > lower) & (WA_mobile_without_2014[\"2014 [YR2014]\"] < upper)]\n",
    "WA_mobile_without_2014"
   ]
  },
  {
   "cell_type": "code",
   "execution_count": 899,
   "id": "10c38723",
   "metadata": {},
   "outputs": [
    {
     "data": {
      "text/plain": [
       "array([[<AxesSubplot:title={'center':'2014 [YR2014]'}>]], dtype=object)"
      ]
     },
     "execution_count": 899,
     "metadata": {},
     "output_type": "execute_result"
    },
    {
     "data": {
      "image/png": "[encoded data removed]",
      "text/plain": [
       "<Figure size 432x288 with 1 Axes>"
      ]
     },
     "metadata": {
      "needs_background": "light"
     },
     "output_type": "display_data"
    }
   ],
   "source": [
    "WA_mobile_without_2014.hist()"
   ]
  },
  {
   "cell_type": "code",
   "execution_count": null,
   "id": "64b3eb2c",
   "metadata": {},
   "outputs": [],
   "source": []
  }
 ],
 "metadata": {
  "kernelspec": {
   "display_name": "Python 3 (ipykernel)",
   "language": "python",
   "name": "python3"
  },
  "language_info": {
   "codemirror_mode": {
    "name": "ipython",
    "version": 3
   },
   "file_extension": ".py",
   "mimetype": "text/x-python",
   "name": "python",
   "nbconvert_exporter": "python",
   "pygments_lexer": "ipython3",
   "version": "3.9.7"
  }
 },
 "nbformat": 4,
 "nbformat_minor": 5
}
